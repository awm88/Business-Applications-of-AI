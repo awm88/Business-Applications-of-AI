{
  "nbformat": 4,
  "nbformat_minor": 0,
  "metadata": {
    "colab": {
      "name": "5040Assignment2.ipynb",
      "provenance": [],
      "collapsed_sections": [],
      "toc_visible": true
    },
    "kernelspec": {
      "name": "python3",
      "display_name": "Python 3"
    }
  },
  "cells": [
    {
      "cell_type": "markdown",
      "metadata": {
        "id": "sN_NVCfq5Yp0"
      },
      "source": [
        "# Q1"
      ]
    },
    {
      "cell_type": "markdown",
      "metadata": {
        "id": "mT4mN5rN88PP"
      },
      "source": [
        "## a."
      ]
    },
    {
      "cell_type": "code",
      "metadata": {
        "id": "QtUAiko75U78"
      },
      "source": [
        "%matplotlib inline\r\n",
        "\r\n",
        "from pathlib import Path\r\n",
        "import heapq\r\n",
        "from collections import defaultdict\r\n",
        "\r\n",
        "import numpy as np\r\n",
        "import pandas as pd\r\n",
        "import matplotlib.pylab as plt\r\n",
        "\r\n",
        "## you may need to install mlxtend\r\n",
        "#import sys\r\n",
        "#!{sys.executable} -m pip install mlxtend\r\n",
        "\r\n",
        "from mlxtend.frequent_patterns import apriori\r\n",
        "from mlxtend.frequent_patterns import association_rules"
      ],
      "execution_count": 61,
      "outputs": []
    },
    {
      "cell_type": "code",
      "metadata": {
        "id": "NclUIYQx6RD7"
      },
      "source": [
        "df = pd.read_csv('Coursetopics.csv')"
      ],
      "execution_count": 62,
      "outputs": []
    },
    {
      "cell_type": "markdown",
      "metadata": {
        "id": "of_QRA8wH6kp"
      },
      "source": [
        "For association rules, we considered only frequent item sets, based on the purchases of online courses. The criterion for frequency is support, i.e. the percent of purchases that include an itemset composed of courses: Intro, DataMining, Survey, Cat Data, Regression, Forecast, DOE and SW. Here, we used Apriori Algorithm to generate frequent item sets by generating all rules that meet specified minimum support."
      ]
    },
    {
      "cell_type": "code",
      "metadata": {
        "id": "f8mF_-qB9gKw"
      },
      "source": [
        "# create frequent itemsets\r\n",
        "# Considering that frequent items are not enough, use smaller min_support to generate enough rules\r\n",
        "itemsets = apriori(df , min_support =0.02, use_colnames =True)\r\n",
        "itemsets\r\n",
        "\r\n",
        "#From these item sets, we can generate rules with sufficient confidence. Noted that the minimum confidence set as 0.5.\r\n",
        "\r\n",
        "# Rules produced by apriori\r\n",
        "rules = association_rules(itemsets , metric='confidence', min_threshold = 0.5)\r\n",
        "rules.sort_values(by=['lift'], ascending=False).head(10)\r\n"
      ],
      "execution_count": null,
      "outputs": []
    },
    {
      "cell_type": "markdown",
      "metadata": {
        "id": "dXDVupYB8Cet"
      },
      "source": [
        "Considering the top 10 rules with highest lift, and its support & confidence, we come up with these best rules (antecedent -> consequent): \n",
        "\n",
        "(Regression, DataMining) -> Cat Data \n",
        "\n",
        "(Intro, DOE) -> SW \n",
        "\n",
        "(Regression, Cat Data) -> DataMining \n",
        "\n",
        "(Survey, Forecast -> Cat Data \n",
        "\n",
        "(Cat Data, Forecast) -> Survey "
      ]
    },
    {
      "cell_type": "markdown",
      "metadata": {
        "id": "_VF3xsA7Xqgv"
      },
      "source": [
        "b."
      ]
    },
    {
      "cell_type": "code",
      "metadata": {
        "id": "7j6Z-wTD7XFQ",
        "colab": {
          "base_uri": "https://localhost:8080/"
        },
        "outputId": "f8c77287-9c70-421f-e905-9df5140bce33"
      },
      "source": [
        "pip install scikit-surprise"
      ],
      "execution_count": 63,
      "outputs": [
        {
          "output_type": "stream",
          "text": [
            "Requirement already satisfied: scikit-surprise in /usr/local/lib/python3.7/dist-packages (1.1.1)\n",
            "Requirement already satisfied: six>=1.10.0 in /usr/local/lib/python3.7/dist-packages (from scikit-surprise) (1.15.0)\n",
            "Requirement already satisfied: scipy>=1.0.0 in /usr/local/lib/python3.7/dist-packages (from scikit-surprise) (1.4.1)\n",
            "Requirement already satisfied: joblib>=0.11 in /usr/local/lib/python3.7/dist-packages (from scikit-surprise) (1.0.1)\n",
            "Requirement already satisfied: numpy>=1.11.2 in /usr/local/lib/python3.7/dist-packages (from scikit-surprise) (1.19.5)\n"
          ],
          "name": "stdout"
        }
      ]
    },
    {
      "cell_type": "code",
      "metadata": {
        "id": "0Z8wnyffppoJ"
      },
      "source": [
        "from surprise import Dataset, Reader, KNNBasic\n",
        "from surprise.model_selection import train_test_split"
      ],
      "execution_count": 64,
      "outputs": []
    },
    {
      "cell_type": "code",
      "metadata": {
        "id": "uYMSvdZYps36"
      },
      "source": [
        "# find user purchased Regression and Forecast courses\n",
        "pred = df[(df['Regression']==1) & (df['Forecast']==1) & (df['Intro']==0) & (df['DataMining']==0)\n",
        "            & (df['Survey']==0) & (df['Cat Data']==0) & (df['DOE']==0) & (df['SW']==0)]\n"
      ],
      "execution_count": 65,
      "outputs": []
    },
    {
      "cell_type": "code",
      "metadata": {
        "id": "y2WNPpdDpwk_",
        "colab": {
          "base_uri": "https://localhost:8080/",
          "height": 111
        },
        "outputId": "8cf74d3e-0d70-41f7-f8b1-e7211b073e32"
      },
      "source": [
        "pred\n",
        "# users are 21 and 80"
      ],
      "execution_count": 66,
      "outputs": [
        {
          "output_type": "execute_result",
          "data": {
            "text/html": [
              "<div>\n",
              "<style scoped>\n",
              "    .dataframe tbody tr th:only-of-type {\n",
              "        vertical-align: middle;\n",
              "    }\n",
              "\n",
              "    .dataframe tbody tr th {\n",
              "        vertical-align: top;\n",
              "    }\n",
              "\n",
              "    .dataframe thead th {\n",
              "        text-align: right;\n",
              "    }\n",
              "</style>\n",
              "<table border=\"1\" class=\"dataframe\">\n",
              "  <thead>\n",
              "    <tr style=\"text-align: right;\">\n",
              "      <th></th>\n",
              "      <th>Intro</th>\n",
              "      <th>DataMining</th>\n",
              "      <th>Survey</th>\n",
              "      <th>Cat Data</th>\n",
              "      <th>Regression</th>\n",
              "      <th>Forecast</th>\n",
              "      <th>DOE</th>\n",
              "      <th>SW</th>\n",
              "    </tr>\n",
              "  </thead>\n",
              "  <tbody>\n",
              "    <tr>\n",
              "      <th>21</th>\n",
              "      <td>0</td>\n",
              "      <td>0</td>\n",
              "      <td>0</td>\n",
              "      <td>0</td>\n",
              "      <td>1</td>\n",
              "      <td>1</td>\n",
              "      <td>0</td>\n",
              "      <td>0</td>\n",
              "    </tr>\n",
              "    <tr>\n",
              "      <th>80</th>\n",
              "      <td>0</td>\n",
              "      <td>0</td>\n",
              "      <td>0</td>\n",
              "      <td>0</td>\n",
              "      <td>1</td>\n",
              "      <td>1</td>\n",
              "      <td>0</td>\n",
              "      <td>0</td>\n",
              "    </tr>\n",
              "  </tbody>\n",
              "</table>\n",
              "</div>"
            ],
            "text/plain": [
              "    Intro  DataMining  Survey  Cat Data  Regression  Forecast  DOE  SW\n",
              "21      0           0       0         0           1         1    0   0\n",
              "80      0           0       0         0           1         1    0   0"
            ]
          },
          "metadata": {
            "tags": []
          },
          "execution_count": 66
        }
      ]
    },
    {
      "cell_type": "markdown",
      "metadata": {
        "id": "3zU-lrEKJIEW"
      },
      "source": [
        "For user-based collaborative Filtering, we created rows of triplets as userID, the course ID (name of course) and if course is purchased as its rating."
      ]
    },
    {
      "cell_type": "code",
      "metadata": {
        "id": "fojI9_aYp03b"
      },
      "source": [
        "data_2 = df.stack()"
      ],
      "execution_count": 67,
      "outputs": []
    },
    {
      "cell_type": "code",
      "metadata": {
        "id": "8CpcdSJ8p3uG"
      },
      "source": [
        "data_2= data_2.reset_index()"
      ],
      "execution_count": 68,
      "outputs": []
    },
    {
      "cell_type": "code",
      "metadata": {
        "id": "yFwwoPnbp3_b",
        "colab": {
          "base_uri": "https://localhost:8080/",
          "height": 419
        },
        "outputId": "cfea919f-4af0-46d1-a4ec-87997588f9e4"
      },
      "source": [
        "data_2"
      ],
      "execution_count": 69,
      "outputs": [
        {
          "output_type": "execute_result",
          "data": {
            "text/html": [
              "<div>\n",
              "<style scoped>\n",
              "    .dataframe tbody tr th:only-of-type {\n",
              "        vertical-align: middle;\n",
              "    }\n",
              "\n",
              "    .dataframe tbody tr th {\n",
              "        vertical-align: top;\n",
              "    }\n",
              "\n",
              "    .dataframe thead th {\n",
              "        text-align: right;\n",
              "    }\n",
              "</style>\n",
              "<table border=\"1\" class=\"dataframe\">\n",
              "  <thead>\n",
              "    <tr style=\"text-align: right;\">\n",
              "      <th></th>\n",
              "      <th>level_0</th>\n",
              "      <th>level_1</th>\n",
              "      <th>0</th>\n",
              "    </tr>\n",
              "  </thead>\n",
              "  <tbody>\n",
              "    <tr>\n",
              "      <th>0</th>\n",
              "      <td>0</td>\n",
              "      <td>Intro</td>\n",
              "      <td>1</td>\n",
              "    </tr>\n",
              "    <tr>\n",
              "      <th>1</th>\n",
              "      <td>0</td>\n",
              "      <td>DataMining</td>\n",
              "      <td>1</td>\n",
              "    </tr>\n",
              "    <tr>\n",
              "      <th>2</th>\n",
              "      <td>0</td>\n",
              "      <td>Survey</td>\n",
              "      <td>0</td>\n",
              "    </tr>\n",
              "    <tr>\n",
              "      <th>3</th>\n",
              "      <td>0</td>\n",
              "      <td>Cat Data</td>\n",
              "      <td>0</td>\n",
              "    </tr>\n",
              "    <tr>\n",
              "      <th>4</th>\n",
              "      <td>0</td>\n",
              "      <td>Regression</td>\n",
              "      <td>0</td>\n",
              "    </tr>\n",
              "    <tr>\n",
              "      <th>...</th>\n",
              "      <td>...</td>\n",
              "      <td>...</td>\n",
              "      <td>...</td>\n",
              "    </tr>\n",
              "    <tr>\n",
              "      <th>2915</th>\n",
              "      <td>364</td>\n",
              "      <td>Cat Data</td>\n",
              "      <td>0</td>\n",
              "    </tr>\n",
              "    <tr>\n",
              "      <th>2916</th>\n",
              "      <td>364</td>\n",
              "      <td>Regression</td>\n",
              "      <td>1</td>\n",
              "    </tr>\n",
              "    <tr>\n",
              "      <th>2917</th>\n",
              "      <td>364</td>\n",
              "      <td>Forecast</td>\n",
              "      <td>0</td>\n",
              "    </tr>\n",
              "    <tr>\n",
              "      <th>2918</th>\n",
              "      <td>364</td>\n",
              "      <td>DOE</td>\n",
              "      <td>0</td>\n",
              "    </tr>\n",
              "    <tr>\n",
              "      <th>2919</th>\n",
              "      <td>364</td>\n",
              "      <td>SW</td>\n",
              "      <td>0</td>\n",
              "    </tr>\n",
              "  </tbody>\n",
              "</table>\n",
              "<p>2920 rows × 3 columns</p>\n",
              "</div>"
            ],
            "text/plain": [
              "      level_0     level_1  0\n",
              "0           0       Intro  1\n",
              "1           0  DataMining  1\n",
              "2           0      Survey  0\n",
              "3           0    Cat Data  0\n",
              "4           0  Regression  0\n",
              "...       ...         ... ..\n",
              "2915      364    Cat Data  0\n",
              "2916      364  Regression  1\n",
              "2917      364    Forecast  0\n",
              "2918      364         DOE  0\n",
              "2919      364          SW  0\n",
              "\n",
              "[2920 rows x 3 columns]"
            ]
          },
          "metadata": {
            "tags": []
          },
          "execution_count": 69
        }
      ]
    },
    {
      "cell_type": "code",
      "metadata": {
        "id": "b_0CWtP1p4Cv"
      },
      "source": [
        "data_2 = data_2.rename(columns={data_2.columns[0]: 'userID',data_2.columns[1]:'course',data_2.columns[2]:'purchase'})"
      ],
      "execution_count": 70,
      "outputs": []
    },
    {
      "cell_type": "code",
      "metadata": {
        "id": "6xskmmALp4F3",
        "colab": {
          "base_uri": "https://localhost:8080/",
          "height": 419
        },
        "outputId": "67c37c37-289b-4070-8e51-0214c8deccd1"
      },
      "source": [
        "data_2"
      ],
      "execution_count": 71,
      "outputs": [
        {
          "output_type": "execute_result",
          "data": {
            "text/html": [
              "<div>\n",
              "<style scoped>\n",
              "    .dataframe tbody tr th:only-of-type {\n",
              "        vertical-align: middle;\n",
              "    }\n",
              "\n",
              "    .dataframe tbody tr th {\n",
              "        vertical-align: top;\n",
              "    }\n",
              "\n",
              "    .dataframe thead th {\n",
              "        text-align: right;\n",
              "    }\n",
              "</style>\n",
              "<table border=\"1\" class=\"dataframe\">\n",
              "  <thead>\n",
              "    <tr style=\"text-align: right;\">\n",
              "      <th></th>\n",
              "      <th>userID</th>\n",
              "      <th>course</th>\n",
              "      <th>purchase</th>\n",
              "    </tr>\n",
              "  </thead>\n",
              "  <tbody>\n",
              "    <tr>\n",
              "      <th>0</th>\n",
              "      <td>0</td>\n",
              "      <td>Intro</td>\n",
              "      <td>1</td>\n",
              "    </tr>\n",
              "    <tr>\n",
              "      <th>1</th>\n",
              "      <td>0</td>\n",
              "      <td>DataMining</td>\n",
              "      <td>1</td>\n",
              "    </tr>\n",
              "    <tr>\n",
              "      <th>2</th>\n",
              "      <td>0</td>\n",
              "      <td>Survey</td>\n",
              "      <td>0</td>\n",
              "    </tr>\n",
              "    <tr>\n",
              "      <th>3</th>\n",
              "      <td>0</td>\n",
              "      <td>Cat Data</td>\n",
              "      <td>0</td>\n",
              "    </tr>\n",
              "    <tr>\n",
              "      <th>4</th>\n",
              "      <td>0</td>\n",
              "      <td>Regression</td>\n",
              "      <td>0</td>\n",
              "    </tr>\n",
              "    <tr>\n",
              "      <th>...</th>\n",
              "      <td>...</td>\n",
              "      <td>...</td>\n",
              "      <td>...</td>\n",
              "    </tr>\n",
              "    <tr>\n",
              "      <th>2915</th>\n",
              "      <td>364</td>\n",
              "      <td>Cat Data</td>\n",
              "      <td>0</td>\n",
              "    </tr>\n",
              "    <tr>\n",
              "      <th>2916</th>\n",
              "      <td>364</td>\n",
              "      <td>Regression</td>\n",
              "      <td>1</td>\n",
              "    </tr>\n",
              "    <tr>\n",
              "      <th>2917</th>\n",
              "      <td>364</td>\n",
              "      <td>Forecast</td>\n",
              "      <td>0</td>\n",
              "    </tr>\n",
              "    <tr>\n",
              "      <th>2918</th>\n",
              "      <td>364</td>\n",
              "      <td>DOE</td>\n",
              "      <td>0</td>\n",
              "    </tr>\n",
              "    <tr>\n",
              "      <th>2919</th>\n",
              "      <td>364</td>\n",
              "      <td>SW</td>\n",
              "      <td>0</td>\n",
              "    </tr>\n",
              "  </tbody>\n",
              "</table>\n",
              "<p>2920 rows × 3 columns</p>\n",
              "</div>"
            ],
            "text/plain": [
              "      userID      course  purchase\n",
              "0          0       Intro         1\n",
              "1          0  DataMining         1\n",
              "2          0      Survey         0\n",
              "3          0    Cat Data         0\n",
              "4          0  Regression         0\n",
              "...      ...         ...       ...\n",
              "2915     364    Cat Data         0\n",
              "2916     364  Regression         1\n",
              "2917     364    Forecast         0\n",
              "2918     364         DOE         0\n",
              "2919     364          SW         0\n",
              "\n",
              "[2920 rows x 3 columns]"
            ]
          },
          "metadata": {
            "tags": []
          },
          "execution_count": 71
        }
      ]
    },
    {
      "cell_type": "markdown",
      "metadata": {
        "id": "Kj9jMaviG8cz"
      },
      "source": [
        "Because we used index from original dataset as the userID in new dataset, based on previous analysis, user 21 should have purchased Regression and Forecast courses."
      ]
    },
    {
      "cell_type": "code",
      "metadata": {
        "id": "MNkTMJrJp4IT"
      },
      "source": [
        "test = data_2[data_2['userID']==21]"
      ],
      "execution_count": 72,
      "outputs": []
    },
    {
      "cell_type": "code",
      "metadata": {
        "id": "eB-2rGntqLSY"
      },
      "source": [
        "test"
      ],
      "execution_count": null,
      "outputs": []
    },
    {
      "cell_type": "code",
      "metadata": {
        "id": "czHaNPrLHIZS",
        "colab": {
          "base_uri": "https://localhost:8080/",
          "height": 669
        },
        "outputId": "f0e385ab-1925-4ddf-b650-06223f6e25e7"
      },
      "source": [
        "data_2.head(20)"
      ],
      "execution_count": 73,
      "outputs": [
        {
          "output_type": "execute_result",
          "data": {
            "text/html": [
              "<div>\n",
              "<style scoped>\n",
              "    .dataframe tbody tr th:only-of-type {\n",
              "        vertical-align: middle;\n",
              "    }\n",
              "\n",
              "    .dataframe tbody tr th {\n",
              "        vertical-align: top;\n",
              "    }\n",
              "\n",
              "    .dataframe thead th {\n",
              "        text-align: right;\n",
              "    }\n",
              "</style>\n",
              "<table border=\"1\" class=\"dataframe\">\n",
              "  <thead>\n",
              "    <tr style=\"text-align: right;\">\n",
              "      <th></th>\n",
              "      <th>userID</th>\n",
              "      <th>course</th>\n",
              "      <th>purchase</th>\n",
              "    </tr>\n",
              "  </thead>\n",
              "  <tbody>\n",
              "    <tr>\n",
              "      <th>0</th>\n",
              "      <td>0</td>\n",
              "      <td>Intro</td>\n",
              "      <td>1</td>\n",
              "    </tr>\n",
              "    <tr>\n",
              "      <th>1</th>\n",
              "      <td>0</td>\n",
              "      <td>DataMining</td>\n",
              "      <td>1</td>\n",
              "    </tr>\n",
              "    <tr>\n",
              "      <th>2</th>\n",
              "      <td>0</td>\n",
              "      <td>Survey</td>\n",
              "      <td>0</td>\n",
              "    </tr>\n",
              "    <tr>\n",
              "      <th>3</th>\n",
              "      <td>0</td>\n",
              "      <td>Cat Data</td>\n",
              "      <td>0</td>\n",
              "    </tr>\n",
              "    <tr>\n",
              "      <th>4</th>\n",
              "      <td>0</td>\n",
              "      <td>Regression</td>\n",
              "      <td>0</td>\n",
              "    </tr>\n",
              "    <tr>\n",
              "      <th>5</th>\n",
              "      <td>0</td>\n",
              "      <td>Forecast</td>\n",
              "      <td>0</td>\n",
              "    </tr>\n",
              "    <tr>\n",
              "      <th>6</th>\n",
              "      <td>0</td>\n",
              "      <td>DOE</td>\n",
              "      <td>0</td>\n",
              "    </tr>\n",
              "    <tr>\n",
              "      <th>7</th>\n",
              "      <td>0</td>\n",
              "      <td>SW</td>\n",
              "      <td>0</td>\n",
              "    </tr>\n",
              "    <tr>\n",
              "      <th>8</th>\n",
              "      <td>1</td>\n",
              "      <td>Intro</td>\n",
              "      <td>0</td>\n",
              "    </tr>\n",
              "    <tr>\n",
              "      <th>9</th>\n",
              "      <td>1</td>\n",
              "      <td>DataMining</td>\n",
              "      <td>0</td>\n",
              "    </tr>\n",
              "    <tr>\n",
              "      <th>10</th>\n",
              "      <td>1</td>\n",
              "      <td>Survey</td>\n",
              "      <td>1</td>\n",
              "    </tr>\n",
              "    <tr>\n",
              "      <th>11</th>\n",
              "      <td>1</td>\n",
              "      <td>Cat Data</td>\n",
              "      <td>0</td>\n",
              "    </tr>\n",
              "    <tr>\n",
              "      <th>12</th>\n",
              "      <td>1</td>\n",
              "      <td>Regression</td>\n",
              "      <td>0</td>\n",
              "    </tr>\n",
              "    <tr>\n",
              "      <th>13</th>\n",
              "      <td>1</td>\n",
              "      <td>Forecast</td>\n",
              "      <td>0</td>\n",
              "    </tr>\n",
              "    <tr>\n",
              "      <th>14</th>\n",
              "      <td>1</td>\n",
              "      <td>DOE</td>\n",
              "      <td>0</td>\n",
              "    </tr>\n",
              "    <tr>\n",
              "      <th>15</th>\n",
              "      <td>1</td>\n",
              "      <td>SW</td>\n",
              "      <td>0</td>\n",
              "    </tr>\n",
              "    <tr>\n",
              "      <th>16</th>\n",
              "      <td>2</td>\n",
              "      <td>Intro</td>\n",
              "      <td>0</td>\n",
              "    </tr>\n",
              "    <tr>\n",
              "      <th>17</th>\n",
              "      <td>2</td>\n",
              "      <td>DataMining</td>\n",
              "      <td>1</td>\n",
              "    </tr>\n",
              "    <tr>\n",
              "      <th>18</th>\n",
              "      <td>2</td>\n",
              "      <td>Survey</td>\n",
              "      <td>0</td>\n",
              "    </tr>\n",
              "    <tr>\n",
              "      <th>19</th>\n",
              "      <td>2</td>\n",
              "      <td>Cat Data</td>\n",
              "      <td>1</td>\n",
              "    </tr>\n",
              "  </tbody>\n",
              "</table>\n",
              "</div>"
            ],
            "text/plain": [
              "    userID      course  purchase\n",
              "0        0       Intro         1\n",
              "1        0  DataMining         1\n",
              "2        0      Survey         0\n",
              "3        0    Cat Data         0\n",
              "4        0  Regression         0\n",
              "5        0    Forecast         0\n",
              "6        0         DOE         0\n",
              "7        0          SW         0\n",
              "8        1       Intro         0\n",
              "9        1  DataMining         0\n",
              "10       1      Survey         1\n",
              "11       1    Cat Data         0\n",
              "12       1  Regression         0\n",
              "13       1    Forecast         0\n",
              "14       1         DOE         0\n",
              "15       1          SW         0\n",
              "16       2       Intro         0\n",
              "17       2  DataMining         1\n",
              "18       2      Survey         0\n",
              "19       2    Cat Data         1"
            ]
          },
          "metadata": {
            "tags": []
          },
          "execution_count": 73
        }
      ]
    },
    {
      "cell_type": "code",
      "metadata": {
        "id": "bwXNj81dqLbz"
      },
      "source": [
        "# Convert the data set into the format required by the surprise package\n",
        "# Use the range from 0 to 1\n",
        "\n",
        "reader = Reader(rating_scale =(0,1))\n",
        "data =Dataset.load_from_df(data_2[['userID', 'course', 'purchase']],reader)\n",
        "# Split into training and test set\n",
        "trainset = data.build_full_trainset()"
      ],
      "execution_count": 75,
      "outputs": []
    },
    {
      "cell_type": "markdown",
      "metadata": {
        "id": "QERc5DrLHUrx"
      },
      "source": [
        "Use the similarity info to make recommendations"
      ]
    },
    {
      "cell_type": "code",
      "metadata": {
        "id": "GYLyzKNMqLhu",
        "colab": {
          "base_uri": "https://localhost:8080/"
        },
        "outputId": "c59dbed5-7c66-4df9-bf67-901ed0be75dd"
      },
      "source": [
        "## User-based filtering\n",
        "# compute cosine similarity between users\n",
        "sim_options= {'name': 'cosine', 'user_based':True}\n",
        "algo = KNNBasic(sim_options = sim_options)\n",
        "algo.fit(trainset)"
      ],
      "execution_count": 76,
      "outputs": [
        {
          "output_type": "stream",
          "text": [
            "Computing the cosine similarity matrix...\n",
            "Done computing similarity matrix.\n"
          ],
          "name": "stdout"
        },
        {
          "output_type": "stream",
          "text": [
            "/usr/local/lib/python3.7/dist-packages/surprise/prediction_algorithms/algo_base.py:249: RuntimeWarning: invalid value encountered in double_scalars\n",
            "  sim = construction_func[name](*args)\n"
          ],
          "name": "stderr"
        },
        {
          "output_type": "execute_result",
          "data": {
            "text/plain": [
              "<surprise.prediction_algorithms.knns.KNNBasic at 0x7fa2cb9b6790>"
            ]
          },
          "metadata": {
            "tags": []
          },
          "execution_count": 76
        }
      ]
    },
    {
      "cell_type": "markdown",
      "metadata": {
        "id": "lLmdELBXHfMg"
      },
      "source": [
        "For a new user, find other users who share his/her preferences (user 21), recommend the highest rated item that new user does not have."
      ]
    },
    {
      "cell_type": "code",
      "metadata": {
        "id": "OudFwTi3qX4K",
        "colab": {
          "base_uri": "https://localhost:8080/"
        },
        "outputId": "5c86c249-01c8-4bd0-dce5-c2960b2cd87c"
      },
      "source": [
        "# Assuming that userID=21 is a new user, who has purchased Regression and Forecast courses\n",
        "print('Intro:', algo.predict(21,'Intro').est,\n",
        "'DataMining:',algo.predict(21,'DataMining').est,\n",
        "'Survey:',algo.predict(21,'Survey').est,\n",
        "'Cat Data:',algo.predict(21,'Cat Data').est,\n",
        "'DOE:',algo.predict(21,'DOE').est,\n",
        "'SW:',algo.predict(21,'SW').est)"
      ],
      "execution_count": 77,
      "outputs": [
        {
          "output_type": "stream",
          "text": [
            "Intro: 0.0965082604954195 DataMining: 0.10024073045959112 Survey: 0 Cat Data: 0.07611366533573624 DOE: 0.02785953508802649 SW: 0.05198660021188137\n"
          ],
          "name": "stdout"
        }
      ]
    },
    {
      "cell_type": "markdown",
      "metadata": {
        "id": "HU39K6ju7ntj"
      },
      "source": [
        "Based on the rating, the best item with the highest rating is DataMining. Therefore, the recommendation for the new user is DataMining. All recommendations will be 1 because we created the rating from 0 to 1 based on the binary variable 'purchase?', i.e. if purchase is 1 or 0."
      ]
    },
    {
      "cell_type": "markdown",
      "metadata": {
        "id": "zpePvU6NWcTx"
      },
      "source": [
        "# Q2"
      ]
    },
    {
      "cell_type": "code",
      "metadata": {
        "id": "UEaxPfqyRqSE"
      },
      "source": [
        "%matplotlib inline\n",
        "\n",
        "from pathlib import Path\n",
        "\n",
        "import pandas as pd\n",
        "from sklearn import preprocessing\n",
        "from sklearn.metrics import pairwise\n",
        "from scipy.cluster.hierarchy import dendrogram, linkage, fcluster\n",
        "from sklearn.cluster import KMeans\n",
        "import matplotlib.pylab as plt\n",
        "import seaborn as sns\n",
        "from pandas.plotting import parallel_coordinates"
      ],
      "execution_count": 78,
      "outputs": []
    },
    {
      "cell_type": "code",
      "metadata": {
        "id": "lHA_PRGTSNYt"
      },
      "source": [
        "data_df = pd.read_csv('Pharmaceuticals.csv')\n",
        "data_df.set_index('Symbol', inplace=True)\n",
        "data_df = data_df[['Market_Cap', 'Beta', 'PE_Ratio', 'ROE', 'ROA',\n",
        "       'Asset_Turnover', 'Leverage', 'Rev_Growth', 'Net_Profit_Margin']]\n",
        "data_df = data_df.apply(lambda x: x.astype('float64'))"
      ],
      "execution_count": 79,
      "outputs": []
    },
    {
      "cell_type": "code",
      "metadata": {
        "id": "FxRNLfk3SiFU"
      },
      "source": [
        "data_df_norm = data_df.apply(preprocessing.scale, axis=0)"
      ],
      "execution_count": 80,
      "outputs": []
    },
    {
      "cell_type": "code",
      "metadata": {
        "id": "AQ9ZiL7EUodx",
        "colab": {
          "base_uri": "https://localhost:8080/",
          "height": 255
        },
        "outputId": "1b4349c3-ecbb-4b1e-b0f2-7ec0bdea245f"
      },
      "source": [
        "d_norm = pairwise.pairwise_distances(data_df_norm, metric='euclidean')\n",
        "pd.DataFrame(d_norm, columns=data_df_norm.index, index=data_df_norm.index).head(5)"
      ],
      "execution_count": 81,
      "outputs": [
        {
          "output_type": "execute_result",
          "data": {
            "text/html": [
              "<div>\n",
              "<style scoped>\n",
              "    .dataframe tbody tr th:only-of-type {\n",
              "        vertical-align: middle;\n",
              "    }\n",
              "\n",
              "    .dataframe tbody tr th {\n",
              "        vertical-align: top;\n",
              "    }\n",
              "\n",
              "    .dataframe thead th {\n",
              "        text-align: right;\n",
              "    }\n",
              "</style>\n",
              "<table border=\"1\" class=\"dataframe\">\n",
              "  <thead>\n",
              "    <tr style=\"text-align: right;\">\n",
              "      <th>Symbol</th>\n",
              "      <th>ABT</th>\n",
              "      <th>AGN</th>\n",
              "      <th>AHM</th>\n",
              "      <th>AZN</th>\n",
              "      <th>AVE</th>\n",
              "      <th>BAY</th>\n",
              "      <th>BMY</th>\n",
              "      <th>CHTT</th>\n",
              "      <th>ELN</th>\n",
              "      <th>LLY</th>\n",
              "      <th>GSK</th>\n",
              "      <th>IVX</th>\n",
              "      <th>JNJ</th>\n",
              "      <th>MRX</th>\n",
              "      <th>MRK</th>\n",
              "      <th>NVS</th>\n",
              "      <th>PFE</th>\n",
              "      <th>PHA</th>\n",
              "      <th>SGP</th>\n",
              "      <th>WPI</th>\n",
              "      <th>WYE</th>\n",
              "    </tr>\n",
              "    <tr>\n",
              "      <th>Symbol</th>\n",
              "      <th></th>\n",
              "      <th></th>\n",
              "      <th></th>\n",
              "      <th></th>\n",
              "      <th></th>\n",
              "      <th></th>\n",
              "      <th></th>\n",
              "      <th></th>\n",
              "      <th></th>\n",
              "      <th></th>\n",
              "      <th></th>\n",
              "      <th></th>\n",
              "      <th></th>\n",
              "      <th></th>\n",
              "      <th></th>\n",
              "      <th></th>\n",
              "      <th></th>\n",
              "      <th></th>\n",
              "      <th></th>\n",
              "      <th></th>\n",
              "      <th></th>\n",
              "    </tr>\n",
              "  </thead>\n",
              "  <tbody>\n",
              "    <tr>\n",
              "      <th>ABT</th>\n",
              "      <td>0.000000</td>\n",
              "      <td>4.524618</td>\n",
              "      <td>2.068648</td>\n",
              "      <td>1.710771</td>\n",
              "      <td>2.164139e+00</td>\n",
              "      <td>4.806057</td>\n",
              "      <td>1.850131</td>\n",
              "      <td>5.144714</td>\n",
              "      <td>5.022175</td>\n",
              "      <td>1.457814</td>\n",
              "      <td>3.781028</td>\n",
              "      <td>2.689547</td>\n",
              "      <td>2.391509</td>\n",
              "      <td>4.017109</td>\n",
              "      <td>2.746934</td>\n",
              "      <td>1.970213</td>\n",
              "      <td>3.983231</td>\n",
              "      <td>2.980819</td>\n",
              "      <td>1.345014</td>\n",
              "      <td>2.953797</td>\n",
              "      <td>3.113586</td>\n",
              "    </tr>\n",
              "    <tr>\n",
              "      <th>AGN</th>\n",
              "      <td>4.524618</td>\n",
              "      <td>0.000000</td>\n",
              "      <td>4.043186</td>\n",
              "      <td>5.030808</td>\n",
              "      <td>4.757351e+00</td>\n",
              "      <td>4.973768</td>\n",
              "      <td>5.553321</td>\n",
              "      <td>5.750821</td>\n",
              "      <td>6.860601</td>\n",
              "      <td>5.267192</td>\n",
              "      <td>6.914426</td>\n",
              "      <td>4.580415</td>\n",
              "      <td>5.449269</td>\n",
              "      <td>5.614386</td>\n",
              "      <td>5.578355</td>\n",
              "      <td>5.603897</td>\n",
              "      <td>7.077392</td>\n",
              "      <td>2.426388</td>\n",
              "      <td>4.842078</td>\n",
              "      <td>5.130736</td>\n",
              "      <td>6.605654</td>\n",
              "    </tr>\n",
              "    <tr>\n",
              "      <th>AHM</th>\n",
              "      <td>2.068648</td>\n",
              "      <td>4.043186</td>\n",
              "      <td>0.000000</td>\n",
              "      <td>2.422635</td>\n",
              "      <td>2.548593e+00</td>\n",
              "      <td>3.726153</td>\n",
              "      <td>2.665217</td>\n",
              "      <td>4.877898</td>\n",
              "      <td>4.811808</td>\n",
              "      <td>3.318325</td>\n",
              "      <td>5.025734</td>\n",
              "      <td>2.373755</td>\n",
              "      <td>3.682513</td>\n",
              "      <td>4.222306</td>\n",
              "      <td>3.445005</td>\n",
              "      <td>3.414021</td>\n",
              "      <td>5.398973</td>\n",
              "      <td>2.997876</td>\n",
              "      <td>1.746806</td>\n",
              "      <td>3.016647</td>\n",
              "      <td>4.288958</td>\n",
              "    </tr>\n",
              "    <tr>\n",
              "      <th>AZN</th>\n",
              "      <td>1.710771</td>\n",
              "      <td>5.030808</td>\n",
              "      <td>2.422635</td>\n",
              "      <td>0.000000</td>\n",
              "      <td>2.697286e+00</td>\n",
              "      <td>5.190658</td>\n",
              "      <td>1.611417</td>\n",
              "      <td>5.860410</td>\n",
              "      <td>5.097367</td>\n",
              "      <td>2.465366</td>\n",
              "      <td>3.030529</td>\n",
              "      <td>3.363249</td>\n",
              "      <td>2.006687</td>\n",
              "      <td>4.374660</td>\n",
              "      <td>1.905195</td>\n",
              "      <td>3.131669</td>\n",
              "      <td>3.186200</td>\n",
              "      <td>3.807570</td>\n",
              "      <td>1.107202</td>\n",
              "      <td>3.498439</td>\n",
              "      <td>3.407076</td>\n",
              "    </tr>\n",
              "    <tr>\n",
              "      <th>AVE</th>\n",
              "      <td>2.164139</td>\n",
              "      <td>4.757351</td>\n",
              "      <td>2.548593</td>\n",
              "      <td>2.697286</td>\n",
              "      <td>2.980232e-08</td>\n",
              "      <td>4.882317</td>\n",
              "      <td>3.484580</td>\n",
              "      <td>5.222098</td>\n",
              "      <td>3.841354</td>\n",
              "      <td>2.982647</td>\n",
              "      <td>4.587243</td>\n",
              "      <td>2.445794</td>\n",
              "      <td>3.730682</td>\n",
              "      <td>2.999547</td>\n",
              "      <td>3.558161</td>\n",
              "      <td>3.413135</td>\n",
              "      <td>4.606252</td>\n",
              "      <td>2.785574</td>\n",
              "      <td>2.525725</td>\n",
              "      <td>1.328568</td>\n",
              "      <td>4.359629</td>\n",
              "    </tr>\n",
              "  </tbody>\n",
              "</table>\n",
              "</div>"
            ],
            "text/plain": [
              "Symbol       ABT       AGN       AHM  ...       SGP       WPI       WYE\n",
              "Symbol                                ...                              \n",
              "ABT     0.000000  4.524618  2.068648  ...  1.345014  2.953797  3.113586\n",
              "AGN     4.524618  0.000000  4.043186  ...  4.842078  5.130736  6.605654\n",
              "AHM     2.068648  4.043186  0.000000  ...  1.746806  3.016647  4.288958\n",
              "AZN     1.710771  5.030808  2.422635  ...  1.107202  3.498439  3.407076\n",
              "AVE     2.164139  4.757351  2.548593  ...  2.525725  1.328568  4.359629\n",
              "\n",
              "[5 rows x 21 columns]"
            ]
          },
          "metadata": {
            "tags": []
          },
          "execution_count": 81
        }
      ]
    },
    {
      "cell_type": "markdown",
      "metadata": {
        "id": "HTN7FUCXVJv7"
      },
      "source": [
        "**Single Linkage**"
      ]
    },
    {
      "cell_type": "code",
      "metadata": {
        "id": "ciaOzqTfU-g7",
        "colab": {
          "base_uri": "https://localhost:8080/",
          "height": 374
        },
        "outputId": "155a592c-df19-4f53-aed5-297cfb26715a"
      },
      "source": [
        "Z = linkage(data_df_norm, method='single')\n",
        "\n",
        "fig = plt.figure(figsize=(10, 6))\n",
        "fig.subplots_adjust(bottom=0.23)\n",
        "plt.title('Hierarchical Clustering Dendrogram (Single linkage)')\n",
        "plt.xlabel('Company')\n",
        "dendrogram(Z, labels=data_df_norm.index, color_threshold=2)\n",
        "plt.axhline(y=2, color='black', linewidth=0.5, linestyle='dashed')\n",
        "plt.show()"
      ],
      "execution_count": 82,
      "outputs": [
        {
          "output_type": "display_data",
          "data": {
            "image/png": "[encoded data removed]",
            "text/plain": [
              "<Figure size 720x432 with 1 Axes>"
            ]
          },
          "metadata": {
            "tags": [],
            "needs_background": "light"
          }
        }
      ]
    },
    {
      "cell_type": "code",
      "metadata": {
        "id": "oWq9GD4CXwZ6",
        "colab": {
          "base_uri": "https://localhost:8080/"
        },
        "outputId": "aa16d244-5d5c-4a86-f72b-e32df33b46ae"
      },
      "source": [
        "## Single Linkage (Minimum distance)\n",
        "memb = fcluster(linkage(data_df_norm, 'single'), 5, criterion='maxclust')\n",
        "memb = pd.Series(memb, index=data_df_norm.index)\n",
        "print('\\033[1m'+'Single linkage cluster membership:'+'\\033[0m') # prefix and suffix for 'bold' print\n",
        "for key, item in memb.groupby(memb):\n",
        "    print(key, ': ', ', '.join(item.index))\n",
        "\n",
        "print('silhouette score:'+str(silhouette_score(data_df_norm,labels=memb)))"
      ],
      "execution_count": 83,
      "outputs": [
        {
          "output_type": "stream",
          "text": [
            "\u001b[1mSingle linkage cluster membership:\u001b[0m\n",
            "1 :  AGN, PHA\n",
            "2 :  ELN, MRX\n",
            "3 :  ABT, AHM, AZN, AVE, BMY, LLY, GSK, IVX, JNJ, MRK, NVS, PFE, SGP, WPI, WYE\n",
            "4 :  CHTT\n",
            "5 :  BAY\n",
            "silhouette score:0.2708859373526622\n"
          ],
          "name": "stdout"
        }
      ]
    },
    {
      "cell_type": "code",
      "metadata": {
        "id": "LRjoKFlVpMxj",
        "colab": {
          "base_uri": "https://localhost:8080/",
          "height": 279
        },
        "outputId": "425daa3a-76a2-474c-d539-545f2d16d6a8"
      },
      "source": [
        "inertia = []\n",
        "for n_clusters in range(2, 10):\n",
        "  memb = fcluster(linkage(data_df_norm, 'single'), n_clusters, criterion='maxclust')\n",
        "  inertia.append(silhouette_score(data_df_norm,labels=memb))\n",
        "inertias = pd.DataFrame({'n_clusters': range(2, 10), 'silhouette': inertia})\n",
        "ax = inertias.plot(x='n_clusters', y='silhouette')\n",
        "plt.xlabel('Number of clusters(k)')\n",
        "plt.ylabel('Average Within-Cluster Squared Distances')\n",
        "plt.ylim((0, 1.1 * inertias.silhouette.max()))\n",
        "ax.legend().set_visible(False)\n",
        "plt.show()"
      ],
      "execution_count": 84,
      "outputs": [
        {
          "output_type": "display_data",
          "data": {
            "image/png": "[encoded data removed]",
            "text/plain": [
              "<Figure size 432x288 with 1 Axes>"
            ]
          },
          "metadata": {
            "tags": [],
            "needs_background": "light"
          }
        }
      ]
    },
    {
      "cell_type": "markdown",
      "metadata": {
        "id": "_9L-ddGEWIIx"
      },
      "source": [
        "**Average Linkage**"
      ]
    },
    {
      "cell_type": "code",
      "metadata": {
        "id": "nN2rfo_yWKZ4",
        "colab": {
          "base_uri": "https://localhost:8080/",
          "height": 374
        },
        "outputId": "e673c748-e39d-4400-b59f-ca2c5fa7aef2"
      },
      "source": [
        "Z = linkage(data_df_norm, method='average')\n",
        "\n",
        "fig = plt.figure(figsize=(10, 6))\n",
        "fig.subplots_adjust(bottom=0.23)\n",
        "plt.title('Hierarchical Clustering Dendrogram (Average linkage)')\n",
        "plt.xlabel('Company')\n",
        "dendrogram(Z, labels=data_df_norm.index, color_threshold=3.8)\n",
        "plt.axhline(y=3.8, color='black', linewidth=0.5, linestyle='dashed')\n",
        "plt.show()"
      ],
      "execution_count": 85,
      "outputs": [
        {
          "output_type": "display_data",
          "data": {
            "image/png": "[encoded data removed]",
            "text/plain": [
              "<Figure size 720x432 with 1 Axes>"
            ]
          },
          "metadata": {
            "tags": [],
            "needs_background": "light"
          }
        }
      ]
    },
    {
      "cell_type": "code",
      "metadata": {
        "id": "jbOCEFPqX5vQ",
        "colab": {
          "base_uri": "https://localhost:8080/"
        },
        "outputId": "bcdb5178-af7d-4bf8-8200-badf20316aad"
      },
      "source": [
        "memb = fcluster(linkage(data_df_norm, 'average'), 5, criterion='maxclust')\n",
        "memb = pd.Series(memb, index=data_df_norm.index)\n",
        "print('\\033[1m'+'Average linkage cluster membership:'+'\\033[0m')\n",
        "for key, item in memb.groupby(memb):\n",
        "    print(key, ': ', ', '.join(item.index))\n",
        "  \n",
        "print('silhouette score:'+str(silhouette_score(data_df_norm,labels=memb)))"
      ],
      "execution_count": 86,
      "outputs": [
        {
          "output_type": "stream",
          "text": [
            "\u001b[1mAverage linkage cluster membership:\u001b[0m\n",
            "1 :  ELN, MRX\n",
            "2 :  CHTT\n",
            "3 :  ABT, AHM, AZN, AVE, BMY, LLY, GSK, IVX, JNJ, MRK, NVS, PFE, SGP, WPI, WYE\n",
            "4 :  AGN, PHA\n",
            "5 :  BAY\n",
            "silhouette score:0.2708859373526622\n"
          ],
          "name": "stdout"
        }
      ]
    },
    {
      "cell_type": "code",
      "metadata": {
        "id": "YMENbqh9pFsg",
        "colab": {
          "base_uri": "https://localhost:8080/",
          "height": 282
        },
        "outputId": "ef941a7e-0d6e-4ab6-99e5-dc7893a4bea5"
      },
      "source": [
        "inertia = []\n",
        "for n_clusters in range(2, 10):\n",
        "  memb = fcluster(linkage(data_df_norm, 'average'), n_clusters, criterion='maxclust')\n",
        "  inertia.append(silhouette_score(data_df_norm,labels=memb))\n",
        "inertias = pd.DataFrame({'n_clusters': range(2, 10), 'silhouette': inertia})\n",
        "ax = inertias.plot(x='n_clusters', y='silhouette')\n",
        "plt.xlabel('Number of clusters(k)')\n",
        "plt.ylabel('Average Within-Cluster Squared Distances')\n",
        "plt.ylim((0, 1.1 * inertias.silhouette.max()))\n",
        "ax.legend().set_visible(False)\n",
        "plt.show()\n"
      ],
      "execution_count": 87,
      "outputs": [
        {
          "output_type": "display_data",
          "data": {
            "image/png": "[encoded data removed]",
            "text/plain": [
              "<Figure size 432x288 with 1 Axes>"
            ]
          },
          "metadata": {
            "tags": [],
            "needs_background": "light"
          }
        }
      ]
    },
    {
      "cell_type": "markdown",
      "metadata": {
        "id": "aI-caHKPWu6U"
      },
      "source": [
        "**Complete Linkage**"
      ]
    },
    {
      "cell_type": "code",
      "metadata": {
        "id": "iYKlVE0NWw5g"
      },
      "source": [
        "Z = linkage(data_df_norm, method='complete')\n",
        "\n",
        "fig = plt.figure(figsize=(10, 6))\n",
        "fig.subplots_adjust(bottom=0.23)\n",
        "plt.title('Hierarchical Clustering Dendrogram (Complete linkage)')\n",
        "plt.xlabel('Company')\n",
        "dendrogram(Z, labels=data_df_norm.index, color_threshold=4.9)\n",
        "plt.axhline(y=4.9, color='black', linewidth=0.5, linestyle='dashed')\n",
        "plt.show()"
      ],
      "execution_count": null,
      "outputs": []
    },
    {
      "cell_type": "code",
      "metadata": {
        "id": "pw6dUerSYxsh"
      },
      "source": [
        "memb = fcluster(linkage(data_df_norm, 'complete'), 3, criterion='maxclust')\n",
        "memb = pd.Series(memb, index=data_df_norm.index)\n",
        "print('\\033[1m'+'Complete linkage cluster membership:'+'\\033[0m')\n",
        "for key, item in memb.groupby(memb):\n",
        "    print(key, ': ', ', '.join(item.index))\n",
        "print('silhouette score:'+str(silhouette_score(data_df_norm,labels=memb)))"
      ],
      "execution_count": null,
      "outputs": []
    },
    {
      "cell_type": "code",
      "metadata": {
        "id": "RdofRPrOoNWR"
      },
      "source": [
        "inertia = []\n",
        "for n_clusters in range(2, 10):\n",
        "  memb = fcluster(linkage(data_df_norm, 'complete'), n_clusters, criterion='maxclust')\n",
        "  inertia.append(silhouette_score(data_df_norm,labels=memb))\n",
        "inertias = pd.DataFrame({'n_clusters': range(2, 10), 'silhouette': inertia})\n",
        "ax = inertias.plot(x='n_clusters', y='silhouette')\n",
        "plt.xlabel('Number of clusters(k)')\n",
        "plt.ylabel('Average Within-Cluster Squared Distances')\n",
        "plt.ylim((0, 1.1 * inertias.silhouette.max()))\n",
        "ax.legend().set_visible(False)\n",
        "plt.show()"
      ],
      "execution_count": null,
      "outputs": []
    },
    {
      "cell_type": "markdown",
      "metadata": {
        "id": "4wK011R3ho-j"
      },
      "source": [
        "**Centroid Distance**"
      ]
    },
    {
      "cell_type": "code",
      "metadata": {
        "id": "LCeoCGTHhnFN",
        "colab": {
          "base_uri": "https://localhost:8080/",
          "height": 374
        },
        "outputId": "66f61097-0bc1-4831-e5d3-7a74b2848694"
      },
      "source": [
        "Z = linkage(data_df_norm, method='centroid')\n",
        "\n",
        "fig = plt.figure(figsize=(10, 6))\n",
        "fig.subplots_adjust(bottom=0.23)\n",
        "plt.title('Hierarchical Clustering Dendrogram (centroid linkage)')\n",
        "plt.xlabel('Company')\n",
        "dendrogram(Z, labels=data_df_norm.index, color_threshold=2.65)\n",
        "plt.axhline(y=2.65, color='black', linewidth=0.5, linestyle='dashed')\n",
        "plt.show()\n"
      ],
      "execution_count": 88,
      "outputs": [
        {
          "output_type": "display_data",
          "data": {
            "image/png": "[encoded data removed]",
            "text/plain": [
              "<Figure size 720x432 with 1 Axes>"
            ]
          },
          "metadata": {
            "tags": [],
            "needs_background": "light"
          }
        }
      ]
    },
    {
      "cell_type": "code",
      "metadata": {
        "id": "gRd3wyXjpvuX",
        "colab": {
          "base_uri": "https://localhost:8080/"
        },
        "outputId": "173b470a-576d-4229-e4ec-663ea82a2459"
      },
      "source": [
        "memb = fcluster(linkage(data_df_norm, 'complete'), 5, criterion='maxclust')\n",
        "memb = pd.Series(memb, index=data_df_norm.index)\n",
        "print('\\033[1m'+'Complete linkage cluster membership:'+'\\033[0m')\n",
        "for key, item in memb.groupby(memb):\n",
        "    print(key, ': ', ', '.join(item.index))\n",
        "\n",
        "print('silhouette score:'+str(silhouette_score(data_df_norm,labels=memb)))"
      ],
      "execution_count": 89,
      "outputs": [
        {
          "output_type": "stream",
          "text": [
            "\u001b[1mComplete linkage cluster membership:\u001b[0m\n",
            "1 :  ABT, AZN, BMY, LLY, GSK, JNJ, MRK, NVS, PFE, SGP, WYE\n",
            "2 :  AGN, PHA\n",
            "3 :  BAY\n",
            "4 :  AHM, AVE, ELN, IVX, MRX, WPI\n",
            "5 :  CHTT\n",
            "silhouette score:0.26575036308399924\n"
          ],
          "name": "stdout"
        }
      ]
    },
    {
      "cell_type": "code",
      "metadata": {
        "id": "zcyibIPKmk6N",
        "colab": {
          "base_uri": "https://localhost:8080/",
          "height": 279
        },
        "outputId": "3e3726f6-3a04-461f-8732-b7eaae79b547"
      },
      "source": [
        "inertia = []\n",
        "for n_clusters in range(2, 10):\n",
        "  memb = fcluster(linkage(data_df_norm, 'centroid'), n_clusters, criterion='maxclust')\n",
        "  inertia.append(silhouette_score(data_df_norm,labels=memb))\n",
        "inertias = pd.DataFrame({'n_clusters': range(2, 10), 'silhouette': inertia})\n",
        "ax = inertias.plot(x='n_clusters', y='silhouette')\n",
        "plt.xlabel('Number of clusters(k)')\n",
        "plt.ylabel('Average Within-Cluster Squared Distances')\n",
        "plt.ylim((0, 1.1 * inertias.silhouette.max()))\n",
        "ax.legend().set_visible(False)\n",
        "plt.show()"
      ],
      "execution_count": 90,
      "outputs": [
        {
          "output_type": "display_data",
          "data": {
            "image/png": "[encoded data removed]",
            "text/plain": [
              "<Figure size 432x288 with 1 Axes>"
            ]
          },
          "metadata": {
            "tags": [],
            "needs_background": "light"
          }
        }
      ]
    },
    {
      "cell_type": "markdown",
      "metadata": {
        "id": "8VVm7CzUZxh4"
      },
      "source": [
        "**K-Means**"
      ]
    },
    {
      "cell_type": "code",
      "metadata": {
        "id": "Gn3GTqXbZwps",
        "colab": {
          "base_uri": "https://localhost:8080/"
        },
        "outputId": "9822ef0e-79a7-4220-fdff-6a3748d59ff1"
      },
      "source": [
        "kmeans = KMeans(n_clusters=6, max_iter=300,n_init=10,random_state=42).fit(data_df_norm)\n",
        "silhouette_score(data_df_norm,labels=kmeans.labels_)\n",
        "# Cluster membership\n",
        "memb = pd.Series(kmeans.labels_, index=data_df_norm.index)\n",
        "print('\\033[1m'+'k-Means cluster membership:'+'\\033[0m')\n",
        "for key, item in memb.groupby(memb):\n",
        "    print(key, ': ', ', '.join(item.index))\n",
        "\n",
        "  "
      ],
      "execution_count": 91,
      "outputs": [
        {
          "output_type": "stream",
          "text": [
            "\u001b[1mk-Means cluster membership:\u001b[0m\n",
            "0 :  GSK, JNJ, MRK, PFE\n",
            "1 :  AGN, PHA\n",
            "2 :  CHTT\n",
            "3 :  AVE, ELN, MRX, WPI\n",
            "4 :  ABT, AZN, BMY, LLY, NVS, SGP, WYE\n",
            "5 :  AHM, BAY, IVX\n"
          ],
          "name": "stdout"
        }
      ]
    },
    {
      "cell_type": "code",
      "metadata": {
        "id": "H4PmyqZ3b-w8",
        "colab": {
          "base_uri": "https://localhost:8080/",
          "height": 279
        },
        "outputId": "1c459451-0ba5-441d-8000-832e45a7835b"
      },
      "source": [
        "from sklearn.metrics import silhouette_score\n",
        "\n",
        "inertia = []\n",
        "for n_clusters in range(3, 10):\n",
        "    kmeans = KMeans(n_clusters=n_clusters, max_iter=300,n_init=10,random_state=5).fit(data_df_norm)\n",
        "    inertia.append(silhouette_score(data_df_norm,labels=kmeans.labels_))\n",
        "inertias = pd.DataFrame({'n_clusters': range(3, 10), 'silhouette': inertia})\n",
        "ax = inertias.plot(x='n_clusters', y='silhouette')\n",
        "plt.xlabel('Number of clusters(k)')\n",
        "plt.ylabel('Average Within-Cluster Squared Distances')\n",
        "plt.ylim((0, 1.1 * inertias.silhouette.max()))\n",
        "ax.legend().set_visible(False)\n",
        "plt.show()\n"
      ],
      "execution_count": 92,
      "outputs": [
        {
          "output_type": "display_data",
          "data": {
            "image/png": "[encoded data removed]",
            "text/plain": [
              "<Figure size 432x288 with 1 Axes>"
            ]
          },
          "metadata": {
            "tags": [],
            "needs_background": "light"
          }
        }
      ]
    },
    {
      "cell_type": "code",
      "metadata": {
        "id": "86wOrRKWkXZx"
      },
      "source": [
        "\n",
        "best_score = []\n",
        "for i in range(1,200):\n",
        "  inertia = []\n",
        "  for n_clusters in range(4, 10):\n",
        "    kmeans = KMeans(n_clusters=n_clusters, max_iter=20,n_init=10).fit(data_df_norm)\n",
        "    inertia.append(silhouette_score(data_df_norm,labels=kmeans.labels_))\n",
        "  best_score.append(inertia.index(max(inertia))+3)\n"
      ],
      "execution_count": 93,
      "outputs": []
    },
    {
      "cell_type": "code",
      "metadata": {
        "id": "zyat7gfuk-xi",
        "colab": {
          "base_uri": "https://localhost:8080/",
          "height": 265
        },
        "outputId": "354e0ca2-e843-4c2e-d87f-ce344537df65"
      },
      "source": [
        "plt.hist(best_score, 10,\n",
        "         density=True,\n",
        "         histtype='bar',\n",
        "         facecolor='b',\n",
        "         alpha=0.5)\n",
        "plt.show()"
      ],
      "execution_count": 94,
      "outputs": [
        {
          "output_type": "display_data",
          "data": {
            "image/png": "[encoded data removed]",
            "text/plain": [
              "<Figure size 432x288 with 1 Axes>"
            ]
          },
          "metadata": {
            "tags": [],
            "needs_background": "light"
          }
        }
      ]
    },
    {
      "cell_type": "markdown",
      "metadata": {
        "id": "mQf3W9cjrNck"
      },
      "source": [
        "Based on the observations above we can see 3 and 5 clusters has the best Silhouette Score which is a good criteria for comparing Clusters Quality.\n",
        "Also based on that, The hierarchical clustering using the average linkage is the best option because:\n",
        "\n",
        "\n",
        "1.   The dataset is small so the complexity of computation is not important.\n",
        "2.   It doesn’t return random results everytime.\n",
        "3.   It is the one that has the highest Silhouette Score fore both clusters with size 3 and 5.\n",
        "\n"
      ]
    },
    {
      "cell_type": "code",
      "metadata": {
        "id": "LzEYEjlx61FP",
        "colab": {
          "base_uri": "https://localhost:8080/",
          "height": 729
        },
        "outputId": "b3c4ab20-bda6-4b2c-c2a6-5dc42d2805e2"
      },
      "source": [
        "data_df_norm_2 = data_df_norm.copy()\n",
        "data_df_norm_2.index = ['{}: {}'.format(cluster, state) for cluster, state in zip(memb, data_df_norm.index)]\n",
        "sns.clustermap(data_df_norm_2, method='average', col_cluster=False,  cmap=\"mako_r\")\n",
        "plt.show()"
      ],
      "execution_count": 95,
      "outputs": [
        {
          "output_type": "display_data",
          "data": {
            "image/png": "[encoded data removed]",
            "text/plain": [
              "<Figure size 720x720 with 4 Axes>"
            ]
          },
          "metadata": {
            "tags": [],
            "needs_background": "light"
          }
        }
      ]
    },
    {
      "cell_type": "code",
      "metadata": {
        "id": "DjNnRGeFsZi8",
        "colab": {
          "base_uri": "https://localhost:8080/"
        },
        "outputId": "34e490e5-b31b-46a9-8f53-bd767043fd2c"
      },
      "source": [
        "memb = fcluster(linkage(data_df_norm, 'average'), 5, criterion='maxclust')\n",
        "memb = pd.Series(memb, index=data_df_norm.index)\n",
        "print('\\033[1m'+'Average linkage cluster membership:'+'\\033[0m')\n",
        "for key, item in memb.groupby(memb):\n",
        "    print(key, ': ', ', '.join(item.index))\n",
        "  \n",
        "print('silhouette score:'+str(silhouette_score(data_df_norm,labels=memb)))"
      ],
      "execution_count": 96,
      "outputs": [
        {
          "output_type": "stream",
          "text": [
            "\u001b[1mAverage linkage cluster membership:\u001b[0m\n",
            "1 :  ELN, MRX\n",
            "2 :  CHTT\n",
            "3 :  ABT, AHM, AZN, AVE, BMY, LLY, GSK, IVX, JNJ, MRK, NVS, PFE, SGP, WPI, WYE\n",
            "4 :  AGN, PHA\n",
            "5 :  BAY\n",
            "silhouette score:0.2708859373526622\n"
          ],
          "name": "stdout"
        }
      ]
    },
    {
      "cell_type": "code",
      "metadata": {
        "id": "ckcWE2bkoon-",
        "colab": {
          "base_uri": "https://localhost:8080/",
          "height": 972
        },
        "outputId": "f4aac082-f423-4d2a-d614-17051d17b37d"
      },
      "source": [
        "memb = fcluster(linkage(data_df_norm, 'average'), 3, criterion='maxclust')\n",
        "data_complete_df = pd.read_csv('Pharmaceuticals.csv')\n",
        "data_complete_df.set_index('Symbol', inplace=True)\n",
        "data_complete_df['Group'] = memb\n",
        "data_complete_df"
      ],
      "execution_count": 97,
      "outputs": [
        {
          "output_type": "execute_result",
          "data": {
            "text/html": [
              "<div>\n",
              "<style scoped>\n",
              "    .dataframe tbody tr th:only-of-type {\n",
              "        vertical-align: middle;\n",
              "    }\n",
              "\n",
              "    .dataframe tbody tr th {\n",
              "        vertical-align: top;\n",
              "    }\n",
              "\n",
              "    .dataframe thead th {\n",
              "        text-align: right;\n",
              "    }\n",
              "</style>\n",
              "<table border=\"1\" class=\"dataframe\">\n",
              "  <thead>\n",
              "    <tr style=\"text-align: right;\">\n",
              "      <th></th>\n",
              "      <th>Name</th>\n",
              "      <th>Market_Cap</th>\n",
              "      <th>Beta</th>\n",
              "      <th>PE_Ratio</th>\n",
              "      <th>ROE</th>\n",
              "      <th>ROA</th>\n",
              "      <th>Asset_Turnover</th>\n",
              "      <th>Leverage</th>\n",
              "      <th>Rev_Growth</th>\n",
              "      <th>Net_Profit_Margin</th>\n",
              "      <th>Median_Recommendation</th>\n",
              "      <th>Location</th>\n",
              "      <th>Exchange</th>\n",
              "      <th>Group</th>\n",
              "    </tr>\n",
              "    <tr>\n",
              "      <th>Symbol</th>\n",
              "      <th></th>\n",
              "      <th></th>\n",
              "      <th></th>\n",
              "      <th></th>\n",
              "      <th></th>\n",
              "      <th></th>\n",
              "      <th></th>\n",
              "      <th></th>\n",
              "      <th></th>\n",
              "      <th></th>\n",
              "      <th></th>\n",
              "      <th></th>\n",
              "      <th></th>\n",
              "      <th></th>\n",
              "    </tr>\n",
              "  </thead>\n",
              "  <tbody>\n",
              "    <tr>\n",
              "      <th>ABT</th>\n",
              "      <td>Abbott Laboratories</td>\n",
              "      <td>68.44</td>\n",
              "      <td>0.32</td>\n",
              "      <td>24.7</td>\n",
              "      <td>26.4</td>\n",
              "      <td>11.8</td>\n",
              "      <td>0.7</td>\n",
              "      <td>0.42</td>\n",
              "      <td>7.54</td>\n",
              "      <td>16.1</td>\n",
              "      <td>Moderate Buy</td>\n",
              "      <td>US</td>\n",
              "      <td>NYSE</td>\n",
              "      <td>2</td>\n",
              "    </tr>\n",
              "    <tr>\n",
              "      <th>AGN</th>\n",
              "      <td>Allergan, Inc.</td>\n",
              "      <td>7.58</td>\n",
              "      <td>0.41</td>\n",
              "      <td>82.5</td>\n",
              "      <td>12.9</td>\n",
              "      <td>5.5</td>\n",
              "      <td>0.9</td>\n",
              "      <td>0.60</td>\n",
              "      <td>9.16</td>\n",
              "      <td>5.5</td>\n",
              "      <td>Moderate Buy</td>\n",
              "      <td>CANADA</td>\n",
              "      <td>NYSE</td>\n",
              "      <td>3</td>\n",
              "    </tr>\n",
              "    <tr>\n",
              "      <th>AHM</th>\n",
              "      <td>Amersham plc</td>\n",
              "      <td>6.30</td>\n",
              "      <td>0.46</td>\n",
              "      <td>20.7</td>\n",
              "      <td>14.9</td>\n",
              "      <td>7.8</td>\n",
              "      <td>0.9</td>\n",
              "      <td>0.27</td>\n",
              "      <td>7.05</td>\n",
              "      <td>11.2</td>\n",
              "      <td>Strong Buy</td>\n",
              "      <td>UK</td>\n",
              "      <td>NYSE</td>\n",
              "      <td>2</td>\n",
              "    </tr>\n",
              "    <tr>\n",
              "      <th>AZN</th>\n",
              "      <td>AstraZeneca PLC</td>\n",
              "      <td>67.63</td>\n",
              "      <td>0.52</td>\n",
              "      <td>21.5</td>\n",
              "      <td>27.4</td>\n",
              "      <td>15.4</td>\n",
              "      <td>0.9</td>\n",
              "      <td>0.00</td>\n",
              "      <td>15.00</td>\n",
              "      <td>18.0</td>\n",
              "      <td>Moderate Sell</td>\n",
              "      <td>UK</td>\n",
              "      <td>NYSE</td>\n",
              "      <td>2</td>\n",
              "    </tr>\n",
              "    <tr>\n",
              "      <th>AVE</th>\n",
              "      <td>Aventis</td>\n",
              "      <td>47.16</td>\n",
              "      <td>0.32</td>\n",
              "      <td>20.1</td>\n",
              "      <td>21.8</td>\n",
              "      <td>7.5</td>\n",
              "      <td>0.6</td>\n",
              "      <td>0.34</td>\n",
              "      <td>26.81</td>\n",
              "      <td>12.9</td>\n",
              "      <td>Moderate Buy</td>\n",
              "      <td>FRANCE</td>\n",
              "      <td>NYSE</td>\n",
              "      <td>2</td>\n",
              "    </tr>\n",
              "    <tr>\n",
              "      <th>BAY</th>\n",
              "      <td>Bayer AG</td>\n",
              "      <td>16.90</td>\n",
              "      <td>1.11</td>\n",
              "      <td>27.9</td>\n",
              "      <td>3.9</td>\n",
              "      <td>1.4</td>\n",
              "      <td>0.6</td>\n",
              "      <td>0.00</td>\n",
              "      <td>-3.17</td>\n",
              "      <td>2.6</td>\n",
              "      <td>Hold</td>\n",
              "      <td>GERMANY</td>\n",
              "      <td>NYSE</td>\n",
              "      <td>3</td>\n",
              "    </tr>\n",
              "    <tr>\n",
              "      <th>BMY</th>\n",
              "      <td>Bristol-Myers Squibb Company</td>\n",
              "      <td>51.33</td>\n",
              "      <td>0.50</td>\n",
              "      <td>13.9</td>\n",
              "      <td>34.8</td>\n",
              "      <td>15.1</td>\n",
              "      <td>0.9</td>\n",
              "      <td>0.57</td>\n",
              "      <td>2.70</td>\n",
              "      <td>20.6</td>\n",
              "      <td>Moderate Sell</td>\n",
              "      <td>US</td>\n",
              "      <td>NYSE</td>\n",
              "      <td>2</td>\n",
              "    </tr>\n",
              "    <tr>\n",
              "      <th>CHTT</th>\n",
              "      <td>Chattem, Inc</td>\n",
              "      <td>0.41</td>\n",
              "      <td>0.85</td>\n",
              "      <td>26.0</td>\n",
              "      <td>24.1</td>\n",
              "      <td>4.3</td>\n",
              "      <td>0.6</td>\n",
              "      <td>3.51</td>\n",
              "      <td>6.38</td>\n",
              "      <td>7.5</td>\n",
              "      <td>Moderate Buy</td>\n",
              "      <td>US</td>\n",
              "      <td>NASDAQ</td>\n",
              "      <td>1</td>\n",
              "    </tr>\n",
              "    <tr>\n",
              "      <th>ELN</th>\n",
              "      <td>Elan Corporation, plc</td>\n",
              "      <td>0.78</td>\n",
              "      <td>1.08</td>\n",
              "      <td>3.6</td>\n",
              "      <td>15.1</td>\n",
              "      <td>5.1</td>\n",
              "      <td>0.3</td>\n",
              "      <td>1.07</td>\n",
              "      <td>34.21</td>\n",
              "      <td>13.3</td>\n",
              "      <td>Moderate Sell</td>\n",
              "      <td>IRELAND</td>\n",
              "      <td>NYSE</td>\n",
              "      <td>1</td>\n",
              "    </tr>\n",
              "    <tr>\n",
              "      <th>LLY</th>\n",
              "      <td>Eli Lilly and Company</td>\n",
              "      <td>73.84</td>\n",
              "      <td>0.18</td>\n",
              "      <td>27.9</td>\n",
              "      <td>31.0</td>\n",
              "      <td>13.5</td>\n",
              "      <td>0.6</td>\n",
              "      <td>0.53</td>\n",
              "      <td>6.21</td>\n",
              "      <td>23.4</td>\n",
              "      <td>Hold</td>\n",
              "      <td>US</td>\n",
              "      <td>NYSE</td>\n",
              "      <td>2</td>\n",
              "    </tr>\n",
              "    <tr>\n",
              "      <th>GSK</th>\n",
              "      <td>GlaxoSmithKline plc</td>\n",
              "      <td>122.11</td>\n",
              "      <td>0.35</td>\n",
              "      <td>18.0</td>\n",
              "      <td>62.9</td>\n",
              "      <td>20.3</td>\n",
              "      <td>1.0</td>\n",
              "      <td>0.34</td>\n",
              "      <td>21.87</td>\n",
              "      <td>21.1</td>\n",
              "      <td>Hold</td>\n",
              "      <td>UK</td>\n",
              "      <td>NYSE</td>\n",
              "      <td>2</td>\n",
              "    </tr>\n",
              "    <tr>\n",
              "      <th>IVX</th>\n",
              "      <td>IVAX Corporation</td>\n",
              "      <td>2.60</td>\n",
              "      <td>0.65</td>\n",
              "      <td>19.9</td>\n",
              "      <td>21.4</td>\n",
              "      <td>6.8</td>\n",
              "      <td>0.6</td>\n",
              "      <td>1.45</td>\n",
              "      <td>13.99</td>\n",
              "      <td>11.0</td>\n",
              "      <td>Hold</td>\n",
              "      <td>US</td>\n",
              "      <td>AMEX</td>\n",
              "      <td>2</td>\n",
              "    </tr>\n",
              "    <tr>\n",
              "      <th>JNJ</th>\n",
              "      <td>Johnson &amp; Johnson</td>\n",
              "      <td>173.93</td>\n",
              "      <td>0.46</td>\n",
              "      <td>28.4</td>\n",
              "      <td>28.6</td>\n",
              "      <td>16.3</td>\n",
              "      <td>0.9</td>\n",
              "      <td>0.10</td>\n",
              "      <td>9.37</td>\n",
              "      <td>17.9</td>\n",
              "      <td>Moderate Buy</td>\n",
              "      <td>US</td>\n",
              "      <td>NYSE</td>\n",
              "      <td>2</td>\n",
              "    </tr>\n",
              "    <tr>\n",
              "      <th>MRX</th>\n",
              "      <td>Medicis Pharmaceutical Corporation</td>\n",
              "      <td>1.20</td>\n",
              "      <td>0.75</td>\n",
              "      <td>28.6</td>\n",
              "      <td>11.2</td>\n",
              "      <td>5.4</td>\n",
              "      <td>0.3</td>\n",
              "      <td>0.93</td>\n",
              "      <td>30.37</td>\n",
              "      <td>21.3</td>\n",
              "      <td>Moderate Buy</td>\n",
              "      <td>US</td>\n",
              "      <td>NYSE</td>\n",
              "      <td>1</td>\n",
              "    </tr>\n",
              "    <tr>\n",
              "      <th>MRK</th>\n",
              "      <td>Merck &amp; Co., Inc.</td>\n",
              "      <td>132.56</td>\n",
              "      <td>0.46</td>\n",
              "      <td>18.9</td>\n",
              "      <td>40.6</td>\n",
              "      <td>15.0</td>\n",
              "      <td>1.1</td>\n",
              "      <td>0.28</td>\n",
              "      <td>17.35</td>\n",
              "      <td>14.1</td>\n",
              "      <td>Hold</td>\n",
              "      <td>US</td>\n",
              "      <td>NYSE</td>\n",
              "      <td>2</td>\n",
              "    </tr>\n",
              "    <tr>\n",
              "      <th>NVS</th>\n",
              "      <td>Novartis AG</td>\n",
              "      <td>96.65</td>\n",
              "      <td>0.19</td>\n",
              "      <td>21.6</td>\n",
              "      <td>17.9</td>\n",
              "      <td>11.2</td>\n",
              "      <td>0.5</td>\n",
              "      <td>0.06</td>\n",
              "      <td>-2.69</td>\n",
              "      <td>22.4</td>\n",
              "      <td>Hold</td>\n",
              "      <td>SWITZERLAND</td>\n",
              "      <td>NYSE</td>\n",
              "      <td>2</td>\n",
              "    </tr>\n",
              "    <tr>\n",
              "      <th>PFE</th>\n",
              "      <td>Pfizer Inc</td>\n",
              "      <td>199.47</td>\n",
              "      <td>0.65</td>\n",
              "      <td>23.6</td>\n",
              "      <td>45.6</td>\n",
              "      <td>19.2</td>\n",
              "      <td>0.8</td>\n",
              "      <td>0.16</td>\n",
              "      <td>25.54</td>\n",
              "      <td>25.2</td>\n",
              "      <td>Moderate Buy</td>\n",
              "      <td>US</td>\n",
              "      <td>NYSE</td>\n",
              "      <td>2</td>\n",
              "    </tr>\n",
              "    <tr>\n",
              "      <th>PHA</th>\n",
              "      <td>Pharmacia Corporation</td>\n",
              "      <td>56.24</td>\n",
              "      <td>0.40</td>\n",
              "      <td>56.5</td>\n",
              "      <td>13.5</td>\n",
              "      <td>5.7</td>\n",
              "      <td>0.6</td>\n",
              "      <td>0.35</td>\n",
              "      <td>15.00</td>\n",
              "      <td>7.3</td>\n",
              "      <td>Hold</td>\n",
              "      <td>US</td>\n",
              "      <td>NYSE</td>\n",
              "      <td>3</td>\n",
              "    </tr>\n",
              "    <tr>\n",
              "      <th>SGP</th>\n",
              "      <td>Schering-Plough Corporation</td>\n",
              "      <td>34.10</td>\n",
              "      <td>0.51</td>\n",
              "      <td>18.9</td>\n",
              "      <td>22.6</td>\n",
              "      <td>13.3</td>\n",
              "      <td>0.8</td>\n",
              "      <td>0.00</td>\n",
              "      <td>8.56</td>\n",
              "      <td>17.6</td>\n",
              "      <td>Hold</td>\n",
              "      <td>US</td>\n",
              "      <td>NYSE</td>\n",
              "      <td>2</td>\n",
              "    </tr>\n",
              "    <tr>\n",
              "      <th>WPI</th>\n",
              "      <td>Watson Pharmaceuticals, Inc.</td>\n",
              "      <td>3.26</td>\n",
              "      <td>0.24</td>\n",
              "      <td>18.4</td>\n",
              "      <td>10.2</td>\n",
              "      <td>6.8</td>\n",
              "      <td>0.5</td>\n",
              "      <td>0.20</td>\n",
              "      <td>29.18</td>\n",
              "      <td>15.1</td>\n",
              "      <td>Moderate Sell</td>\n",
              "      <td>US</td>\n",
              "      <td>NYSE</td>\n",
              "      <td>2</td>\n",
              "    </tr>\n",
              "    <tr>\n",
              "      <th>WYE</th>\n",
              "      <td>Wyeth</td>\n",
              "      <td>48.19</td>\n",
              "      <td>0.63</td>\n",
              "      <td>13.1</td>\n",
              "      <td>54.9</td>\n",
              "      <td>13.4</td>\n",
              "      <td>0.6</td>\n",
              "      <td>1.12</td>\n",
              "      <td>0.36</td>\n",
              "      <td>25.5</td>\n",
              "      <td>Hold</td>\n",
              "      <td>US</td>\n",
              "      <td>NYSE</td>\n",
              "      <td>2</td>\n",
              "    </tr>\n",
              "  </tbody>\n",
              "</table>\n",
              "</div>"
            ],
            "text/plain": [
              "                                      Name  Market_Cap  ...  Exchange  Group\n",
              "Symbol                                                  ...                 \n",
              "ABT                    Abbott Laboratories       68.44  ...      NYSE      2\n",
              "AGN                         Allergan, Inc.        7.58  ...      NYSE      3\n",
              "AHM                           Amersham plc        6.30  ...      NYSE      2\n",
              "AZN                        AstraZeneca PLC       67.63  ...      NYSE      2\n",
              "AVE                                Aventis       47.16  ...      NYSE      2\n",
              "BAY                               Bayer AG       16.90  ...      NYSE      3\n",
              "BMY           Bristol-Myers Squibb Company       51.33  ...      NYSE      2\n",
              "CHTT                          Chattem, Inc        0.41  ...    NASDAQ      1\n",
              "ELN                  Elan Corporation, plc        0.78  ...      NYSE      1\n",
              "LLY                  Eli Lilly and Company       73.84  ...      NYSE      2\n",
              "GSK                    GlaxoSmithKline plc      122.11  ...      NYSE      2\n",
              "IVX                       IVAX Corporation        2.60  ...      AMEX      2\n",
              "JNJ                      Johnson & Johnson      173.93  ...      NYSE      2\n",
              "MRX     Medicis Pharmaceutical Corporation        1.20  ...      NYSE      1\n",
              "MRK                      Merck & Co., Inc.      132.56  ...      NYSE      2\n",
              "NVS                            Novartis AG       96.65  ...      NYSE      2\n",
              "PFE                             Pfizer Inc      199.47  ...      NYSE      2\n",
              "PHA                  Pharmacia Corporation       56.24  ...      NYSE      3\n",
              "SGP            Schering-Plough Corporation       34.10  ...      NYSE      2\n",
              "WPI           Watson Pharmaceuticals, Inc.        3.26  ...      NYSE      2\n",
              "WYE                                  Wyeth       48.19  ...      NYSE      2\n",
              "\n",
              "[21 rows x 14 columns]"
            ]
          },
          "metadata": {
            "tags": []
          },
          "execution_count": 97
        }
      ]
    },
    {
      "cell_type": "code",
      "metadata": {
        "id": "0ipwpKWttLlw",
        "colab": {
          "base_uri": "https://localhost:8080/"
        },
        "outputId": "54f48cd0-6149-4410-914e-a057fa7873e0"
      },
      "source": [
        "cat_data = data_complete_df[['Median_Recommendation','Location','Exchange','Group']]\n",
        "cat_data = cat_data.astype('category')\n",
        "cat_data.dtypes"
      ],
      "execution_count": 98,
      "outputs": [
        {
          "output_type": "execute_result",
          "data": {
            "text/plain": [
              "Median_Recommendation    category\n",
              "Location                 category\n",
              "Exchange                 category\n",
              "Group                    category\n",
              "dtype: object"
            ]
          },
          "metadata": {
            "tags": []
          },
          "execution_count": 98
        }
      ]
    },
    {
      "cell_type": "code",
      "metadata": {
        "id": "qUNunKAzv3ei"
      },
      "source": [
        "cat_data = pd.get_dummies(cat_data, columns=['Median_Recommendation','Location','Exchange','Group'])"
      ],
      "execution_count": 99,
      "outputs": []
    },
    {
      "cell_type": "code",
      "metadata": {
        "id": "0U3tKQr_zY1T"
      },
      "source": [
        ""
      ],
      "execution_count": null,
      "outputs": []
    },
    {
      "cell_type": "code",
      "metadata": {
        "id": "pR4JYBn7wIe-",
        "colab": {
          "base_uri": "https://localhost:8080/",
          "height": 283
        },
        "outputId": "0dfd61d4-5614-4a58-e206-6a79848bfeed"
      },
      "source": [
        "new_cat_data = cat_data.corr()\n",
        "new_cat_data = new_cat_data[[x for x in new_cat_data.columns if 'Group' in x]]\n",
        "new_cat_data = new_cat_data[~new_cat_data.index.str.contains('Group')]\n",
        "sns.heatmap(new_cat_data,  cmap=\"mako_r\")"
      ],
      "execution_count": 100,
      "outputs": [
        {
          "output_type": "execute_result",
          "data": {
            "text/plain": [
              "<matplotlib.axes._subplots.AxesSubplot at 0x7fa2cb858a90>"
            ]
          },
          "metadata": {
            "tags": []
          },
          "execution_count": 100
        },
        {
          "output_type": "display_data",
          "data": {
            "image/png": "[encoded data removed]",
            "text/plain": [
              "<Figure size 432x288 with 2 Axes>"
            ]
          },
          "metadata": {
            "tags": [],
            "needs_background": "light"
          }
        }
      ]
    },
    {
      "cell_type": "markdown",
      "metadata": {
        "id": "MgP2T_asuEMz"
      },
      "source": [
        "The Group Column is correlated to Location and Median Recommendation"
      ]
    },
    {
      "cell_type": "code",
      "metadata": {
        "id": "Vx0yhQpS0mD3",
        "colab": {
          "base_uri": "https://localhost:8080/",
          "height": 613
        },
        "outputId": "423c0537-1891-46f3-8bc5-15e602a1dfc9"
      },
      "source": [
        "memb = fcluster(linkage(data_df_norm, 'average'), 5, criterion='maxclust')\n",
        "data_complete_df = pd.read_csv('Pharmaceuticals.csv')\n",
        "data_complete_df.set_index('Symbol', inplace=True)\n",
        "data_complete_df['Group'] = memb\n",
        "\n",
        "data_complete_df[['Median_Recommendation','Location','Exchange','Group']] = data_complete_df[['Median_Recommendation','Location','Exchange','Group']].astype('category')\n",
        "data_complete_dum_df = pd.get_dummies(data_complete_df, columns=['Median_Recommendation','Location','Exchange','Group'])\n",
        "new_cat_data = data_complete_dum_df.corr()\n",
        "new_cat_data = new_cat_data[[x for x in new_cat_data.columns if 'Group' in x]]\n",
        "new_cat_data = new_cat_data[~new_cat_data.index.str.contains('Group')]\n",
        "fig, ax = plt.subplots(figsize=(10,10))\n",
        "sns.heatmap(new_cat_data, linewidths=.5, ax=ax,  cmap=\"mako_r\")\n"
      ],
      "execution_count": 101,
      "outputs": [
        {
          "output_type": "execute_result",
          "data": {
            "text/plain": [
              "<matplotlib.axes._subplots.AxesSubplot at 0x7fa2cbc9d610>"
            ]
          },
          "metadata": {
            "tags": []
          },
          "execution_count": 101
        },
        {
          "output_type": "display_data",
          "data": {
            "image/png": "[encoded data removed]",
            "text/plain": [
              "<Figure size 720x720 with 2 Axes>"
            ]
          },
          "metadata": {
            "tags": [],
            "needs_background": "light"
          }
        }
      ]
    },
    {
      "cell_type": "markdown",
      "metadata": {
        "id": "62yxPJcoW72y"
      },
      "source": [
        "Based on above heatmap , we can name our group based on net profit margin"
      ]
    },
    {
      "cell_type": "code",
      "metadata": {
        "id": "UoKbEiu-32YX",
        "colab": {
          "base_uri": "https://localhost:8080/"
        },
        "outputId": "44af607a-307d-4d2d-ebfb-4aaf48064c6d"
      },
      "source": [
        "data_complete_df[data_complete_df.Group == 1].mean()"
      ],
      "execution_count": 102,
      "outputs": [
        {
          "output_type": "execute_result",
          "data": {
            "text/plain": [
              "Market_Cap            0.990\n",
              "Beta                  0.915\n",
              "PE_Ratio             16.100\n",
              "ROE                  13.150\n",
              "ROA                   5.250\n",
              "Asset_Turnover        0.300\n",
              "Leverage              1.000\n",
              "Rev_Growth           32.290\n",
              "Net_Profit_Margin    17.300\n",
              "dtype: float64"
            ]
          },
          "metadata": {
            "tags": []
          },
          "execution_count": 102
        }
      ]
    },
    {
      "cell_type": "code",
      "metadata": {
        "id": "rS8455f83a9q",
        "colab": {
          "base_uri": "https://localhost:8080/"
        },
        "outputId": "0f9be88b-43d5-4dab-86d1-bea441049c5f"
      },
      "source": [
        "data_complete_df[data_complete_df.Group == 2].mean()"
      ],
      "execution_count": 103,
      "outputs": [
        {
          "output_type": "execute_result",
          "data": {
            "text/plain": [
              "Market_Cap            0.41\n",
              "Beta                  0.85\n",
              "PE_Ratio             26.00\n",
              "ROE                  24.10\n",
              "ROA                   4.30\n",
              "Asset_Turnover        0.60\n",
              "Leverage              3.51\n",
              "Rev_Growth            6.38\n",
              "Net_Profit_Margin     7.50\n",
              "dtype: float64"
            ]
          },
          "metadata": {
            "tags": []
          },
          "execution_count": 103
        }
      ]
    },
    {
      "cell_type": "code",
      "metadata": {
        "id": "v2iVO0wv300x",
        "colab": {
          "base_uri": "https://localhost:8080/"
        },
        "outputId": "92b2308c-f931-4e66-cfe4-b340b9d67c69"
      },
      "source": [
        "data_complete_df[data_complete_df.Group == 3].mean()"
      ],
      "execution_count": 104,
      "outputs": [
        {
          "output_type": "execute_result",
          "data": {
            "text/plain": [
              "Market_Cap           75.171333\n",
              "Beta                  0.429333\n",
              "PE_Ratio             20.640000\n",
              "ROE                  30.733333\n",
              "ROA                  12.893333\n",
              "Asset_Turnover        0.760000\n",
              "Leverage              0.389333\n",
              "Rev_Growth           12.589333\n",
              "Net_Profit_Margin    18.140000\n",
              "dtype: float64"
            ]
          },
          "metadata": {
            "tags": []
          },
          "execution_count": 104
        }
      ]
    },
    {
      "cell_type": "markdown",
      "metadata": {
        "id": "RSCAh1jQ6Kug"
      },
      "source": [
        "for k = 3\n",
        "Beta, Net Profit Margin, PE Ratio, Market Cap\n",
        "\n",
        "for k = 5\n",
        "Beta, Asset turnover"
      ]
    },
    {
      "cell_type": "markdown",
      "metadata": {
        "id": "OaRrW-GfWPcB"
      },
      "source": [
        "# Q3"
      ]
    },
    {
      "cell_type": "markdown",
      "metadata": {
        "id": "kiGJlk9dWRuy"
      },
      "source": [
        "## a."
      ]
    },
    {
      "cell_type": "code",
      "metadata": {
        "id": "bASSVUFZFV4k"
      },
      "source": [
        "from pathlib import Path\r\n",
        "import numpy as np\r\n",
        "import pandas as pd\r\n",
        "from sklearn import preprocessing\r\n",
        "from sklearn.metrics import pairwise\r\n",
        "from scipy.cluster.hierarchy import dendrogram, linkage, fcluster\r\n",
        "from sklearn.cluster import KMeans\r\n",
        "import matplotlib.pylab as plt\r\n",
        "import seaborn as sns\r\n",
        "from pandas.plotting import parallel_coordinates"
      ],
      "execution_count": 105,
      "outputs": []
    },
    {
      "cell_type": "code",
      "metadata": {
        "colab": {
          "base_uri": "https://localhost:8080/"
        },
        "id": "datp0x3LHmTe",
        "outputId": "acfc77ac-f48d-47b8-efb0-6408e8c3158d"
      },
      "source": [
        "cereals_df = pd.read_csv('Cereals.csv')\r\n",
        "cereals_df=cereals_df.dropna()\r\n",
        "cereals_df=cereals_df.drop(columns=['mfr', 'type'])\r\n",
        "print(cereals_df.head())\r\n",
        "cereals_df.set_index('name', inplace=True)\r\n",
        "print (cereals_df.dtypes)"
      ],
      "execution_count": null,
      "outputs": [
        {
          "output_type": "stream",
          "text": [
            "                        name  calories  protein  ...  weight  cups     rating\n",
            "0                  100%_Bran        70        4  ...     1.0  0.33  68.402973\n",
            "1          100%_Natural_Bran       120        3  ...     1.0  1.00  33.983679\n",
            "2                   All-Bran        70        4  ...     1.0  0.33  59.425505\n",
            "3  All-Bran_with_Extra_Fiber        50        4  ...     1.0  0.50  93.704912\n",
            "5    Apple_Cinnamon_Cheerios       110        2  ...     1.0  0.75  29.509541\n",
            "\n",
            "[5 rows x 14 columns]\n",
            "calories      int64\n",
            "protein       int64\n",
            "fat           int64\n",
            "sodium        int64\n",
            "fiber       float64\n",
            "carbo       float64\n",
            "sugars      float64\n",
            "potass      float64\n",
            "vitamins      int64\n",
            "shelf         int64\n",
            "weight      float64\n",
            "cups        float64\n",
            "rating      float64\n",
            "dtype: object\n"
          ],
          "name": "stdout"
        }
      ]
    },
    {
      "cell_type": "code",
      "metadata": {
        "id": "RasHzH0IHpNV",
        "colab": {
          "base_uri": "https://localhost:8080/"
        },
        "outputId": "b8cda957-f775-45b8-a7ca-a981aba12734"
      },
      "source": [
        "cereals_df['calories'] = cereals_df['calories'].astype(float)\r\n",
        "cereals_df['protein'] = cereals_df['protein'].astype(float)\r\n",
        "cereals_df['fat'] = cereals_df['fat'].astype(float)\r\n",
        "cereals_df['sodium'] = cereals_df['sodium'].astype(float)\r\n",
        "cereals_df['vitamins'] = cereals_df['vitamins'].astype(float)\r\n",
        "cereals_df['shelf'] = cereals_df['shelf'].astype(float)\r\n",
        "\r\n",
        "\r\n",
        "\r\n",
        "print(cereals_df.dtypes)\r\n",
        "#changing all datatypes to float"
      ],
      "execution_count": null,
      "outputs": [
        {
          "output_type": "stream",
          "text": [
            "calories    float64\n",
            "protein     float64\n",
            "fat         float64\n",
            "sodium      float64\n",
            "fiber       float64\n",
            "carbo       float64\n",
            "sugars      float64\n",
            "potass      float64\n",
            "vitamins    float64\n",
            "shelf       float64\n",
            "weight      float64\n",
            "cups        float64\n",
            "rating      float64\n",
            "dtype: object\n"
          ],
          "name": "stdout"
        }
      ]
    },
    {
      "cell_type": "code",
      "metadata": {
        "id": "s5p-6bwYHsSA",
        "colab": {
          "base_uri": "https://localhost:8080/",
          "height": 255
        },
        "outputId": "6a47e013-cbfa-4fe8-cc40-28de20a9988d"
      },
      "source": [
        "cereals_df.head()"
      ],
      "execution_count": null,
      "outputs": [
        {
          "output_type": "execute_result",
          "data": {
            "text/html": [
              "<div>\n",
              "<style scoped>\n",
              "    .dataframe tbody tr th:only-of-type {\n",
              "        vertical-align: middle;\n",
              "    }\n",
              "\n",
              "    .dataframe tbody tr th {\n",
              "        vertical-align: top;\n",
              "    }\n",
              "\n",
              "    .dataframe thead th {\n",
              "        text-align: right;\n",
              "    }\n",
              "</style>\n",
              "<table border=\"1\" class=\"dataframe\">\n",
              "  <thead>\n",
              "    <tr style=\"text-align: right;\">\n",
              "      <th></th>\n",
              "      <th>calories</th>\n",
              "      <th>protein</th>\n",
              "      <th>fat</th>\n",
              "      <th>sodium</th>\n",
              "      <th>fiber</th>\n",
              "      <th>carbo</th>\n",
              "      <th>sugars</th>\n",
              "      <th>potass</th>\n",
              "      <th>vitamins</th>\n",
              "      <th>shelf</th>\n",
              "      <th>weight</th>\n",
              "      <th>cups</th>\n",
              "      <th>rating</th>\n",
              "    </tr>\n",
              "    <tr>\n",
              "      <th>name</th>\n",
              "      <th></th>\n",
              "      <th></th>\n",
              "      <th></th>\n",
              "      <th></th>\n",
              "      <th></th>\n",
              "      <th></th>\n",
              "      <th></th>\n",
              "      <th></th>\n",
              "      <th></th>\n",
              "      <th></th>\n",
              "      <th></th>\n",
              "      <th></th>\n",
              "      <th></th>\n",
              "    </tr>\n",
              "  </thead>\n",
              "  <tbody>\n",
              "    <tr>\n",
              "      <th>100%_Bran</th>\n",
              "      <td>70.0</td>\n",
              "      <td>4.0</td>\n",
              "      <td>1.0</td>\n",
              "      <td>130.0</td>\n",
              "      <td>10.0</td>\n",
              "      <td>5.0</td>\n",
              "      <td>6.0</td>\n",
              "      <td>280.0</td>\n",
              "      <td>25.0</td>\n",
              "      <td>3.0</td>\n",
              "      <td>1.0</td>\n",
              "      <td>0.33</td>\n",
              "      <td>68.402973</td>\n",
              "    </tr>\n",
              "    <tr>\n",
              "      <th>100%_Natural_Bran</th>\n",
              "      <td>120.0</td>\n",
              "      <td>3.0</td>\n",
              "      <td>5.0</td>\n",
              "      <td>15.0</td>\n",
              "      <td>2.0</td>\n",
              "      <td>8.0</td>\n",
              "      <td>8.0</td>\n",
              "      <td>135.0</td>\n",
              "      <td>0.0</td>\n",
              "      <td>3.0</td>\n",
              "      <td>1.0</td>\n",
              "      <td>1.00</td>\n",
              "      <td>33.983679</td>\n",
              "    </tr>\n",
              "    <tr>\n",
              "      <th>All-Bran</th>\n",
              "      <td>70.0</td>\n",
              "      <td>4.0</td>\n",
              "      <td>1.0</td>\n",
              "      <td>260.0</td>\n",
              "      <td>9.0</td>\n",
              "      <td>7.0</td>\n",
              "      <td>5.0</td>\n",
              "      <td>320.0</td>\n",
              "      <td>25.0</td>\n",
              "      <td>3.0</td>\n",
              "      <td>1.0</td>\n",
              "      <td>0.33</td>\n",
              "      <td>59.425505</td>\n",
              "    </tr>\n",
              "    <tr>\n",
              "      <th>All-Bran_with_Extra_Fiber</th>\n",
              "      <td>50.0</td>\n",
              "      <td>4.0</td>\n",
              "      <td>0.0</td>\n",
              "      <td>140.0</td>\n",
              "      <td>14.0</td>\n",
              "      <td>8.0</td>\n",
              "      <td>0.0</td>\n",
              "      <td>330.0</td>\n",
              "      <td>25.0</td>\n",
              "      <td>3.0</td>\n",
              "      <td>1.0</td>\n",
              "      <td>0.50</td>\n",
              "      <td>93.704912</td>\n",
              "    </tr>\n",
              "    <tr>\n",
              "      <th>Apple_Cinnamon_Cheerios</th>\n",
              "      <td>110.0</td>\n",
              "      <td>2.0</td>\n",
              "      <td>2.0</td>\n",
              "      <td>180.0</td>\n",
              "      <td>1.5</td>\n",
              "      <td>10.5</td>\n",
              "      <td>10.0</td>\n",
              "      <td>70.0</td>\n",
              "      <td>25.0</td>\n",
              "      <td>1.0</td>\n",
              "      <td>1.0</td>\n",
              "      <td>0.75</td>\n",
              "      <td>29.509541</td>\n",
              "    </tr>\n",
              "  </tbody>\n",
              "</table>\n",
              "</div>"
            ],
            "text/plain": [
              "                           calories  protein  fat  ...  weight  cups     rating\n",
              "name                                               ...                         \n",
              "100%_Bran                      70.0      4.0  1.0  ...     1.0  0.33  68.402973\n",
              "100%_Natural_Bran             120.0      3.0  5.0  ...     1.0  1.00  33.983679\n",
              "All-Bran                       70.0      4.0  1.0  ...     1.0  0.33  59.425505\n",
              "All-Bran_with_Extra_Fiber      50.0      4.0  0.0  ...     1.0  0.50  93.704912\n",
              "Apple_Cinnamon_Cheerios       110.0      2.0  2.0  ...     1.0  0.75  29.509541\n",
              "\n",
              "[5 rows x 13 columns]"
            ]
          },
          "metadata": {
            "tags": []
          },
          "execution_count": 33
        }
      ]
    },
    {
      "cell_type": "code",
      "metadata": {
        "id": "fD9_GosEHwra",
        "colab": {
          "base_uri": "https://localhost:8080/",
          "height": 289
        },
        "outputId": "ba79158f-dc28-441c-c615-37b2385ff400"
      },
      "source": [
        "d = pairwise.pairwise_distances(cereals_df, metric='euclidean')\r\n",
        "pd.DataFrame(d, columns=cereals_df.index, index=cereals_df.index).head(5)"
      ],
      "execution_count": null,
      "outputs": [
        {
          "output_type": "execute_result",
          "data": {
            "text/html": [
              "<div>\n",
              "<style scoped>\n",
              "    .dataframe tbody tr th:only-of-type {\n",
              "        vertical-align: middle;\n",
              "    }\n",
              "\n",
              "    .dataframe tbody tr th {\n",
              "        vertical-align: top;\n",
              "    }\n",
              "\n",
              "    .dataframe thead th {\n",
              "        text-align: right;\n",
              "    }\n",
              "</style>\n",
              "<table border=\"1\" class=\"dataframe\">\n",
              "  <thead>\n",
              "    <tr style=\"text-align: right;\">\n",
              "      <th>name</th>\n",
              "      <th>100%_Bran</th>\n",
              "      <th>100%_Natural_Bran</th>\n",
              "      <th>All-Bran</th>\n",
              "      <th>All-Bran_with_Extra_Fiber</th>\n",
              "      <th>Apple_Cinnamon_Cheerios</th>\n",
              "      <th>Apple_Jacks</th>\n",
              "      <th>Basic_4</th>\n",
              "      <th>Bran_Chex</th>\n",
              "      <th>Bran_Flakes</th>\n",
              "      <th>Cap'n'Crunch</th>\n",
              "      <th>Cheerios</th>\n",
              "      <th>Cinnamon_Toast_Crunch</th>\n",
              "      <th>Clusters</th>\n",
              "      <th>Cocoa_Puffs</th>\n",
              "      <th>Corn_Chex</th>\n",
              "      <th>Corn_Flakes</th>\n",
              "      <th>Corn_Pops</th>\n",
              "      <th>Count_Chocula</th>\n",
              "      <th>Cracklin'_Oat_Bran</th>\n",
              "      <th>Crispix</th>\n",
              "      <th>Crispy_Wheat_&amp;_Raisins</th>\n",
              "      <th>Double_Chex</th>\n",
              "      <th>Froot_Loops</th>\n",
              "      <th>Frosted_Flakes</th>\n",
              "      <th>Frosted_Mini-Wheats</th>\n",
              "      <th>Fruit_&amp;_Fibre_Dates,_Walnuts,_and_Oats</th>\n",
              "      <th>Fruitful_Bran</th>\n",
              "      <th>Fruity_Pebbles</th>\n",
              "      <th>Golden_Crisp</th>\n",
              "      <th>Golden_Grahams</th>\n",
              "      <th>Grape_Nuts_Flakes</th>\n",
              "      <th>Grape-Nuts</th>\n",
              "      <th>Great_Grains_Pecan</th>\n",
              "      <th>Honey_Graham_Ohs</th>\n",
              "      <th>Honey_Nut_Cheerios</th>\n",
              "      <th>Honey-comb</th>\n",
              "      <th>Just_Right_Crunchy__Nuggets</th>\n",
              "      <th>Just_Right_Fruit_&amp;_Nut</th>\n",
              "      <th>Kix</th>\n",
              "      <th>Life</th>\n",
              "      <th>Lucky_Charms</th>\n",
              "      <th>Maypo</th>\n",
              "      <th>Muesli_Raisins,_Dates,_&amp;_Almonds</th>\n",
              "      <th>Muesli_Raisins,_Peaches,_&amp;_Pecans</th>\n",
              "      <th>Mueslix_Crispy_Blend</th>\n",
              "      <th>Multi-Grain_Cheerios</th>\n",
              "      <th>Nut&amp;Honey_Crunch</th>\n",
              "      <th>Nutri-Grain_Almond-Raisin</th>\n",
              "      <th>Nutri-grain_Wheat</th>\n",
              "      <th>Oatmeal_Raisin_Crisp</th>\n",
              "      <th>Post_Nat._Raisin_Bran</th>\n",
              "      <th>Product_19</th>\n",
              "      <th>Puffed_Rice</th>\n",
              "      <th>Puffed_Wheat</th>\n",
              "      <th>Quaker_Oat_Squares</th>\n",
              "      <th>Raisin_Bran</th>\n",
              "      <th>Raisin_Nut_Bran</th>\n",
              "      <th>Raisin_Squares</th>\n",
              "      <th>Rice_Chex</th>\n",
              "      <th>Rice_Krispies</th>\n",
              "      <th>Shredded_Wheat</th>\n",
              "      <th>Shredded_Wheat_'n'Bran</th>\n",
              "      <th>Shredded_Wheat_spoon_size</th>\n",
              "      <th>Smacks</th>\n",
              "      <th>Special_K</th>\n",
              "      <th>Strawberry_Fruit_Wheats</th>\n",
              "      <th>Total_Corn_Flakes</th>\n",
              "      <th>Total_Raisin_Bran</th>\n",
              "      <th>Total_Whole_Grain</th>\n",
              "      <th>Triples</th>\n",
              "      <th>Trix</th>\n",
              "      <th>Wheat_Chex</th>\n",
              "      <th>Wheaties</th>\n",
              "      <th>Wheaties_Honey_Gold</th>\n",
              "    </tr>\n",
              "    <tr>\n",
              "      <th>name</th>\n",
              "      <th></th>\n",
              "      <th></th>\n",
              "      <th></th>\n",
              "      <th></th>\n",
              "      <th></th>\n",
              "      <th></th>\n",
              "      <th></th>\n",
              "      <th></th>\n",
              "      <th></th>\n",
              "      <th></th>\n",
              "      <th></th>\n",
              "      <th></th>\n",
              "      <th></th>\n",
              "      <th></th>\n",
              "      <th></th>\n",
              "      <th></th>\n",
              "      <th></th>\n",
              "      <th></th>\n",
              "      <th></th>\n",
              "      <th></th>\n",
              "      <th></th>\n",
              "      <th></th>\n",
              "      <th></th>\n",
              "      <th></th>\n",
              "      <th></th>\n",
              "      <th></th>\n",
              "      <th></th>\n",
              "      <th></th>\n",
              "      <th></th>\n",
              "      <th></th>\n",
              "      <th></th>\n",
              "      <th></th>\n",
              "      <th></th>\n",
              "      <th></th>\n",
              "      <th></th>\n",
              "      <th></th>\n",
              "      <th></th>\n",
              "      <th></th>\n",
              "      <th></th>\n",
              "      <th></th>\n",
              "      <th></th>\n",
              "      <th></th>\n",
              "      <th></th>\n",
              "      <th></th>\n",
              "      <th></th>\n",
              "      <th></th>\n",
              "      <th></th>\n",
              "      <th></th>\n",
              "      <th></th>\n",
              "      <th></th>\n",
              "      <th></th>\n",
              "      <th></th>\n",
              "      <th></th>\n",
              "      <th></th>\n",
              "      <th></th>\n",
              "      <th></th>\n",
              "      <th></th>\n",
              "      <th></th>\n",
              "      <th></th>\n",
              "      <th></th>\n",
              "      <th></th>\n",
              "      <th></th>\n",
              "      <th></th>\n",
              "      <th></th>\n",
              "      <th></th>\n",
              "      <th></th>\n",
              "      <th></th>\n",
              "      <th></th>\n",
              "      <th></th>\n",
              "      <th></th>\n",
              "      <th></th>\n",
              "      <th></th>\n",
              "      <th></th>\n",
              "      <th></th>\n",
              "    </tr>\n",
              "  </thead>\n",
              "  <tbody>\n",
              "    <tr>\n",
              "      <th>100%_Bran</th>\n",
              "      <td>0.000000</td>\n",
              "      <td>196.606553</td>\n",
              "      <td>136.332663</td>\n",
              "      <td>60.845846</td>\n",
              "      <td>223.249581</td>\n",
              "      <td>256.034222</td>\n",
              "      <td>208.861226</td>\n",
              "      <td>172.745301</td>\n",
              "      <td>123.368547</td>\n",
              "      <td>270.845562</td>\n",
              "      <td>241.617351</td>\n",
              "      <td>258.209478</td>\n",
              "      <td>182.318907</td>\n",
              "      <td>238.786265</td>\n",
              "      <td>300.431656</td>\n",
              "      <td>295.627273</td>\n",
              "      <td>268.433465</td>\n",
              "      <td>229.455972</td>\n",
              "      <td>130.186275</td>\n",
              "      <td>270.211055</td>\n",
              "      <td>166.609548</td>\n",
              "      <td>212.921683</td>\n",
              "      <td>256.137766</td>\n",
              "      <td>270.356682</td>\n",
              "      <td>224.578229</td>\n",
              "      <td>103.187471</td>\n",
              "      <td>153.604357</td>\n",
              "      <td>261.706888</td>\n",
              "      <td>258.940650</td>\n",
              "      <td>285.540262</td>\n",
              "      <td>198.602224</td>\n",
              "      <td>199.323773</td>\n",
              "      <td>196.360294</td>\n",
              "      <td>261.068279</td>\n",
              "      <td>231.579925</td>\n",
              "      <td>256.746879</td>\n",
              "      <td>241.807233</td>\n",
              "      <td>218.332051</td>\n",
              "      <td>278.067947</td>\n",
              "      <td>190.190869</td>\n",
              "      <td>238.016195</td>\n",
              "      <td>228.998050</td>\n",
              "      <td>144.575304</td>\n",
              "      <td>142.384748</td>\n",
              "      <td>156.828521</td>\n",
              "      <td>214.646616</td>\n",
              "      <td>255.723923</td>\n",
              "      <td>191.248803</td>\n",
              "      <td>195.992829</td>\n",
              "      <td>180.008210</td>\n",
              "      <td>94.081260</td>\n",
              "      <td>314.469440</td>\n",
              "      <td>297.353617</td>\n",
              "      <td>266.461686</td>\n",
              "      <td>174.146210</td>\n",
              "      <td>107.208418</td>\n",
              "      <td>146.683995</td>\n",
              "      <td>215.730965</td>\n",
              "      <td>278.121940</td>\n",
              "      <td>297.334275</td>\n",
              "      <td>228.178671</td>\n",
              "      <td>194.514679</td>\n",
              "      <td>209.428902</td>\n",
              "      <td>253.702586</td>\n",
              "      <td>250.357089</td>\n",
              "      <td>223.524388</td>\n",
              "      <td>270.912224</td>\n",
              "      <td>135.689167</td>\n",
              "      <td>202.430867</td>\n",
              "      <td>256.178607</td>\n",
              "      <td>261.892812</td>\n",
              "      <td>196.668893</td>\n",
              "      <td>187.590115</td>\n",
              "      <td>236.964152</td>\n",
              "    </tr>\n",
              "    <tr>\n",
              "      <th>100%_Natural_Bran</th>\n",
              "      <td>196.606553</td>\n",
              "      <td>0.000000</td>\n",
              "      <td>313.207176</td>\n",
              "      <td>250.949947</td>\n",
              "      <td>179.498135</td>\n",
              "      <td>154.672737</td>\n",
              "      <td>200.233623</td>\n",
              "      <td>190.150532</td>\n",
              "      <td>207.404829</td>\n",
              "      <td>230.117736</td>\n",
              "      <td>278.717913</td>\n",
              "      <td>216.770780</td>\n",
              "      <td>131.629867</td>\n",
              "      <td>185.856128</td>\n",
              "      <td>288.722482</td>\n",
              "      <td>295.003603</td>\n",
              "      <td>140.179302</td>\n",
              "      <td>181.797311</td>\n",
              "      <td>130.499224</td>\n",
              "      <td>232.728853</td>\n",
              "      <td>130.037955</td>\n",
              "      <td>186.863925</td>\n",
              "      <td>154.616152</td>\n",
              "      <td>217.107239</td>\n",
              "      <td>55.968927</td>\n",
              "      <td>161.124930</td>\n",
              "      <td>233.260936</td>\n",
              "      <td>165.307469</td>\n",
              "      <td>105.088649</td>\n",
              "      <td>281.475909</td>\n",
              "      <td>139.829821</td>\n",
              "      <td>165.176969</td>\n",
              "      <td>75.075638</td>\n",
              "      <td>225.691626</td>\n",
              "      <td>240.873492</td>\n",
              "      <td>195.088646</td>\n",
              "      <td>199.648320</td>\n",
              "      <td>190.242850</td>\n",
              "      <td>264.610829</td>\n",
              "      <td>144.947591</td>\n",
              "      <td>185.624757</td>\n",
              "      <td>58.278998</td>\n",
              "      <td>96.119418</td>\n",
              "      <td>145.100049</td>\n",
              "      <td>145.618784</td>\n",
              "      <td>212.571123</td>\n",
              "      <td>200.906913</td>\n",
              "      <td>208.087058</td>\n",
              "      <td>168.509324</td>\n",
              "      <td>158.212811</td>\n",
              "      <td>224.871282</td>\n",
              "      <td>334.329999</td>\n",
              "      <td>142.702534</td>\n",
              "      <td>115.271525</td>\n",
              "      <td>127.860763</td>\n",
              "      <td>223.116567</td>\n",
              "      <td>129.319238</td>\n",
              "      <td>53.944875</td>\n",
              "      <td>250.474073</td>\n",
              "      <td>294.360748</td>\n",
              "      <td>68.972766</td>\n",
              "      <td>54.840586</td>\n",
              "      <td>55.632314</td>\n",
              "      <td>113.365096</td>\n",
              "      <td>232.044462</td>\n",
              "      <td>65.422934</td>\n",
              "      <td>233.588487</td>\n",
              "      <td>224.018552</td>\n",
              "      <td>213.346338</td>\n",
              "      <td>248.628845</td>\n",
              "      <td>168.981708</td>\n",
              "      <td>219.150332</td>\n",
              "      <td>190.557235</td>\n",
              "      <td>201.657927</td>\n",
              "    </tr>\n",
              "    <tr>\n",
              "      <th>All-Bran</th>\n",
              "      <td>136.332663</td>\n",
              "      <td>313.207176</td>\n",
              "      <td>0.000000</td>\n",
              "      <td>126.992546</td>\n",
              "      <td>267.390429</td>\n",
              "      <td>323.699839</td>\n",
              "      <td>234.909473</td>\n",
              "      <td>205.497722</td>\n",
              "      <td>141.037117</td>\n",
              "      <td>295.302727</td>\n",
              "      <td>221.302623</td>\n",
              "      <td>286.950326</td>\n",
              "      <td>250.355729</td>\n",
              "      <td>282.403144</td>\n",
              "      <td>299.445733</td>\n",
              "      <td>288.941831</td>\n",
              "      <td>348.165804</td>\n",
              "      <td>273.087157</td>\n",
              "      <td>204.946689</td>\n",
              "      <td>296.186506</td>\n",
              "      <td>236.505194</td>\n",
              "      <td>252.622297</td>\n",
              "      <td>323.751856</td>\n",
              "      <td>305.240217</td>\n",
              "      <td>342.042962</td>\n",
              "      <td>165.259617</td>\n",
              "      <td>142.320600</td>\n",
              "      <td>324.672327</td>\n",
              "      <td>355.409115</td>\n",
              "      <td>281.185108</td>\n",
              "      <td>265.857677</td>\n",
              "      <td>250.556707</td>\n",
              "      <td>292.212825</td>\n",
              "      <td>285.082037</td>\n",
              "      <td>235.606845</td>\n",
              "      <td>300.578529</td>\n",
              "      <td>289.169401</td>\n",
              "      <td>264.598096</td>\n",
              "      <td>284.068264</td>\n",
              "      <td>252.786181</td>\n",
              "      <td>281.876125</td>\n",
              "      <td>345.417683</td>\n",
              "      <td>238.283932</td>\n",
              "      <td>204.442700</td>\n",
              "      <td>216.448338</td>\n",
              "      <td>236.422701</td>\n",
              "      <td>294.680229</td>\n",
              "      <td>207.820010</td>\n",
              "      <td>248.129998</td>\n",
              "      <td>229.488829</td>\n",
              "      <td>101.356464</td>\n",
              "      <td>293.786735</td>\n",
              "      <td>402.249263</td>\n",
              "      <td>376.352915</td>\n",
              "      <td>246.621793</td>\n",
              "      <td>109.192332</td>\n",
              "      <td>219.441314</td>\n",
              "      <td>335.016084</td>\n",
              "      <td>294.557847</td>\n",
              "      <td>290.517384</td>\n",
              "      <td>345.223262</td>\n",
              "      <td>318.514585</td>\n",
              "      <td>330.212114</td>\n",
              "      <td>342.152247</td>\n",
              "      <td>270.042711</td>\n",
              "      <td>336.795862</td>\n",
              "      <td>304.563987</td>\n",
              "      <td>156.994763</td>\n",
              "      <td>233.474702</td>\n",
              "      <td>264.571449</td>\n",
              "      <td>322.807338</td>\n",
              "      <td>209.911905</td>\n",
              "      <td>220.922633</td>\n",
              "      <td>271.112852</td>\n",
              "    </tr>\n",
              "    <tr>\n",
              "      <th>All-Bran_with_Extra_Fiber</th>\n",
              "      <td>60.845846</td>\n",
              "      <td>250.949947</td>\n",
              "      <td>126.992546</td>\n",
              "      <td>0.000000</td>\n",
              "      <td>277.840976</td>\n",
              "      <td>312.838984</td>\n",
              "      <td>260.238826</td>\n",
              "      <td>222.276451</td>\n",
              "      <td>166.923545</td>\n",
              "      <td>323.140542</td>\n",
              "      <td>280.726555</td>\n",
              "      <td>311.134239</td>\n",
              "      <td>239.352024</td>\n",
              "      <td>293.689927</td>\n",
              "      <td>345.492904</td>\n",
              "      <td>338.620832</td>\n",
              "      <td>325.427753</td>\n",
              "      <td>284.433011</td>\n",
              "      <td>188.412357</td>\n",
              "      <td>320.222356</td>\n",
              "      <td>223.981284</td>\n",
              "      <td>265.020490</td>\n",
              "      <td>312.985897</td>\n",
              "      <td>323.174076</td>\n",
              "      <td>276.511127</td>\n",
              "      <td>158.709326</td>\n",
              "      <td>193.748065</td>\n",
              "      <td>318.339148</td>\n",
              "      <td>315.404241</td>\n",
              "      <td>331.131687</td>\n",
              "      <td>253.879964</td>\n",
              "      <td>252.861398</td>\n",
              "      <td>253.950364</td>\n",
              "      <td>313.058012</td>\n",
              "      <td>278.383579</td>\n",
              "      <td>311.145971</td>\n",
              "      <td>294.254895</td>\n",
              "      <td>271.102959</td>\n",
              "      <td>324.726508</td>\n",
              "      <td>245.695640</td>\n",
              "      <td>292.698282</td>\n",
              "      <td>281.257681</td>\n",
              "      <td>202.830457</td>\n",
              "      <td>198.905145</td>\n",
              "      <td>213.295028</td>\n",
              "      <td>263.839150</td>\n",
              "      <td>309.677247</td>\n",
              "      <td>240.113458</td>\n",
              "      <td>247.964665</td>\n",
              "      <td>235.992881</td>\n",
              "      <td>129.583795</td>\n",
              "      <td>353.267934</td>\n",
              "      <td>347.514206</td>\n",
              "      <td>315.824231</td>\n",
              "      <td>230.423577</td>\n",
              "      <td>145.356483</td>\n",
              "      <td>204.263710</td>\n",
              "      <td>267.030696</td>\n",
              "      <td>326.667882</td>\n",
              "      <td>341.113786</td>\n",
              "      <td>277.834394</td>\n",
              "      <td>241.910928</td>\n",
              "      <td>258.131690</td>\n",
              "      <td>311.294347</td>\n",
              "      <td>298.699625</td>\n",
              "      <td>276.051714</td>\n",
              "      <td>321.308942</td>\n",
              "      <td>175.533726</td>\n",
              "      <td>250.069155</td>\n",
              "      <td>303.249212</td>\n",
              "      <td>318.356506</td>\n",
              "      <td>242.838985</td>\n",
              "      <td>237.677788</td>\n",
              "      <td>289.334250</td>\n",
              "    </tr>\n",
              "    <tr>\n",
              "      <th>Apple_Cinnamon_Cheerios</th>\n",
              "      <td>223.249581</td>\n",
              "      <td>179.498135</td>\n",
              "      <td>267.390429</td>\n",
              "      <td>277.840976</td>\n",
              "      <td>0.000000</td>\n",
              "      <td>68.264130</td>\n",
              "      <td>48.190197</td>\n",
              "      <td>65.215692</td>\n",
              "      <td>127.746428</td>\n",
              "      <td>55.380366</td>\n",
              "      <td>117.968405</td>\n",
              "      <td>41.609109</td>\n",
              "      <td>54.444184</td>\n",
              "      <td>16.953976</td>\n",
              "      <td>111.153129</td>\n",
              "      <td>117.775247</td>\n",
              "      <td>103.227497</td>\n",
              "      <td>9.599879</td>\n",
              "      <td>99.202970</td>\n",
              "      <td>60.579197</td>\n",
              "      <td>65.191597</td>\n",
              "      <td>24.681397</td>\n",
              "      <td>68.145740</td>\n",
              "      <td>49.469295</td>\n",
              "      <td>185.097256</td>\n",
              "      <td>132.475281</td>\n",
              "      <td>135.166572</td>\n",
              "      <td>63.778536</td>\n",
              "      <td>138.886637</td>\n",
              "      <td>103.363691</td>\n",
              "      <td>49.877875</td>\n",
              "      <td>34.236232</td>\n",
              "      <td>111.092022</td>\n",
              "      <td>48.876429</td>\n",
              "      <td>72.838465</td>\n",
              "      <td>35.304743</td>\n",
              "      <td>77.056867</td>\n",
              "      <td>86.000343</td>\n",
              "      <td>86.941164</td>\n",
              "      <td>43.574446</td>\n",
              "      <td>15.596899</td>\n",
              "      <td>183.996597</td>\n",
              "      <td>137.570849</td>\n",
              "      <td>112.089257</td>\n",
              "      <td>107.514662</td>\n",
              "      <td>47.432549</td>\n",
              "      <td>33.551131</td>\n",
              "      <td>79.697364</td>\n",
              "      <td>44.040641</td>\n",
              "      <td>54.909116</td>\n",
              "      <td>191.603815</td>\n",
              "      <td>161.995119</td>\n",
              "      <td>201.851829</td>\n",
              "      <td>195.590903</td>\n",
              "      <td>64.518647</td>\n",
              "      <td>173.282038</td>\n",
              "      <td>81.938863</td>\n",
              "      <td>187.380418</td>\n",
              "      <td>74.723686</td>\n",
              "      <td>116.767627</td>\n",
              "      <td>190.227025</td>\n",
              "      <td>201.321172</td>\n",
              "      <td>194.927486</td>\n",
              "      <td>114.159801</td>\n",
              "      <td>58.159704</td>\n",
              "      <td>170.202382</td>\n",
              "      <td>86.623410</td>\n",
              "      <td>179.651476</td>\n",
              "      <td>90.036998</td>\n",
              "      <td>72.516173</td>\n",
              "      <td>60.362628</td>\n",
              "      <td>71.635883</td>\n",
              "      <td>51.799672</td>\n",
              "      <td>24.085181</td>\n",
              "    </tr>\n",
              "  </tbody>\n",
              "</table>\n",
              "</div>"
            ],
            "text/plain": [
              "name                        100%_Bran  ...  Wheaties_Honey_Gold\n",
              "name                                   ...                     \n",
              "100%_Bran                    0.000000  ...           236.964152\n",
              "100%_Natural_Bran          196.606553  ...           201.657927\n",
              "All-Bran                   136.332663  ...           271.112852\n",
              "All-Bran_with_Extra_Fiber   60.845846  ...           289.334250\n",
              "Apple_Cinnamon_Cheerios    223.249581  ...            24.085181\n",
              "\n",
              "[5 rows x 74 columns]"
            ]
          },
          "metadata": {
            "tags": []
          },
          "execution_count": 34
        }
      ]
    },
    {
      "cell_type": "code",
      "metadata": {
        "id": "V_muzpQ7Hzkn",
        "colab": {
          "base_uri": "https://localhost:8080/"
        },
        "outputId": "f9ff7385-9765-489f-ddfd-7eabbbbf8d25"
      },
      "source": [
        "print(cereals_df.dtypes)"
      ],
      "execution_count": null,
      "outputs": [
        {
          "output_type": "stream",
          "text": [
            "calories    float64\n",
            "protein     float64\n",
            "fat         float64\n",
            "sodium      float64\n",
            "fiber       float64\n",
            "carbo       float64\n",
            "sugars      float64\n",
            "potass      float64\n",
            "vitamins    float64\n",
            "shelf       float64\n",
            "weight      float64\n",
            "cups        float64\n",
            "rating      float64\n",
            "dtype: object\n"
          ],
          "name": "stdout"
        }
      ]
    },
    {
      "cell_type": "code",
      "metadata": {
        "id": "1XW6RQsYH5zZ",
        "colab": {
          "base_uri": "https://localhost:8080/",
          "height": 289
        },
        "outputId": "33c999e0-ae8c-458c-fdea-18af33f44930"
      },
      "source": [
        "# scikit-learn uses population standard deviation\r\n",
        "cereals_df_norm = cereals_df.apply(preprocessing.scale, axis=0)\r\n",
        "\r\n",
        "# pandas uses sample standard deviation\r\n",
        "cereals_df_norm = (cereals_df - cereals_df.mean())/cereals_df.std()\r\n",
        "\r\n",
        "# compute normalized distance based on Sodium and Potassium\r\n",
        "d_norm = pairwise.pairwise_distances(cereals_df_norm[['calories','protein','sodium','fiber','carbo','sugars','vitamins','shelf','weight','cups','rating','potass']], metric='euclidean')\r\n",
        "pd.DataFrame(d_norm, columns=cereals_df.index, index=cereals_df.index).head(5)"
      ],
      "execution_count": null,
      "outputs": [
        {
          "output_type": "execute_result",
          "data": {
            "text/html": [
              "<div>\n",
              "<style scoped>\n",
              "    .dataframe tbody tr th:only-of-type {\n",
              "        vertical-align: middle;\n",
              "    }\n",
              "\n",
              "    .dataframe tbody tr th {\n",
              "        vertical-align: top;\n",
              "    }\n",
              "\n",
              "    .dataframe thead th {\n",
              "        text-align: right;\n",
              "    }\n",
              "</style>\n",
              "<table border=\"1\" class=\"dataframe\">\n",
              "  <thead>\n",
              "    <tr style=\"text-align: right;\">\n",
              "      <th>name</th>\n",
              "      <th>100%_Bran</th>\n",
              "      <th>100%_Natural_Bran</th>\n",
              "      <th>All-Bran</th>\n",
              "      <th>All-Bran_with_Extra_Fiber</th>\n",
              "      <th>Apple_Cinnamon_Cheerios</th>\n",
              "      <th>Apple_Jacks</th>\n",
              "      <th>Basic_4</th>\n",
              "      <th>Bran_Chex</th>\n",
              "      <th>Bran_Flakes</th>\n",
              "      <th>Cap'n'Crunch</th>\n",
              "      <th>Cheerios</th>\n",
              "      <th>Cinnamon_Toast_Crunch</th>\n",
              "      <th>Clusters</th>\n",
              "      <th>Cocoa_Puffs</th>\n",
              "      <th>Corn_Chex</th>\n",
              "      <th>Corn_Flakes</th>\n",
              "      <th>Corn_Pops</th>\n",
              "      <th>Count_Chocula</th>\n",
              "      <th>Cracklin'_Oat_Bran</th>\n",
              "      <th>Crispix</th>\n",
              "      <th>Crispy_Wheat_&amp;_Raisins</th>\n",
              "      <th>Double_Chex</th>\n",
              "      <th>Froot_Loops</th>\n",
              "      <th>Frosted_Flakes</th>\n",
              "      <th>Frosted_Mini-Wheats</th>\n",
              "      <th>Fruit_&amp;_Fibre_Dates,_Walnuts,_and_Oats</th>\n",
              "      <th>Fruitful_Bran</th>\n",
              "      <th>Fruity_Pebbles</th>\n",
              "      <th>Golden_Crisp</th>\n",
              "      <th>Golden_Grahams</th>\n",
              "      <th>Grape_Nuts_Flakes</th>\n",
              "      <th>Grape-Nuts</th>\n",
              "      <th>Great_Grains_Pecan</th>\n",
              "      <th>Honey_Graham_Ohs</th>\n",
              "      <th>Honey_Nut_Cheerios</th>\n",
              "      <th>Honey-comb</th>\n",
              "      <th>Just_Right_Crunchy__Nuggets</th>\n",
              "      <th>Just_Right_Fruit_&amp;_Nut</th>\n",
              "      <th>Kix</th>\n",
              "      <th>Life</th>\n",
              "      <th>Lucky_Charms</th>\n",
              "      <th>Maypo</th>\n",
              "      <th>Muesli_Raisins,_Dates,_&amp;_Almonds</th>\n",
              "      <th>Muesli_Raisins,_Peaches,_&amp;_Pecans</th>\n",
              "      <th>Mueslix_Crispy_Blend</th>\n",
              "      <th>Multi-Grain_Cheerios</th>\n",
              "      <th>Nut&amp;Honey_Crunch</th>\n",
              "      <th>Nutri-Grain_Almond-Raisin</th>\n",
              "      <th>Nutri-grain_Wheat</th>\n",
              "      <th>Oatmeal_Raisin_Crisp</th>\n",
              "      <th>Post_Nat._Raisin_Bran</th>\n",
              "      <th>Product_19</th>\n",
              "      <th>Puffed_Rice</th>\n",
              "      <th>Puffed_Wheat</th>\n",
              "      <th>Quaker_Oat_Squares</th>\n",
              "      <th>Raisin_Bran</th>\n",
              "      <th>Raisin_Nut_Bran</th>\n",
              "      <th>Raisin_Squares</th>\n",
              "      <th>Rice_Chex</th>\n",
              "      <th>Rice_Krispies</th>\n",
              "      <th>Shredded_Wheat</th>\n",
              "      <th>Shredded_Wheat_'n'Bran</th>\n",
              "      <th>Shredded_Wheat_spoon_size</th>\n",
              "      <th>Smacks</th>\n",
              "      <th>Special_K</th>\n",
              "      <th>Strawberry_Fruit_Wheats</th>\n",
              "      <th>Total_Corn_Flakes</th>\n",
              "      <th>Total_Raisin_Bran</th>\n",
              "      <th>Total_Whole_Grain</th>\n",
              "      <th>Triples</th>\n",
              "      <th>Trix</th>\n",
              "      <th>Wheat_Chex</th>\n",
              "      <th>Wheaties</th>\n",
              "      <th>Wheaties_Honey_Gold</th>\n",
              "    </tr>\n",
              "    <tr>\n",
              "      <th>name</th>\n",
              "      <th></th>\n",
              "      <th></th>\n",
              "      <th></th>\n",
              "      <th></th>\n",
              "      <th></th>\n",
              "      <th></th>\n",
              "      <th></th>\n",
              "      <th></th>\n",
              "      <th></th>\n",
              "      <th></th>\n",
              "      <th></th>\n",
              "      <th></th>\n",
              "      <th></th>\n",
              "      <th></th>\n",
              "      <th></th>\n",
              "      <th></th>\n",
              "      <th></th>\n",
              "      <th></th>\n",
              "      <th></th>\n",
              "      <th></th>\n",
              "      <th></th>\n",
              "      <th></th>\n",
              "      <th></th>\n",
              "      <th></th>\n",
              "      <th></th>\n",
              "      <th></th>\n",
              "      <th></th>\n",
              "      <th></th>\n",
              "      <th></th>\n",
              "      <th></th>\n",
              "      <th></th>\n",
              "      <th></th>\n",
              "      <th></th>\n",
              "      <th></th>\n",
              "      <th></th>\n",
              "      <th></th>\n",
              "      <th></th>\n",
              "      <th></th>\n",
              "      <th></th>\n",
              "      <th></th>\n",
              "      <th></th>\n",
              "      <th></th>\n",
              "      <th></th>\n",
              "      <th></th>\n",
              "      <th></th>\n",
              "      <th></th>\n",
              "      <th></th>\n",
              "      <th></th>\n",
              "      <th></th>\n",
              "      <th></th>\n",
              "      <th></th>\n",
              "      <th></th>\n",
              "      <th></th>\n",
              "      <th></th>\n",
              "      <th></th>\n",
              "      <th></th>\n",
              "      <th></th>\n",
              "      <th></th>\n",
              "      <th></th>\n",
              "      <th></th>\n",
              "      <th></th>\n",
              "      <th></th>\n",
              "      <th></th>\n",
              "      <th></th>\n",
              "      <th></th>\n",
              "      <th></th>\n",
              "      <th></th>\n",
              "      <th></th>\n",
              "      <th></th>\n",
              "      <th></th>\n",
              "      <th></th>\n",
              "      <th></th>\n",
              "      <th></th>\n",
              "      <th></th>\n",
              "    </tr>\n",
              "  </thead>\n",
              "  <tbody>\n",
              "    <tr>\n",
              "      <th>100%_Bran</th>\n",
              "      <td>0.000000</td>\n",
              "      <td>6.354743</td>\n",
              "      <td>1.918743</td>\n",
              "      <td>3.242218</td>\n",
              "      <td>6.959706e+00</td>\n",
              "      <td>7.438183</td>\n",
              "      <td>7.242461</td>\n",
              "      <td>5.696335</td>\n",
              "      <td>4.024712</td>\n",
              "      <td>8.179838</td>\n",
              "      <td>7.852650</td>\n",
              "      <td>8.023781</td>\n",
              "      <td>5.542167</td>\n",
              "      <td>8.076867</td>\n",
              "      <td>8.824804</td>\n",
              "      <td>8.330699</td>\n",
              "      <td>7.769709</td>\n",
              "      <td>8.032321</td>\n",
              "      <td>4.486577</td>\n",
              "      <td>7.920834</td>\n",
              "      <td>5.780741</td>\n",
              "      <td>6.734249</td>\n",
              "      <td>7.408622</td>\n",
              "      <td>7.864201</td>\n",
              "      <td>5.634176</td>\n",
              "      <td>5.052165</td>\n",
              "      <td>5.710255</td>\n",
              "      <td>7.799476</td>\n",
              "      <td>7.663619</td>\n",
              "      <td>8.058497</td>\n",
              "      <td>5.703496</td>\n",
              "      <td>5.651040</td>\n",
              "      <td>5.429074</td>\n",
              "      <td>8.072244</td>\n",
              "      <td>6.795402</td>\n",
              "      <td>8.922246</td>\n",
              "      <td>8.077377</td>\n",
              "      <td>8.371031</td>\n",
              "      <td>9.287404</td>\n",
              "      <td>5.433050</td>\n",
              "      <td>7.645815</td>\n",
              "      <td>6.892880</td>\n",
              "      <td>7.037868</td>\n",
              "      <td>7.099886</td>\n",
              "      <td>8.053443</td>\n",
              "      <td>7.037958</td>\n",
              "      <td>7.546036</td>\n",
              "      <td>7.407715</td>\n",
              "      <td>6.173524</td>\n",
              "      <td>6.613593</td>\n",
              "      <td>5.284632</td>\n",
              "      <td>8.461933</td>\n",
              "      <td>8.284986</td>\n",
              "      <td>7.410321</td>\n",
              "      <td>5.159449</td>\n",
              "      <td>5.789986</td>\n",
              "      <td>4.853229</td>\n",
              "      <td>5.619553</td>\n",
              "      <td>9.281455</td>\n",
              "      <td>8.807986</td>\n",
              "      <td>6.896327</td>\n",
              "      <td>6.206183</td>\n",
              "      <td>6.614422</td>\n",
              "      <td>7.089242</td>\n",
              "      <td>7.506829</td>\n",
              "      <td>6.206905</td>\n",
              "      <td>8.855571</td>\n",
              "      <td>8.276283</td>\n",
              "      <td>6.944136</td>\n",
              "      <td>7.822578</td>\n",
              "      <td>8.115376</td>\n",
              "      <td>6.162087</td>\n",
              "      <td>6.575286</td>\n",
              "      <td>7.354116</td>\n",
              "    </tr>\n",
              "    <tr>\n",
              "      <th>100%_Natural_Bran</th>\n",
              "      <td>6.354743</td>\n",
              "      <td>0.000000</td>\n",
              "      <td>6.655346</td>\n",
              "      <td>8.655159</td>\n",
              "      <td>3.854895e+00</td>\n",
              "      <td>3.231563</td>\n",
              "      <td>4.439323</td>\n",
              "      <td>4.738198</td>\n",
              "      <td>4.148444</td>\n",
              "      <td>4.390618</td>\n",
              "      <td>6.063415</td>\n",
              "      <td>4.224707</td>\n",
              "      <td>3.222292</td>\n",
              "      <td>3.918595</td>\n",
              "      <td>6.002748</td>\n",
              "      <td>5.990347</td>\n",
              "      <td>3.541882</td>\n",
              "      <td>3.885385</td>\n",
              "      <td>3.102599</td>\n",
              "      <td>4.918887</td>\n",
              "      <td>2.723391</td>\n",
              "      <td>4.138221</td>\n",
              "      <td>3.142737</td>\n",
              "      <td>4.725266</td>\n",
              "      <td>3.213653</td>\n",
              "      <td>3.581395</td>\n",
              "      <td>4.564936</td>\n",
              "      <td>3.924457</td>\n",
              "      <td>3.868339</td>\n",
              "      <td>4.888250</td>\n",
              "      <td>3.294280</td>\n",
              "      <td>4.928277</td>\n",
              "      <td>3.671435</td>\n",
              "      <td>4.043502</td>\n",
              "      <td>4.240626</td>\n",
              "      <td>4.726608</td>\n",
              "      <td>5.623656</td>\n",
              "      <td>6.284993</td>\n",
              "      <td>5.672151</td>\n",
              "      <td>3.382426</td>\n",
              "      <td>3.451685</td>\n",
              "      <td>3.656026</td>\n",
              "      <td>3.241179</td>\n",
              "      <td>3.490122</td>\n",
              "      <td>5.252595</td>\n",
              "      <td>4.369026</td>\n",
              "      <td>3.980620</td>\n",
              "      <td>5.158440</td>\n",
              "      <td>4.411754</td>\n",
              "      <td>3.812062</td>\n",
              "      <td>4.608580</td>\n",
              "      <td>6.899783</td>\n",
              "      <td>6.225757</td>\n",
              "      <td>5.786156</td>\n",
              "      <td>3.697967</td>\n",
              "      <td>4.592537</td>\n",
              "      <td>3.111241</td>\n",
              "      <td>3.850195</td>\n",
              "      <td>6.196093</td>\n",
              "      <td>6.028277</td>\n",
              "      <td>5.099529</td>\n",
              "      <td>5.515750</td>\n",
              "      <td>5.549609</td>\n",
              "      <td>3.167997</td>\n",
              "      <td>5.537141</td>\n",
              "      <td>3.661221</td>\n",
              "      <td>6.441944</td>\n",
              "      <td>6.631904</td>\n",
              "      <td>5.725609</td>\n",
              "      <td>5.096052</td>\n",
              "      <td>3.804229</td>\n",
              "      <td>4.994006</td>\n",
              "      <td>4.645371</td>\n",
              "      <td>4.451291</td>\n",
              "    </tr>\n",
              "    <tr>\n",
              "      <th>All-Bran</th>\n",
              "      <td>1.918743</td>\n",
              "      <td>6.655346</td>\n",
              "      <td>0.000000</td>\n",
              "      <td>3.906774</td>\n",
              "      <td>6.789219e+00</td>\n",
              "      <td>7.493973</td>\n",
              "      <td>6.867189</td>\n",
              "      <td>5.431306</td>\n",
              "      <td>3.602832</td>\n",
              "      <td>7.865313</td>\n",
              "      <td>7.350657</td>\n",
              "      <td>7.690072</td>\n",
              "      <td>5.433179</td>\n",
              "      <td>7.869048</td>\n",
              "      <td>8.322130</td>\n",
              "      <td>7.819506</td>\n",
              "      <td>7.885942</td>\n",
              "      <td>7.811151</td>\n",
              "      <td>4.419867</td>\n",
              "      <td>7.577555</td>\n",
              "      <td>5.695683</td>\n",
              "      <td>6.414140</td>\n",
              "      <td>7.451670</td>\n",
              "      <td>7.658030</td>\n",
              "      <td>6.136206</td>\n",
              "      <td>4.868778</td>\n",
              "      <td>5.253762</td>\n",
              "      <td>7.734104</td>\n",
              "      <td>7.899063</td>\n",
              "      <td>7.541457</td>\n",
              "      <td>5.684938</td>\n",
              "      <td>5.466626</td>\n",
              "      <td>5.598507</td>\n",
              "      <td>7.780720</td>\n",
              "      <td>6.382534</td>\n",
              "      <td>8.741849</td>\n",
              "      <td>7.859404</td>\n",
              "      <td>8.118019</td>\n",
              "      <td>8.844202</td>\n",
              "      <td>5.358143</td>\n",
              "      <td>7.443377</td>\n",
              "      <td>7.156190</td>\n",
              "      <td>6.977096</td>\n",
              "      <td>6.869941</td>\n",
              "      <td>7.835971</td>\n",
              "      <td>6.699187</td>\n",
              "      <td>7.275308</td>\n",
              "      <td>6.964060</td>\n",
              "      <td>6.022006</td>\n",
              "      <td>6.346053</td>\n",
              "      <td>4.937575</td>\n",
              "      <td>7.875439</td>\n",
              "      <td>8.638815</td>\n",
              "      <td>7.853765</td>\n",
              "      <td>5.098548</td>\n",
              "      <td>5.357346</td>\n",
              "      <td>4.761573</td>\n",
              "      <td>6.028658</td>\n",
              "      <td>8.868239</td>\n",
              "      <td>8.266914</td>\n",
              "      <td>7.292787</td>\n",
              "      <td>6.598664</td>\n",
              "      <td>6.952533</td>\n",
              "      <td>7.312644</td>\n",
              "      <td>7.221055</td>\n",
              "      <td>6.606284</td>\n",
              "      <td>8.526740</td>\n",
              "      <td>7.951463</td>\n",
              "      <td>6.660774</td>\n",
              "      <td>7.294209</td>\n",
              "      <td>8.039233</td>\n",
              "      <td>5.737521</td>\n",
              "      <td>6.290066</td>\n",
              "      <td>7.065030</td>\n",
              "    </tr>\n",
              "    <tr>\n",
              "      <th>All-Bran_with_Extra_Fiber</th>\n",
              "      <td>3.242218</td>\n",
              "      <td>8.655159</td>\n",
              "      <td>3.906774</td>\n",
              "      <td>0.000000</td>\n",
              "      <td>9.294947e+00</td>\n",
              "      <td>9.735479</td>\n",
              "      <td>9.214591</td>\n",
              "      <td>7.413390</td>\n",
              "      <td>5.925072</td>\n",
              "      <td>10.588785</td>\n",
              "      <td>9.007989</td>\n",
              "      <td>10.328387</td>\n",
              "      <td>7.953596</td>\n",
              "      <td>10.346351</td>\n",
              "      <td>10.242543</td>\n",
              "      <td>9.615416</td>\n",
              "      <td>9.868988</td>\n",
              "      <td>10.306195</td>\n",
              "      <td>7.073208</td>\n",
              "      <td>9.353140</td>\n",
              "      <td>8.178574</td>\n",
              "      <td>8.532796</td>\n",
              "      <td>9.693167</td>\n",
              "      <td>10.003629</td>\n",
              "      <td>7.454894</td>\n",
              "      <td>7.359747</td>\n",
              "      <td>7.852352</td>\n",
              "      <td>10.124952</td>\n",
              "      <td>9.969793</td>\n",
              "      <td>10.207773</td>\n",
              "      <td>7.464120</td>\n",
              "      <td>7.577167</td>\n",
              "      <td>7.727683</td>\n",
              "      <td>10.279467</td>\n",
              "      <td>9.095926</td>\n",
              "      <td>10.779510</td>\n",
              "      <td>9.781548</td>\n",
              "      <td>10.185607</td>\n",
              "      <td>10.533328</td>\n",
              "      <td>7.659919</td>\n",
              "      <td>9.930301</td>\n",
              "      <td>8.478502</td>\n",
              "      <td>9.095635</td>\n",
              "      <td>9.176977</td>\n",
              "      <td>10.185810</td>\n",
              "      <td>8.758896</td>\n",
              "      <td>9.823288</td>\n",
              "      <td>9.169932</td>\n",
              "      <td>7.370978</td>\n",
              "      <td>9.102919</td>\n",
              "      <td>7.590010</td>\n",
              "      <td>9.824523</td>\n",
              "      <td>9.343676</td>\n",
              "      <td>8.492807</td>\n",
              "      <td>7.395566</td>\n",
              "      <td>7.850503</td>\n",
              "      <td>7.450188</td>\n",
              "      <td>7.559119</td>\n",
              "      <td>10.546547</td>\n",
              "      <td>10.228013</td>\n",
              "      <td>7.776926</td>\n",
              "      <td>7.030228</td>\n",
              "      <td>7.513423</td>\n",
              "      <td>9.650131</td>\n",
              "      <td>8.996993</td>\n",
              "      <td>7.638834</td>\n",
              "      <td>10.322487</td>\n",
              "      <td>10.115941</td>\n",
              "      <td>8.350453</td>\n",
              "      <td>9.494371</td>\n",
              "      <td>10.298919</td>\n",
              "      <td>7.753230</td>\n",
              "      <td>7.942271</td>\n",
              "      <td>9.365121</td>\n",
              "    </tr>\n",
              "    <tr>\n",
              "      <th>Apple_Cinnamon_Cheerios</th>\n",
              "      <td>6.959706</td>\n",
              "      <td>3.854895</td>\n",
              "      <td>6.789219</td>\n",
              "      <td>9.294947</td>\n",
              "      <td>4.214685e-08</td>\n",
              "      <td>2.073302</td>\n",
              "      <td>4.104845</td>\n",
              "      <td>2.643396</td>\n",
              "      <td>4.178717</td>\n",
              "      <td>2.109402</td>\n",
              "      <td>5.451903</td>\n",
              "      <td>2.035422</td>\n",
              "      <td>3.126493</td>\n",
              "      <td>2.171715</td>\n",
              "      <td>3.924915</td>\n",
              "      <td>3.929004</td>\n",
              "      <td>2.445167</td>\n",
              "      <td>2.168064</td>\n",
              "      <td>3.431373</td>\n",
              "      <td>4.346275</td>\n",
              "      <td>2.654697</td>\n",
              "      <td>3.500526</td>\n",
              "      <td>1.974582</td>\n",
              "      <td>1.499464</td>\n",
              "      <td>3.661068</td>\n",
              "      <td>3.997970</td>\n",
              "      <td>4.336691</td>\n",
              "      <td>2.006134</td>\n",
              "      <td>2.297884</td>\n",
              "      <td>2.414666</td>\n",
              "      <td>3.619365</td>\n",
              "      <td>4.458453</td>\n",
              "      <td>3.987303</td>\n",
              "      <td>2.141309</td>\n",
              "      <td>1.318079</td>\n",
              "      <td>2.899998</td>\n",
              "      <td>4.709356</td>\n",
              "      <td>5.523346</td>\n",
              "      <td>4.837752</td>\n",
              "      <td>2.798065</td>\n",
              "      <td>1.842644</td>\n",
              "      <td>4.399208</td>\n",
              "      <td>4.493929</td>\n",
              "      <td>4.368709</td>\n",
              "      <td>5.396368</td>\n",
              "      <td>2.117493</td>\n",
              "      <td>1.944466</td>\n",
              "      <td>4.836387</td>\n",
              "      <td>4.577363</td>\n",
              "      <td>3.542415</td>\n",
              "      <td>4.851891</td>\n",
              "      <td>5.624369</td>\n",
              "      <td>6.718284</td>\n",
              "      <td>6.614496</td>\n",
              "      <td>3.866722</td>\n",
              "      <td>4.081807</td>\n",
              "      <td>3.183980</td>\n",
              "      <td>4.309723</td>\n",
              "      <td>4.378014</td>\n",
              "      <td>3.930518</td>\n",
              "      <td>5.099763</td>\n",
              "      <td>5.506351</td>\n",
              "      <td>5.440651</td>\n",
              "      <td>2.216205</td>\n",
              "      <td>4.776097</td>\n",
              "      <td>3.898725</td>\n",
              "      <td>5.404172</td>\n",
              "      <td>6.352075</td>\n",
              "      <td>5.115347</td>\n",
              "      <td>4.149902</td>\n",
              "      <td>2.256523</td>\n",
              "      <td>3.136962</td>\n",
              "      <td>3.293519</td>\n",
              "      <td>1.598483</td>\n",
              "    </tr>\n",
              "  </tbody>\n",
              "</table>\n",
              "</div>"
            ],
            "text/plain": [
              "name                       100%_Bran  ...  Wheaties_Honey_Gold\n",
              "name                                  ...                     \n",
              "100%_Bran                   0.000000  ...             7.354116\n",
              "100%_Natural_Bran           6.354743  ...             4.451291\n",
              "All-Bran                    1.918743  ...             7.065030\n",
              "All-Bran_with_Extra_Fiber   3.242218  ...             9.365121\n",
              "Apple_Cinnamon_Cheerios     6.959706  ...             1.598483\n",
              "\n",
              "[5 rows x 74 columns]"
            ]
          },
          "metadata": {
            "tags": []
          },
          "execution_count": 36
        }
      ]
    },
    {
      "cell_type": "code",
      "metadata": {
        "id": "8niWBKT3H_hx",
        "colab": {
          "base_uri": "https://localhost:8080/",
          "height": 470
        },
        "outputId": "6acd535b-9f8c-4b19-ce54-6629cf3682dd"
      },
      "source": [
        "#single linkage hierachal clustering\r\n",
        "Z = linkage(cereals_df_norm, method='single')\r\n",
        "\r\n",
        "fig = plt.figure(figsize=(10, 6))\r\n",
        "fig.subplots_adjust(bottom=0.23)\r\n",
        "plt.title('Hierarchical Clustering Dendrogram (Single linkage)')\r\n",
        "plt.xlabel('name')\r\n",
        "dendrogram(Z, labels=cereals_df_norm.index, color_threshold=2.75)\r\n",
        "plt.axhline(y=2.75, color='black', linewidth=0.5, linestyle='dashed')\r\n",
        "plt.show()"
      ],
      "execution_count": null,
      "outputs": [
        {
          "output_type": "display_data",
          "data": {
            "image/png": "[encoded data removed]",
            "text/plain": [
              "<Figure size 720x432 with 1 Axes>"
            ]
          },
          "metadata": {
            "tags": [],
            "needs_background": "light"
          }
        }
      ]
    },
    {
      "cell_type": "code",
      "metadata": {
        "id": "Vqe93t9yIDdX",
        "colab": {
          "base_uri": "https://localhost:8080/",
          "height": 470
        },
        "outputId": "1748de4a-69e6-46f2-d0fb-a12bef60594d"
      },
      "source": [
        "#complete linkage hierachal clustering\r\n",
        "Z = linkage(cereals_df_norm, method='complete')\r\n",
        "fig = plt.figure(figsize=(10, 6))\r\n",
        "fig.subplots_adjust(bottom=0.23)\r\n",
        "plt.title('Hierarchical Clustering Dendrogram (Complete linkage)')\r\n",
        "plt.xlabel('Company')\r\n",
        "dendrogram(Z, labels=cereals_df_norm.index, color_threshold=3.6)\r\n",
        "plt.axhline(y=3.6, color='black', linewidth=0.5, linestyle='dashed')\r\n",
        "plt.show()"
      ],
      "execution_count": null,
      "outputs": [
        {
          "output_type": "display_data",
          "data": {
            "image/png": "[encoded data removed]",
            "text/plain": [
              "<Figure size 720x432 with 1 Axes>"
            ]
          },
          "metadata": {
            "tags": [],
            "needs_background": "light"
          }
        }
      ]
    },
    {
      "cell_type": "code",
      "metadata": {
        "id": "o51u7LutIHDu",
        "colab": {
          "base_uri": "https://localhost:8080/"
        },
        "outputId": "3fdce95b-4107-4d90-e9bf-108211959b31"
      },
      "source": [
        "## Single Linkage (Minimum distance)\r\n",
        "memb = fcluster(linkage(cereals_df_norm, 'single'), 6, criterion='maxclust')\r\n",
        "memb = pd.Series(memb, index=cereals_df_norm.index)\r\n",
        "print('\\033[1m'+'Single linkage cluster membership:'+'\\033[0m') # prefix and suffix for 'bold' print\r\n",
        "for key, item in memb.groupby(memb):\r\n",
        "  #clusteritem=[]\r\n",
        "  #clusteritem.append(item.index)\r\n",
        "  #dfclusteritem=pd.DataFrame(clusteritem,columns=cereals_df_norm.columns)\r\n",
        "  #print(dfclusteritem)\r\n",
        "  print(key, ': ', ', '.join(item.index))\r\n",
        "   "
      ],
      "execution_count": null,
      "outputs": [
        {
          "output_type": "stream",
          "text": [
            "\u001b[1mSingle linkage cluster membership:\u001b[0m\n",
            "1 :  Puffed_Rice, Puffed_Wheat\n",
            "2 :  100%_Bran, All-Bran\n",
            "3 :  All-Bran_with_Extra_Fiber\n",
            "4 :  Just_Right_Crunchy__Nuggets, Just_Right_Fruit_&_Nut, Product_19, Total_Corn_Flakes, Total_Raisin_Bran, Total_Whole_Grain\n",
            "5 :  Apple_Cinnamon_Cheerios, Apple_Jacks, Basic_4, Bran_Chex, Bran_Flakes, Cap'n'Crunch, Cheerios, Cinnamon_Toast_Crunch, Clusters, Cocoa_Puffs, Corn_Chex, Corn_Flakes, Corn_Pops, Count_Chocula, Cracklin'_Oat_Bran, Crispix, Crispy_Wheat_&_Raisins, Double_Chex, Froot_Loops, Frosted_Flakes, Frosted_Mini-Wheats, Fruit_&_Fibre_Dates,_Walnuts,_and_Oats, Fruitful_Bran, Fruity_Pebbles, Golden_Crisp, Golden_Grahams, Grape_Nuts_Flakes, Grape-Nuts, Great_Grains_Pecan, Honey_Graham_Ohs, Honey_Nut_Cheerios, Honey-comb, Kix, Life, Lucky_Charms, Maypo, Muesli_Raisins,_Dates,_&_Almonds, Muesli_Raisins,_Peaches,_&_Pecans, Mueslix_Crispy_Blend, Multi-Grain_Cheerios, Nut&Honey_Crunch, Nutri-Grain_Almond-Raisin, Nutri-grain_Wheat, Oatmeal_Raisin_Crisp, Post_Nat._Raisin_Bran, Quaker_Oat_Squares, Raisin_Bran, Raisin_Nut_Bran, Raisin_Squares, Rice_Chex, Rice_Krispies, Shredded_Wheat, Shredded_Wheat_'n'Bran, Shredded_Wheat_spoon_size, Smacks, Special_K, Strawberry_Fruit_Wheats, Triples, Trix, Wheat_Chex, Wheaties, Wheaties_Honey_Gold\n",
            "6 :  100%_Natural_Bran\n"
          ],
          "name": "stdout"
        }
      ]
    },
    {
      "cell_type": "code",
      "metadata": {
        "colab": {
          "base_uri": "https://localhost:8080/",
          "height": 337
        },
        "id": "ZrXxp4qQgDKL",
        "outputId": "e2b0dcdb-ff3f-4a23-e28c-8a4e833b4c15"
      },
      "source": [
        "#single linkage\n",
        "memb_df=pd.DataFrame(memb)\n",
        "memb_df=memb_df.rename(columns={0:'label'})\n",
        "memb_norm=pd.concat([cereals_df_norm,memb_df],axis=1)\n",
        "centroids=memb_norm.groupby(['label']).mean()\n",
        "centroids"
      ],
      "execution_count": null,
      "outputs": [
        {
          "output_type": "execute_result",
          "data": {
            "text/html": [
              "<div>\n",
              "<style scoped>\n",
              "    .dataframe tbody tr th:only-of-type {\n",
              "        vertical-align: middle;\n",
              "    }\n",
              "\n",
              "    .dataframe tbody tr th {\n",
              "        vertical-align: top;\n",
              "    }\n",
              "\n",
              "    .dataframe thead th {\n",
              "        text-align: right;\n",
              "    }\n",
              "</style>\n",
              "<table border=\"1\" class=\"dataframe\">\n",
              "  <thead>\n",
              "    <tr style=\"text-align: right;\">\n",
              "      <th></th>\n",
              "      <th>calories</th>\n",
              "      <th>protein</th>\n",
              "      <th>fat</th>\n",
              "      <th>sodium</th>\n",
              "      <th>fiber</th>\n",
              "      <th>carbo</th>\n",
              "      <th>sugars</th>\n",
              "      <th>potass</th>\n",
              "      <th>vitamins</th>\n",
              "      <th>shelf</th>\n",
              "      <th>weight</th>\n",
              "      <th>cups</th>\n",
              "      <th>rating</th>\n",
              "    </tr>\n",
              "    <tr>\n",
              "      <th>label</th>\n",
              "      <th></th>\n",
              "      <th></th>\n",
              "      <th></th>\n",
              "      <th></th>\n",
              "      <th></th>\n",
              "      <th></th>\n",
              "      <th></th>\n",
              "      <th></th>\n",
              "      <th></th>\n",
              "      <th></th>\n",
              "      <th></th>\n",
              "      <th></th>\n",
              "      <th></th>\n",
              "    </tr>\n",
              "  </thead>\n",
              "  <tbody>\n",
              "    <tr>\n",
              "      <th>1</th>\n",
              "      <td>-2.873782</td>\n",
              "      <td>-0.942101</td>\n",
              "      <td>-9.932203e-01</td>\n",
              "      <td>-1.961644</td>\n",
              "      <td>-0.691459</td>\n",
              "      <td>-0.829907</td>\n",
              "      <td>-1.630632</td>\n",
              "      <td>-0.931359</td>\n",
              "      <td>-1.303202</td>\n",
              "      <td>0.941971</td>\n",
              "      <td>-3.459955</td>\n",
              "      <td>0.756753</td>\n",
              "      <td>1.390159</td>\n",
              "    </tr>\n",
              "    <tr>\n",
              "      <th>2</th>\n",
              "      <td>-1.865915</td>\n",
              "      <td>1.381748</td>\n",
              "      <td>0.000000e+00</td>\n",
              "      <td>0.394288</td>\n",
              "      <td>3.022345</td>\n",
              "      <td>-2.243181</td>\n",
              "      <td>-0.368907</td>\n",
              "      <td>2.842695</td>\n",
              "      <td>-0.181842</td>\n",
              "      <td>0.941971</td>\n",
              "      <td>-0.200832</td>\n",
              "      <td>-2.085658</td>\n",
              "      <td>1.535050</td>\n",
              "    </tr>\n",
              "    <tr>\n",
              "      <th>3</th>\n",
              "      <td>-2.873782</td>\n",
              "      <td>1.381748</td>\n",
              "      <td>-9.932203e-01</td>\n",
              "      <td>-0.270206</td>\n",
              "      <td>4.879247</td>\n",
              "      <td>-1.729263</td>\n",
              "      <td>-1.630632</td>\n",
              "      <td>3.265954</td>\n",
              "      <td>-0.181842</td>\n",
              "      <td>0.941971</td>\n",
              "      <td>-0.200832</td>\n",
              "      <td>-1.364449</td>\n",
              "      <td>3.657844</td>\n",
              "    </tr>\n",
              "    <tr>\n",
              "      <th>4</th>\n",
              "      <td>0.485774</td>\n",
              "      <td>0.142362</td>\n",
              "      <td>-1.655367e-01</td>\n",
              "      <td>0.555377</td>\n",
              "      <td>-0.141266</td>\n",
              "      <td>0.883151</td>\n",
              "      <td>-0.177737</td>\n",
              "      <td>-0.037814</td>\n",
              "      <td>3.182239</td>\n",
              "      <td>0.941971</td>\n",
              "      <td>0.668267</td>\n",
              "      <td>0.579987</td>\n",
              "      <td>-0.304512</td>\n",
              "    </tr>\n",
              "    <tr>\n",
              "      <th>5</th>\n",
              "      <td>0.141690</td>\n",
              "      <td>-0.057539</td>\n",
              "      <td>3.581365e-18</td>\n",
              "      <td>0.029888</td>\n",
              "      <td>-0.139047</td>\n",
              "      <td>0.069448</td>\n",
              "      <td>0.104702</td>\n",
              "      <td>-0.118976</td>\n",
              "      <td>-0.236102</td>\n",
              "      <td>-0.182317</td>\n",
              "      <td>0.059897</td>\n",
              "      <td>-0.003458</td>\n",
              "      <td>-0.114250</td>\n",
              "    </tr>\n",
              "    <tr>\n",
              "      <th>6</th>\n",
              "      <td>0.653751</td>\n",
              "      <td>0.452208</td>\n",
              "      <td>3.972881e+00</td>\n",
              "      <td>-1.780419</td>\n",
              "      <td>-0.072492</td>\n",
              "      <td>-1.729263</td>\n",
              "      <td>0.204604</td>\n",
              "      <td>0.514774</td>\n",
              "      <td>-1.303202</td>\n",
              "      <td>0.941971</td>\n",
              "      <td>-0.200832</td>\n",
              "      <td>0.756753</td>\n",
              "      <td>-0.597711</td>\n",
              "    </tr>\n",
              "  </tbody>\n",
              "</table>\n",
              "</div>"
            ],
            "text/plain": [
              "       calories   protein           fat  ...    weight      cups    rating\n",
              "label                                    ...                              \n",
              "1     -2.873782 -0.942101 -9.932203e-01  ... -3.459955  0.756753  1.390159\n",
              "2     -1.865915  1.381748  0.000000e+00  ... -0.200832 -2.085658  1.535050\n",
              "3     -2.873782  1.381748 -9.932203e-01  ... -0.200832 -1.364449  3.657844\n",
              "4      0.485774  0.142362 -1.655367e-01  ...  0.668267  0.579987 -0.304512\n",
              "5      0.141690 -0.057539  3.581365e-18  ...  0.059897 -0.003458 -0.114250\n",
              "6      0.653751  0.452208  3.972881e+00  ... -0.200832  0.756753 -0.597711\n",
              "\n",
              "[6 rows x 13 columns]"
            ]
          },
          "metadata": {
            "tags": []
          },
          "execution_count": 40
        }
      ]
    },
    {
      "cell_type": "code",
      "metadata": {
        "colab": {
          "base_uri": "https://localhost:8080/",
          "height": 729
        },
        "id": "05H9DiZsCydz",
        "outputId": "88b552bb-1349-4570-86d8-bca2374b3dc0"
      },
      "source": [
        "cereals_df_norm.index = ['{}: {}'.format(cluster, state) for cluster, state in zip(memb, cereals_df_norm.index)]\n",
        "sns.clustermap(cereals_df_norm, method='single', col_cluster=False,  cmap=\"mako_r\")\n",
        "plt.show()"
      ],
      "execution_count": null,
      "outputs": [
        {
          "output_type": "display_data",
          "data": {
            "image/png": "[encoded data removed]",
            "text/plain": [
              "<Figure size 720x720 with 4 Axes>"
            ]
          },
          "metadata": {
            "tags": [],
            "needs_background": "light"
          }
        }
      ]
    },
    {
      "cell_type": "code",
      "metadata": {
        "id": "qN5dFplEIKCH",
        "colab": {
          "base_uri": "https://localhost:8080/"
        },
        "outputId": "ea8699eb-a570-4009-af13-3e348f52c12f"
      },
      "source": [
        "# Complete Linkage (Maximum distance)\r\n",
        "memb = fcluster(linkage(cereals_df_norm, 'complete'), 6, criterion='maxclust')\r\n",
        "memb = pd.Series(memb, index=cereals_df_norm.index)\r\n",
        "print('\\033[1m'+'Complete linkage cluster membership:'+'\\033[0m')\r\n",
        "for key, item in memb.groupby(memb):\r\n",
        "    print(key, ': ', ', '.join(item.index))"
      ],
      "execution_count": null,
      "outputs": [
        {
          "output_type": "stream",
          "text": [
            "\u001b[1mComplete linkage cluster membership:\u001b[0m\n",
            "1 :  5: Basic_4, 5: Fruit_&_Fibre_Dates,_Walnuts,_and_Oats, 5: Fruitful_Bran, 4: Just_Right_Fruit_&_Nut, 5: Muesli_Raisins,_Dates,_&_Almonds, 5: Muesli_Raisins,_Peaches,_&_Pecans, 5: Mueslix_Crispy_Blend, 5: Nutri-Grain_Almond-Raisin, 5: Oatmeal_Raisin_Crisp, 5: Post_Nat._Raisin_Bran, 5: Raisin_Bran, 4: Total_Raisin_Bran\n",
            "2 :  5: Cheerios, 5: Corn_Chex, 5: Corn_Flakes, 5: Crispix, 5: Double_Chex, 4: Just_Right_Crunchy__Nuggets, 5: Kix, 4: Product_19, 5: Rice_Chex, 5: Rice_Krispies, 5: Special_K, 4: Total_Corn_Flakes, 4: Total_Whole_Grain, 5: Triples\n",
            "3 :  5: Apple_Cinnamon_Cheerios, 5: Apple_Jacks, 5: Bran_Chex, 5: Bran_Flakes, 5: Cap'n'Crunch, 5: Cinnamon_Toast_Crunch, 5: Clusters, 5: Cocoa_Puffs, 5: Corn_Pops, 5: Count_Chocula, 5: Cracklin'_Oat_Bran, 5: Crispy_Wheat_&_Raisins, 5: Froot_Loops, 5: Frosted_Flakes, 5: Fruity_Pebbles, 5: Golden_Crisp, 5: Golden_Grahams, 5: Grape_Nuts_Flakes, 5: Grape-Nuts, 5: Great_Grains_Pecan, 5: Honey_Graham_Ohs, 5: Honey_Nut_Cheerios, 5: Honey-comb, 5: Life, 5: Lucky_Charms, 5: Multi-Grain_Cheerios, 5: Nut&Honey_Crunch, 5: Nutri-grain_Wheat, 5: Quaker_Oat_Squares, 5: Raisin_Nut_Bran, 5: Smacks, 5: Trix, 5: Wheat_Chex, 5: Wheaties, 5: Wheaties_Honey_Gold\n",
            "4 :  2: 100%_Bran, 2: All-Bran, 3: All-Bran_with_Extra_Fiber\n",
            "5 :  5: Frosted_Mini-Wheats, 5: Maypo, 1: Puffed_Rice, 1: Puffed_Wheat, 5: Raisin_Squares, 5: Shredded_Wheat, 5: Shredded_Wheat_'n'Bran, 5: Shredded_Wheat_spoon_size, 5: Strawberry_Fruit_Wheats\n",
            "6 :  6: 100%_Natural_Bran\n"
          ],
          "name": "stdout"
        }
      ]
    },
    {
      "cell_type": "code",
      "metadata": {
        "colab": {
          "base_uri": "https://localhost:8080/",
          "height": 286
        },
        "id": "vwH9FDXi_na6",
        "outputId": "b5888366-6125-465c-9a5e-ddcb5163e582"
      },
      "source": [
        "#Complete linkage\n",
        "memb_df=pd.DataFrame(memb)\n",
        "memb_df=memb_df.rename(columns={0:'label'})\n",
        "memb_norm=pd.concat([cereals_df_norm,memb_df],axis=1)\n",
        "centroids=memb_norm.groupby(['label']).mean()\n",
        "centroids\n"
      ],
      "execution_count": null,
      "outputs": [
        {
          "output_type": "execute_result",
          "data": {
            "text/html": [
              "<div>\n",
              "<style scoped>\n",
              "    .dataframe tbody tr th:only-of-type {\n",
              "        vertical-align: middle;\n",
              "    }\n",
              "\n",
              "    .dataframe tbody tr th {\n",
              "        vertical-align: top;\n",
              "    }\n",
              "\n",
              "    .dataframe thead th {\n",
              "        text-align: right;\n",
              "    }\n",
              "</style>\n",
              "<table border=\"1\" class=\"dataframe\">\n",
              "  <thead>\n",
              "    <tr style=\"text-align: right;\">\n",
              "      <th></th>\n",
              "      <th>calories</th>\n",
              "      <th>protein</th>\n",
              "      <th>fat</th>\n",
              "      <th>sodium</th>\n",
              "      <th>fiber</th>\n",
              "      <th>carbo</th>\n",
              "      <th>sugars</th>\n",
              "      <th>potass</th>\n",
              "      <th>vitamins</th>\n",
              "      <th>shelf</th>\n",
              "      <th>weight</th>\n",
              "      <th>cups</th>\n",
              "      <th>rating</th>\n",
              "    </tr>\n",
              "    <tr>\n",
              "      <th>label</th>\n",
              "      <th></th>\n",
              "      <th></th>\n",
              "      <th></th>\n",
              "      <th></th>\n",
              "      <th></th>\n",
              "      <th></th>\n",
              "      <th></th>\n",
              "      <th></th>\n",
              "      <th></th>\n",
              "      <th></th>\n",
              "      <th></th>\n",
              "      <th></th>\n",
              "      <th></th>\n",
              "    </tr>\n",
              "  </thead>\n",
              "  <tbody>\n",
              "    <tr>\n",
              "      <th>1</th>\n",
              "      <td>1.409651</td>\n",
              "      <td>0.607132</td>\n",
              "      <td>0.662147</td>\n",
              "      <td>0.218097</td>\n",
              "      <td>0.563669</td>\n",
              "      <td>0.230048</td>\n",
              "      <td>0.873701</td>\n",
              "      <td>1.037968</td>\n",
              "      <td>0.378838</td>\n",
              "      <td>0.841819</td>\n",
              "      <td>1.673163</td>\n",
              "      <td>-0.268495</td>\n",
              "      <td>-0.442940</td>\n",
              "    </tr>\n",
              "    <tr>\n",
              "      <th>2</th>\n",
              "      <td>0.005837</td>\n",
              "      <td>0.120230</td>\n",
              "      <td>-0.496610</td>\n",
              "      <td>0.998373</td>\n",
              "      <td>-0.573560</td>\n",
              "      <td>1.280825</td>\n",
              "      <td>-0.926033</td>\n",
              "      <td>-0.639109</td>\n",
              "      <td>0.779324</td>\n",
              "      <td>-0.174010</td>\n",
              "      <td>-0.200832</td>\n",
              "      <td>0.871904</td>\n",
              "      <td>0.069518</td>\n",
              "    </tr>\n",
              "    <tr>\n",
              "      <th>3</th>\n",
              "      <td>0.005837</td>\n",
              "      <td>-0.371098</td>\n",
              "      <td>0.113511</td>\n",
              "      <td>0.061178</td>\n",
              "      <td>-0.267024</td>\n",
              "      <td>-0.404090</td>\n",
              "      <td>0.414345</td>\n",
              "      <td>-0.341821</td>\n",
              "      <td>-0.181842</td>\n",
              "      <td>-0.259854</td>\n",
              "      <td>-0.200832</td>\n",
              "      <td>-0.149909</td>\n",
              "      <td>-0.429404</td>\n",
              "    </tr>\n",
              "    <tr>\n",
              "      <th>4</th>\n",
              "      <td>-2.201871</td>\n",
              "      <td>1.381748</td>\n",
              "      <td>-0.331073</td>\n",
              "      <td>0.172790</td>\n",
              "      <td>3.641312</td>\n",
              "      <td>-2.071875</td>\n",
              "      <td>-0.789482</td>\n",
              "      <td>2.983781</td>\n",
              "      <td>-0.181842</td>\n",
              "      <td>0.941971</td>\n",
              "      <td>-0.200832</td>\n",
              "      <td>-1.845255</td>\n",
              "      <td>2.242648</td>\n",
              "    </tr>\n",
              "    <tr>\n",
              "      <th>5</th>\n",
              "      <td>-1.249997</td>\n",
              "      <td>-0.064202</td>\n",
              "      <td>-0.882862</td>\n",
              "      <td>-1.941508</td>\n",
              "      <td>-0.026642</td>\n",
              "      <td>0.155101</td>\n",
              "      <td>-1.095355</td>\n",
              "      <td>-0.112276</td>\n",
              "      <td>-0.804820</td>\n",
              "      <td>-0.259854</td>\n",
              "      <td>-1.048204</td>\n",
              "      <td>0.115679</td>\n",
              "      <td>1.471215</td>\n",
              "    </tr>\n",
              "    <tr>\n",
              "      <th>6</th>\n",
              "      <td>0.653751</td>\n",
              "      <td>0.452208</td>\n",
              "      <td>3.972881</td>\n",
              "      <td>-1.780419</td>\n",
              "      <td>-0.072492</td>\n",
              "      <td>-1.729263</td>\n",
              "      <td>0.204604</td>\n",
              "      <td>0.514774</td>\n",
              "      <td>-1.303202</td>\n",
              "      <td>0.941971</td>\n",
              "      <td>-0.200832</td>\n",
              "      <td>0.756753</td>\n",
              "      <td>-0.597711</td>\n",
              "    </tr>\n",
              "  </tbody>\n",
              "</table>\n",
              "</div>"
            ],
            "text/plain": [
              "       calories   protein       fat  ...    weight      cups    rating\n",
              "label                                ...                              \n",
              "1      1.409651  0.607132  0.662147  ...  1.673163 -0.268495 -0.442940\n",
              "2      0.005837  0.120230 -0.496610  ... -0.200832  0.871904  0.069518\n",
              "3      0.005837 -0.371098  0.113511  ... -0.200832 -0.149909 -0.429404\n",
              "4     -2.201871  1.381748 -0.331073  ... -0.200832 -1.845255  2.242648\n",
              "5     -1.249997 -0.064202 -0.882862  ... -1.048204  0.115679  1.471215\n",
              "6      0.653751  0.452208  3.972881  ... -0.200832  0.756753 -0.597711\n",
              "\n",
              "[6 rows x 13 columns]"
            ]
          },
          "metadata": {
            "tags": []
          },
          "execution_count": 43
        }
      ]
    },
    {
      "cell_type": "code",
      "metadata": {
        "id": "OWSAO7ieINHb",
        "colab": {
          "base_uri": "https://localhost:8080/",
          "height": 729
        },
        "outputId": "be5c7765-1fa3-4afd-af0d-3a51fe2bccaf"
      },
      "source": [
        "cereals_df_norm.index = ['{}: {}'.format(cluster, state) for cluster, state in zip(memb, cereals_df_norm.index)]\r\n",
        "sns.clustermap(cereals_df_norm, method='complete', col_cluster=False,  cmap=\"mako_r\")\r\n",
        "plt.show()"
      ],
      "execution_count": null,
      "outputs": [
        {
          "output_type": "display_data",
          "data": {
            "image/png": "[encoded data removed]",
            "text/plain": [
              "<Figure size 720x720 with 4 Axes>"
            ]
          },
          "metadata": {
            "tags": [],
            "needs_background": "light"
          }
        }
      ]
    },
    {
      "cell_type": "code",
      "metadata": {
        "colab": {
          "base_uri": "https://localhost:8080/",
          "height": 391
        },
        "id": "rhTe0FxCmc4w",
        "outputId": "50d05c6f-cafb-40b2-cf35-3c39b68781b2"
      },
      "source": [
        "centroids['cluster'] = ['Cluster {}'.format(i) for i in centroids.index]\n",
        "\n",
        "plt.figure(figsize=(10,6))\n",
        "fig.subplots_adjust(right=3)\n",
        "ax = parallel_coordinates(centroids, class_column='cluster', colormap='Dark2', linewidth=5)\n",
        "plt.legend(loc='center left', bbox_to_anchor=(0.95, 0.5))\n",
        "plt.xlim(-0.5,7.5)"
      ],
      "execution_count": null,
      "outputs": [
        {
          "output_type": "execute_result",
          "data": {
            "text/plain": [
              "(-0.5, 7.5)"
            ]
          },
          "metadata": {
            "tags": []
          },
          "execution_count": 45
        },
        {
          "output_type": "display_data",
          "data": {
            "image/png": "[encoded data removed]",
            "text/plain": [
              "<Figure size 720x432 with 1 Axes>"
            ]
          },
          "metadata": {
            "tags": [],
            "needs_background": "light"
          }
        }
      ]
    },
    {
      "cell_type": "code",
      "metadata": {
        "id": "GyE4zVuUIQFj"
      },
      "source": [
        "#a) OBSERVATIONS\r\n",
        "#complete linkage is better for stability because there are more cereals in each cluster and the cereals wont change much between clusters by changing measurements\r\n",
        "#single linkage first few clusters have only 2 cereals but for complete linkage there are more cereals in each cluster\r\n",
        "# 100% natural bran is always its own cluster in both single and complete linkage\r\n",
        "#all bran, all bran with extra fibre, and 100% natural bran are all grouped into one cluster in complete linkage whereas in single linkage, 100% natural bran is seperate from the two\r\n",
        "#b) most meaningful clusters is single linkage because the mean centroids show large differences between the cluster with the highest average and the rest of the values whereas the values in complete linkage are very similiar to each other which makes differentiation difficult to observe.\r\n",
        "#c) for the single linkage there are 6 clusters and distance is 2.75\r\n",
        "#d) the healthiest cluster is cluster 4 as it is the highest in vitamins, the data should be normalized because Euclidean distance is very sensitive to the changes in the differences and normalizing is essntial to do before clustering"
      ],
      "execution_count": null,
      "outputs": []
    },
    {
      "cell_type": "markdown",
      "metadata": {
        "id": "ygW4TJ9_YOvp"
      },
      "source": [
        "# Q4\n"
      ]
    },
    {
      "cell_type": "markdown",
      "metadata": {
        "id": "EfGYSZpsYbbs"
      },
      "source": [
        "## a."
      ]
    },
    {
      "cell_type": "code",
      "metadata": {
        "colab": {
          "base_uri": "https://localhost:8080/"
        },
        "id": "DQlst4jZYdaA",
        "outputId": "9a920dad-4fe0-4b30-b0fc-4978b145b885"
      },
      "source": [
        "%matplotlib inline\n",
        "% pip install dmba\n",
        "from pathlib import Path\n",
        "import pandas as pd\n",
        "from sklearn.model_selection import train_test_split\n",
        "from sklearn.neural_network import MLPRegressor\n",
        "from sklearn import preprocessing\n",
        "from sklearn.metrics import mean_squared_error\n",
        "from math import sqrt\n",
        "from dmba import classificationSummary\n",
        "import pydotplus\n",
        "from IPython.display import Image\n",
        "import numbers\n",
        "from matplotlib import pyplot as plt\n",
        "example_df = pd.read_csv('ToyotaCorolla.csv')"
      ],
      "execution_count": 109,
      "outputs": [
        {
          "output_type": "stream",
          "text": [
            "Requirement already satisfied: dmba in /usr/local/lib/python3.7/dist-packages (0.0.18)\n"
          ],
          "name": "stdout"
        }
      ]
    },
    {
      "cell_type": "code",
      "metadata": {
        "id": "e5hpMLO3YjS4",
        "colab": {
          "base_uri": "https://localhost:8080/",
          "height": 717
        },
        "outputId": "e3251d4a-db69-4f51-f106-6b61cb425786"
      },
      "source": [
        "example_df = pd.get_dummies(example_df, columns=[\"Fuel_Type\"])\n",
        "example_df.head(5)"
      ],
      "execution_count": 110,
      "outputs": [
        {
          "output_type": "execute_result",
          "data": {
            "text/html": [
              "<div>\n",
              "<style scoped>\n",
              "    .dataframe tbody tr th:only-of-type {\n",
              "        vertical-align: middle;\n",
              "    }\n",
              "\n",
              "    .dataframe tbody tr th {\n",
              "        vertical-align: top;\n",
              "    }\n",
              "\n",
              "    .dataframe thead th {\n",
              "        text-align: right;\n",
              "    }\n",
              "</style>\n",
              "<table border=\"1\" class=\"dataframe\">\n",
              "  <thead>\n",
              "    <tr style=\"text-align: right;\">\n",
              "      <th></th>\n",
              "      <th>Id</th>\n",
              "      <th>Model</th>\n",
              "      <th>Price</th>\n",
              "      <th>Age_08_04</th>\n",
              "      <th>Mfg_Month</th>\n",
              "      <th>Mfg_Year</th>\n",
              "      <th>KM</th>\n",
              "      <th>HP</th>\n",
              "      <th>Met_Color</th>\n",
              "      <th>Color</th>\n",
              "      <th>Automatic</th>\n",
              "      <th>CC</th>\n",
              "      <th>Doors</th>\n",
              "      <th>Cylinders</th>\n",
              "      <th>Gears</th>\n",
              "      <th>Quarterly_Tax</th>\n",
              "      <th>Weight</th>\n",
              "      <th>Mfr_Guarantee</th>\n",
              "      <th>BOVAG_Guarantee</th>\n",
              "      <th>Guarantee_Period</th>\n",
              "      <th>ABS</th>\n",
              "      <th>Airbag_1</th>\n",
              "      <th>Airbag_2</th>\n",
              "      <th>Airco</th>\n",
              "      <th>Automatic_airco</th>\n",
              "      <th>Boardcomputer</th>\n",
              "      <th>CD_Player</th>\n",
              "      <th>Central_Lock</th>\n",
              "      <th>Powered_Windows</th>\n",
              "      <th>Power_Steering</th>\n",
              "      <th>Radio</th>\n",
              "      <th>Mistlamps</th>\n",
              "      <th>Sport_Model</th>\n",
              "      <th>Backseat_Divider</th>\n",
              "      <th>Metallic_Rim</th>\n",
              "      <th>Radio_cassette</th>\n",
              "      <th>Parking_Assistant</th>\n",
              "      <th>Tow_Bar</th>\n",
              "      <th>Fuel_Type_CNG</th>\n",
              "      <th>Fuel_Type_Diesel</th>\n",
              "      <th>Fuel_Type_Petrol</th>\n",
              "    </tr>\n",
              "  </thead>\n",
              "  <tbody>\n",
              "    <tr>\n",
              "      <th>0</th>\n",
              "      <td>1</td>\n",
              "      <td>TOYOTA Corolla 2.0 D4D HATCHB TERRA 2/3-Doors</td>\n",
              "      <td>13500</td>\n",
              "      <td>23</td>\n",
              "      <td>10</td>\n",
              "      <td>2002</td>\n",
              "      <td>46986</td>\n",
              "      <td>90</td>\n",
              "      <td>1</td>\n",
              "      <td>Blue</td>\n",
              "      <td>0</td>\n",
              "      <td>2000</td>\n",
              "      <td>3</td>\n",
              "      <td>4</td>\n",
              "      <td>5</td>\n",
              "      <td>210</td>\n",
              "      <td>1165</td>\n",
              "      <td>0</td>\n",
              "      <td>1</td>\n",
              "      <td>3</td>\n",
              "      <td>1</td>\n",
              "      <td>1</td>\n",
              "      <td>1</td>\n",
              "      <td>0</td>\n",
              "      <td>0</td>\n",
              "      <td>1</td>\n",
              "      <td>0</td>\n",
              "      <td>1</td>\n",
              "      <td>1</td>\n",
              "      <td>1</td>\n",
              "      <td>0</td>\n",
              "      <td>0</td>\n",
              "      <td>0</td>\n",
              "      <td>1</td>\n",
              "      <td>0</td>\n",
              "      <td>0</td>\n",
              "      <td>0</td>\n",
              "      <td>0</td>\n",
              "      <td>0</td>\n",
              "      <td>1</td>\n",
              "      <td>0</td>\n",
              "    </tr>\n",
              "    <tr>\n",
              "      <th>1</th>\n",
              "      <td>2</td>\n",
              "      <td>TOYOTA Corolla 2.0 D4D HATCHB TERRA 2/3-Doors</td>\n",
              "      <td>13750</td>\n",
              "      <td>23</td>\n",
              "      <td>10</td>\n",
              "      <td>2002</td>\n",
              "      <td>72937</td>\n",
              "      <td>90</td>\n",
              "      <td>1</td>\n",
              "      <td>Silver</td>\n",
              "      <td>0</td>\n",
              "      <td>2000</td>\n",
              "      <td>3</td>\n",
              "      <td>4</td>\n",
              "      <td>5</td>\n",
              "      <td>210</td>\n",
              "      <td>1165</td>\n",
              "      <td>0</td>\n",
              "      <td>1</td>\n",
              "      <td>3</td>\n",
              "      <td>1</td>\n",
              "      <td>1</td>\n",
              "      <td>1</td>\n",
              "      <td>1</td>\n",
              "      <td>0</td>\n",
              "      <td>1</td>\n",
              "      <td>1</td>\n",
              "      <td>1</td>\n",
              "      <td>0</td>\n",
              "      <td>1</td>\n",
              "      <td>0</td>\n",
              "      <td>0</td>\n",
              "      <td>0</td>\n",
              "      <td>1</td>\n",
              "      <td>0</td>\n",
              "      <td>0</td>\n",
              "      <td>0</td>\n",
              "      <td>0</td>\n",
              "      <td>0</td>\n",
              "      <td>1</td>\n",
              "      <td>0</td>\n",
              "    </tr>\n",
              "    <tr>\n",
              "      <th>2</th>\n",
              "      <td>3</td>\n",
              "      <td>TOYOTA Corolla 2.0 D4D HATCHB TERRA 2/3-Doors</td>\n",
              "      <td>13950</td>\n",
              "      <td>24</td>\n",
              "      <td>9</td>\n",
              "      <td>2002</td>\n",
              "      <td>41711</td>\n",
              "      <td>90</td>\n",
              "      <td>1</td>\n",
              "      <td>Blue</td>\n",
              "      <td>0</td>\n",
              "      <td>2000</td>\n",
              "      <td>3</td>\n",
              "      <td>4</td>\n",
              "      <td>5</td>\n",
              "      <td>210</td>\n",
              "      <td>1165</td>\n",
              "      <td>1</td>\n",
              "      <td>1</td>\n",
              "      <td>3</td>\n",
              "      <td>1</td>\n",
              "      <td>1</td>\n",
              "      <td>1</td>\n",
              "      <td>0</td>\n",
              "      <td>0</td>\n",
              "      <td>1</td>\n",
              "      <td>0</td>\n",
              "      <td>0</td>\n",
              "      <td>0</td>\n",
              "      <td>1</td>\n",
              "      <td>0</td>\n",
              "      <td>0</td>\n",
              "      <td>0</td>\n",
              "      <td>1</td>\n",
              "      <td>0</td>\n",
              "      <td>0</td>\n",
              "      <td>0</td>\n",
              "      <td>0</td>\n",
              "      <td>0</td>\n",
              "      <td>1</td>\n",
              "      <td>0</td>\n",
              "    </tr>\n",
              "    <tr>\n",
              "      <th>3</th>\n",
              "      <td>4</td>\n",
              "      <td>TOYOTA Corolla 2.0 D4D HATCHB TERRA 2/3-Doors</td>\n",
              "      <td>14950</td>\n",
              "      <td>26</td>\n",
              "      <td>7</td>\n",
              "      <td>2002</td>\n",
              "      <td>48000</td>\n",
              "      <td>90</td>\n",
              "      <td>0</td>\n",
              "      <td>Black</td>\n",
              "      <td>0</td>\n",
              "      <td>2000</td>\n",
              "      <td>3</td>\n",
              "      <td>4</td>\n",
              "      <td>5</td>\n",
              "      <td>210</td>\n",
              "      <td>1165</td>\n",
              "      <td>1</td>\n",
              "      <td>1</td>\n",
              "      <td>3</td>\n",
              "      <td>1</td>\n",
              "      <td>1</td>\n",
              "      <td>1</td>\n",
              "      <td>0</td>\n",
              "      <td>0</td>\n",
              "      <td>1</td>\n",
              "      <td>0</td>\n",
              "      <td>0</td>\n",
              "      <td>0</td>\n",
              "      <td>1</td>\n",
              "      <td>0</td>\n",
              "      <td>0</td>\n",
              "      <td>0</td>\n",
              "      <td>1</td>\n",
              "      <td>0</td>\n",
              "      <td>0</td>\n",
              "      <td>0</td>\n",
              "      <td>0</td>\n",
              "      <td>0</td>\n",
              "      <td>1</td>\n",
              "      <td>0</td>\n",
              "    </tr>\n",
              "    <tr>\n",
              "      <th>4</th>\n",
              "      <td>5</td>\n",
              "      <td>TOYOTA Corolla 2.0 D4D HATCHB SOL 2/3-Doors</td>\n",
              "      <td>13750</td>\n",
              "      <td>30</td>\n",
              "      <td>3</td>\n",
              "      <td>2002</td>\n",
              "      <td>38500</td>\n",
              "      <td>90</td>\n",
              "      <td>0</td>\n",
              "      <td>Black</td>\n",
              "      <td>0</td>\n",
              "      <td>2000</td>\n",
              "      <td>3</td>\n",
              "      <td>4</td>\n",
              "      <td>5</td>\n",
              "      <td>210</td>\n",
              "      <td>1170</td>\n",
              "      <td>1</td>\n",
              "      <td>1</td>\n",
              "      <td>3</td>\n",
              "      <td>1</td>\n",
              "      <td>1</td>\n",
              "      <td>1</td>\n",
              "      <td>1</td>\n",
              "      <td>0</td>\n",
              "      <td>1</td>\n",
              "      <td>0</td>\n",
              "      <td>1</td>\n",
              "      <td>1</td>\n",
              "      <td>1</td>\n",
              "      <td>0</td>\n",
              "      <td>1</td>\n",
              "      <td>0</td>\n",
              "      <td>1</td>\n",
              "      <td>0</td>\n",
              "      <td>0</td>\n",
              "      <td>0</td>\n",
              "      <td>0</td>\n",
              "      <td>0</td>\n",
              "      <td>1</td>\n",
              "      <td>0</td>\n",
              "    </tr>\n",
              "  </tbody>\n",
              "</table>\n",
              "</div>"
            ],
            "text/plain": [
              "   Id  ... Fuel_Type_Petrol\n",
              "0   1  ...                0\n",
              "1   2  ...                0\n",
              "2   3  ...                0\n",
              "3   4  ...                0\n",
              "4   5  ...                0\n",
              "\n",
              "[5 rows x 41 columns]"
            ]
          },
          "metadata": {
            "tags": []
          },
          "execution_count": 110
        }
      ]
    },
    {
      "cell_type": "code",
      "metadata": {
        "id": "tbWLYqlTYqPh",
        "colab": {
          "base_uri": "https://localhost:8080/"
        },
        "outputId": "2c10e1a3-e94c-4956-fa51-168efb2aa417"
      },
      "source": [
        "predictors = [\"Age_08_04\", \n",
        "  \"KM\",\n",
        "  \"Fuel_Type_CNG\",\n",
        "  \"Fuel_Type_Diesel\",\n",
        "  \"Fuel_Type_Petrol\",\n",
        "  \"HP\", \n",
        "  \"Automatic\", \n",
        "  \"Doors\", \n",
        "  \"Quarterly_Tax\",\n",
        "  \"Mfr_Guarantee\",\n",
        "  \"Guarantee_Period\",\n",
        "  \"Airco\", \n",
        "  \"Automatic_airco\", \n",
        "  \"CD_Player\",\n",
        "  \"Powered_Windows\", \n",
        "  \"Sport_Model\", \n",
        "  \"Tow_Bar\"]\n",
        "outcome = 'Price'\n",
        "\n",
        "X = example_df[predictors]\n",
        "y = example_df[outcome]\n",
        "train_X, valid_X, train_y, valid_y = train_test_split(X, y, test_size=0.4, random_state=1)\n",
        "\n",
        "clf = MLPRegressor(hidden_layer_sizes=(2), activation='relu', solver='adam', random_state=1)\n",
        "clf.fit(train_X, train_y)\n",
        "clf.predict(train_X)"
      ],
      "execution_count": 111,
      "outputs": [
        {
          "output_type": "stream",
          "text": [
            "/usr/local/lib/python3.7/dist-packages/sklearn/neural_network/_multilayer_perceptron.py:571: ConvergenceWarning: Stochastic Optimizer: Maximum iterations (200) reached and the optimization hasn't converged yet.\n",
            "  % self.max_iter, ConvergenceWarning)\n"
          ],
          "name": "stderr"
        },
        {
          "output_type": "execute_result",
          "data": {
            "text/plain": [
              "array([ 9236.13264104, 14368.73945594, 11111.07269109,  3334.4369458 ,\n",
              "       12893.75074012,  8510.84601753,  8120.68565449, 14573.7861481 ,\n",
              "        4283.74929392, 10716.90001032,  6903.84263445,  8134.56948895,\n",
              "        9597.40437801,  4906.2935626 ,  3828.30686088,  3912.02826081,\n",
              "        8838.93455511,  6918.57089723,  8764.90065248,  8325.33120298,\n",
              "        8404.18920265,  4416.41828654,  9647.11103773,  8544.29653142,\n",
              "        6259.54463476,  7682.77546071,  5164.27471808,  6318.08341162,\n",
              "        4963.3006877 ,  4700.99761383, 16366.40448678,  8366.94149819,\n",
              "        3913.59599334,  6095.09674006,  3210.25666002,  5564.13450159,\n",
              "        6679.26620367, 12239.2804427 , 13845.31361004,  3113.75005181,\n",
              "       14400.98574659,  8211.77920422,  7291.01153982,  7005.27638823,\n",
              "       14382.65572478,  4090.63459185,   997.60786105,  7156.98671082,\n",
              "        7484.24856865,  7486.09047753,  6833.65577443, 12743.31206642,\n",
              "        7215.16451995, 12487.1917332 ,  8479.70159009,  3668.31313593,\n",
              "        5791.69173946,  4781.15103126,  4333.96730338, 21393.72303076,\n",
              "        4707.94413034,  4948.35662022, 11421.05661555,  6735.03764602,\n",
              "        5934.81080304,  4495.18433435,  7041.6675942 ,  2528.6314269 ,\n",
              "       12964.13567259,  7701.50498418,  4232.41067366, 10632.25172079,\n",
              "       19163.81803561,  9080.76255925,  2726.89688495, 13101.34231578,\n",
              "        9843.58418685, 14588.69677311,  3315.74919385,  1933.00998952,\n",
              "        5720.5781873 , 11401.44473868,  8075.94749345, 11969.49475165,\n",
              "        3238.15696927,  6272.31192753,  9156.93551131,  2742.11577807,\n",
              "        6944.74153061,  9609.15597762,  2121.58105839,  7720.99958954,\n",
              "       11132.01265702, 15456.4854574 ,  3898.91357547,  6915.25219706,\n",
              "        5372.74517966,  3545.01618656,  1561.02275216,  7240.76730615,\n",
              "        5541.32599685,  6738.31940886,  8613.18735707,  5118.97213512,\n",
              "        6443.01758359,  7348.47303775, 10236.45465988,  7404.98946387,\n",
              "        6614.88340201,  9411.65178597,  9849.75510657,  7577.87959092,\n",
              "        3519.45867399,  4219.49302388,  4490.02840758,  7680.46602634,\n",
              "        6013.6708631 ,  5223.15848113,  4782.94037083, 11869.92356338,\n",
              "        9037.13767088, 11423.86920845,  9179.07283952,  9003.59022335,\n",
              "        4104.91085817,  5960.36481378,  4371.30720798, 11087.11340824,\n",
              "        6505.99503566,  5350.02434668,  9589.03232912,  4629.65682628,\n",
              "       15140.54273606, 11409.59784897,  6818.3474016 , 15493.36277806,\n",
              "        5624.92287781, 10477.55661779,  7256.53805745,  5264.99522915,\n",
              "        8833.47471501,  7304.7316841 ,  5282.53904907,  8516.74457538,\n",
              "        4837.56215724,  4383.66366776,  5536.91936347,  8454.23139705,\n",
              "       11202.90608774,  6925.57738566, 11055.83891436,  9705.65214518,\n",
              "        6485.80547542,  6578.78120492, 11221.41158033, 10445.10060098,\n",
              "        8834.11276429,  4888.08620686,  5173.33069797,  8650.03714001,\n",
              "        8429.43434207,  4934.65056473, 10695.21397403,  5290.99474931,\n",
              "        7835.25371676,  5618.27628384,  2126.81262435,  9649.9621421 ,\n",
              "        4240.43993411, 10407.86626267,  3916.67934378,  6604.03790227,\n",
              "        9590.38144908,  6160.76394233,  4560.26003469,  2591.60840268,\n",
              "        5066.15008149,  9408.710766  , 16718.49851704,  7193.9490885 ,\n",
              "        7197.24016383,  3834.04747846,  6491.16548211,  8171.73703903,\n",
              "        8306.57402091,  8631.33901694,  4086.40632632,  5967.86744376,\n",
              "        7553.3321849 , 13286.13236728,  8862.87072652,  2275.51551764,\n",
              "        6355.23853972,  5767.20876575,  5536.52819291,  5650.07981619,\n",
              "        4096.0775137 ,  4491.14659557,  8621.0506712 ,   879.9154825 ,\n",
              "       12540.75732757,  9043.53382425,  7360.66652874,  2738.66745291,\n",
              "        6809.75381314,  4723.37336017,  7253.00405406,  4378.03550844,\n",
              "       12067.81544994,  6723.45686751, 15506.76125444,  4410.0466788 ,\n",
              "        8112.61231664,  6404.14067244,  8320.1738653 , 13002.93720417,\n",
              "        4922.53871746, 14039.2110386 , 12509.77408875,  6725.90142431,\n",
              "        4201.00374374,  9818.26949486,  8599.46551519,  5215.93742155,\n",
              "       11363.40788416,  3556.7985989 ,  9801.25190033, 11144.11085806,\n",
              "       13681.45467037, 10464.76546925,  4648.16542784,  4612.69921475,\n",
              "        5362.89306293,  9369.90381346,  5610.81181137,  7839.79151052,\n",
              "        5185.31522535,  8062.76228743, 11965.3824103 ,  7819.2216282 ,\n",
              "        3759.69026755,  3373.21621944,  9183.95484023,  3108.30759329,\n",
              "        6074.74912475,  8854.99292087,  4128.98864884,  6163.40919218,\n",
              "        4438.01466698,  7975.28094806, 13082.39719791,  5398.12628579,\n",
              "        5308.72814772, 10160.6416366 ,  2977.9974916 ,  6605.31690086,\n",
              "       10683.86952776,  8717.3158071 ,  2075.1980232 , 11261.78829283,\n",
              "       10872.22280447, 12112.14611126,  3517.28794559,  6293.11517339,\n",
              "        7514.38708202,  8604.67332808,  6503.48967959,  7665.22557736,\n",
              "       11807.39440811,  7021.39092091, 16254.79114654,  7874.61585163,\n",
              "        4942.69534456, 18399.50859718,  2654.77224598, 23584.32757209,\n",
              "        6071.99983988,  9291.98168201,  3617.00496912,  1502.3756597 ,\n",
              "        7268.99893364, 14907.73743098,  3864.31656199,  4220.33248936,\n",
              "        6935.50734896,  4666.01565068,  5406.08736997,  6532.38317485,\n",
              "        7527.60116098,  8726.89042426,  5012.75316248,  6574.55928209,\n",
              "       13649.82683467,  6034.18236611,  5542.68444747, 22797.33244034,\n",
              "        9329.9661588 ,  6474.59917038, 10445.47474744, 12478.20762381,\n",
              "        7084.58811684,  3078.95727626,  7744.24150061,  5708.44515004,\n",
              "        6708.67085143,  5840.17735756,  7567.76159725,  8326.170721  ,\n",
              "        6500.79051218,  4387.29245721,  3753.83293615,  4458.82519084,\n",
              "       11324.39539541,  4916.56369117,  6811.34639377,  7020.73150019,\n",
              "        2670.56826801,  7386.99706384,  9727.21990689, 11154.15841245,\n",
              "        1692.60575506,  7332.96921266,  5727.10575522, 11112.00991557,\n",
              "       15751.45085187,  7697.10481379,  7816.86184178,  8738.66839345,\n",
              "       12030.72574227,  8670.79181515,  2887.41193288,  4949.74476742,\n",
              "        7471.27917748,  4652.73153492,  5827.07122384, 20014.66442811,\n",
              "        8444.20998231,  9507.04912883,  5722.13450532,  9157.72678098,\n",
              "        3921.75674875,  7758.59168258,  8745.64187487,  2990.43164237,\n",
              "        8263.88668281, 14016.26408276,  9624.59640835, 10958.52297917,\n",
              "       10643.75914554,  8397.09797215,  8597.56702891,  4046.25702311,\n",
              "        9165.37275348,  1922.25156685, 10297.65700096,  2079.61785975,\n",
              "        3589.70660401,  9215.88433887,  4923.21206056,  5527.87029022,\n",
              "       10664.23305256,  5162.29613211,  3280.97441149,  5540.78184713,\n",
              "        8734.37029544,  5399.4876236 ,  6590.94754906, 11350.50834154,\n",
              "        2614.08932608,  6053.45439417, 11450.40813706,  3316.72022062,\n",
              "        4545.91674158, 10353.65009641,  6095.21171605, 10300.39047411,\n",
              "       10990.13794072, 18644.14669766,  1301.56067495,  2631.12383154,\n",
              "        4441.65815859,  9938.07197627,  5609.59659932,  4925.01933337,\n",
              "         816.34059784,  7730.5152935 , 18557.70968373,  6770.19741418,\n",
              "       21417.80597916,  3898.49394389,  7147.85774254, 12392.34982988,\n",
              "        7288.55374411,  3410.02745242,  6736.55220106,  3841.02275078,\n",
              "        5465.26691957,  4621.61747367,  2192.02194506,  7013.83707261,\n",
              "        8282.19812267,  3693.68920557,  6559.79540195,  2243.34380919,\n",
              "        6598.34835544, 12192.98129474,  9477.84269236, 13675.80185905,\n",
              "        8434.01646945, 15032.13815741,  7081.19814936, 13460.28283834,\n",
              "        6623.29957308,  5400.45546694, 11043.34707545,  3514.09325191,\n",
              "        4765.18121792, 12026.72545798,  5500.48560777,  9841.62046857,\n",
              "        8323.25401184, 11143.11472874,  5561.40905276,  3591.4154423 ,\n",
              "        7431.35292962,  6199.88824675,  3610.81226887,  8091.17130731,\n",
              "        6119.25786506,  8660.31842863,  7858.63507241,  8213.57785559,\n",
              "        8897.98316211,  6549.37532945,  1735.52442929,  8308.40557776,\n",
              "       10754.17093902,  8076.48931625,  8665.6204383 ,  4222.21851062,\n",
              "        7326.98599485,  8354.44182704,  7889.21799356,  8931.38107349,\n",
              "        6132.50543797, 12186.66019552,  5681.73744278, 13975.39533978,\n",
              "       19119.34635356,  4857.59333476,  4930.52522989, 22457.10996926,\n",
              "        8559.99528146, 18099.29911679,  1759.32088482,  4565.39247733,\n",
              "        5124.16013452,  5287.82285068,  6898.24902122,  6025.49523815,\n",
              "        9211.14942787, 16357.90751652,  5347.1462595 ,  6252.20182503,\n",
              "        3621.40111271, 13878.03258988,  6970.37053075,  6596.92076714,\n",
              "        3548.32451166,  3700.70937658,  7492.77840836,  7816.81240577,\n",
              "        6429.92561235, 11792.35391359,  7112.42268763,  9913.8555289 ,\n",
              "        4236.37514484,  2361.74963322,  8577.1196694 ,  6494.25298694,\n",
              "        9810.77911467,  2377.87394261,  3780.24694674,  4714.39921888,\n",
              "        5566.19482628, 12508.03901427, 12757.27662488,  9533.28322442,\n",
              "        5709.3983653 ,  8508.9028031 ,  6077.30872384, 10747.96068416,\n",
              "        8975.42255213,  7072.13572753, 15082.28795276, 10153.4049227 ,\n",
              "        9948.0739079 ,  8310.19166398,  6193.01739436,  1526.63182321,\n",
              "        3445.69663421,  4451.45923337,  4948.4558542 ,  9234.99136926,\n",
              "        6022.6636763 ,  6104.71737804,  8063.92159917,  8096.86976419,\n",
              "        9259.01917654,  7149.05815615,  8482.17015728,  8196.31182477,\n",
              "        4911.25490811,  4276.38440126,  5275.83839366,  7047.31165383,\n",
              "        5666.19635874, 20715.84176308, 10250.23868519,  3929.30044719,\n",
              "        9511.7264942 ,  7546.91818314,  6076.9384473 ,  7081.33217515,\n",
              "        5561.19197083,  6828.02070626,  6991.34346449,  8525.29782675,\n",
              "        7125.18992807,  6182.50516312,  5023.6072968 ,  6450.11636307,\n",
              "        2977.9974916 ,  6871.50244751,  8376.02549283,  6701.3527795 ,\n",
              "        5676.13705694,  6427.3295862 ,  7744.13521675,  2588.26788379,\n",
              "        9462.0807556 ,  7847.02668735, 13039.28432462,  5739.50073391,\n",
              "        4376.14985844,  8497.43458888,  7639.24466806,  6434.7937083 ,\n",
              "        4239.32954776,  8783.47438319,  8691.0448737 ,  4096.86394821,\n",
              "        8404.38082326,  8793.97148951, 15206.66400918,  3450.7089548 ,\n",
              "        2328.06318718,  3342.32130137,  7449.40063992,  9071.90027396,\n",
              "        8980.31514641,  3180.61513746,  7602.99534496,  9674.70484295,\n",
              "        2939.83488973,  4673.85757585,  6553.80787513,  7423.26641162,\n",
              "        8528.78159888,  8221.85808685,  8024.99545934, 13144.16328287,\n",
              "        7197.0815765 , 12942.94725846,  3884.91912685, 16243.0664067 ,\n",
              "        6612.83716499,  7413.27891528,  5981.87011764, 10834.68161684,\n",
              "        7567.91445409, 11033.15907197,  4085.01392972,  4133.93977522,\n",
              "       12391.23504827,  5662.99249693,   995.76630838,  6096.23201329,\n",
              "        8336.62828089,  2192.45419079, 10572.24782469,  7610.70097664,\n",
              "        9854.35770922,  8333.94557005,  7243.76604752,  7416.77251004,\n",
              "       12882.09825615,  9837.68584979,  9615.6732298 ,  5932.06277618,\n",
              "        2355.21252716,  6010.910169  ,  8707.0872992 ,  9272.09339985,\n",
              "        2689.91899491,  1014.32239878,  7863.41045728,  5537.04243248,\n",
              "        6265.32669598,  8211.36302797,  3056.69693133,  9746.49771371,\n",
              "        5922.56279915,  4104.9920202 ,  5632.65580325,  4691.01887641,\n",
              "        8668.45687647, 10956.82502296,  1979.35648165,  9893.02759142,\n",
              "        4888.456886  ,  3391.32213621,  7202.70689962, 15337.98223496,\n",
              "        9328.29766069, 14930.59024798,  8402.23834171,   946.93919904,\n",
              "       15012.15116406, 10680.91114073,  8363.78377488,  6859.25458524,\n",
              "        8283.342434  , 11198.47145929,  8118.17517406, 10094.90243341,\n",
              "        9887.26920454,  2937.25600475,  9463.52457453,  9753.02545518,\n",
              "        8977.97277878,  4518.21566319, 12031.36408441,  7935.71683823,\n",
              "       10032.90214757,  7681.8475664 ,  6965.61604891,  3187.45237882,\n",
              "        8035.94869086, 10979.49772566,  1577.00023821,  7252.24781559,\n",
              "        6118.90711055,  8142.94160068,  9108.31186493,  3320.8873615 ,\n",
              "        5284.04376519,  8501.2043356 ,  7070.72936914, 15103.30766108,\n",
              "        9341.68583024, 14597.09488872,  1768.40837222,  2727.72281764,\n",
              "       11902.18917151,  8303.42188331,  7291.96633905, 11380.22871276,\n",
              "        8145.14580256,  4997.97938536, 11490.58423074,  3621.08127604,\n",
              "        9257.96380952,  7889.70283475, 10040.14548196,  3730.23791371,\n",
              "        5366.14596697,  5624.6555243 , 18455.13637408,  1886.28937266,\n",
              "       10784.55272886,  8272.12864922, 20212.20894892,  9765.00371813,\n",
              "        5576.6117941 ,  4488.19612507,  6395.0107165 , 16491.91586685,\n",
              "       12814.37291225,  5574.24436914,  7333.13287733,  6338.23378192,\n",
              "        7675.99471585,  4379.97780155, 10738.2140303 , 15991.37486496,\n",
              "        5745.97235935,  7207.10231536,  8326.25250281,  8649.09128415,\n",
              "       12095.10481503,  3225.4814561 , 10851.82733908,  8387.5274633 ,\n",
              "        7304.22270647,  5444.66099001,  8612.91435593,  7184.05738394,\n",
              "       10082.82944888, 11253.14443788,  8375.99459056, 10574.54885889,\n",
              "        4498.07380508,  6921.66263357, 10813.78455965,  8179.45941226,\n",
              "        9166.4683687 ,  5574.85511439,  6828.82623653, 21087.15953032,\n",
              "        6650.76348211,  8238.23085877,  8737.69395042, 11288.28182524,\n",
              "        4630.61829271,   996.56761428, 11996.14222249,  7512.93904825,\n",
              "       18529.96156197, 14459.11186658,  7188.90531742,  5604.46156738,\n",
              "       14119.77990211,  7698.91528859,   915.66883575,  6921.07996377,\n",
              "        3448.37182254,  1691.56342353,  4388.84507359, 10315.70663489,\n",
              "        9604.56906375,  7502.72044116,  7720.0396064 ,  5977.03312346,\n",
              "       15578.0948619 ,  4178.99572921,  7282.93039673,  6418.37905527,\n",
              "        7481.98054075,  6867.70019206, 20053.70154339,  9667.36082827,\n",
              "       10794.75095999, 10786.22068696,  2299.28376188,  7110.30205232,\n",
              "        7608.31185149,  5649.6139287 ,  3866.10046068,  5840.65037699,\n",
              "        3855.71482542,  9272.59073889,  4698.16912161,  6099.44082015,\n",
              "        7321.24602123,  5861.42591054,  6385.12119875, 13444.64144027,\n",
              "        9942.89832641,  3377.17421596,  6073.73327242,  3089.54010924,\n",
              "        2787.19815471,  7644.38596767,  4716.89239284,  7779.05625213,\n",
              "        8541.23021516,  6913.26386021,  7318.97996701, 10533.84972909,\n",
              "       10496.07835608,  6705.94521923,  7743.58736903,  9511.44058941,\n",
              "        3914.74087488,  7167.0040196 , 12966.02975406,  9057.82075231,\n",
              "        6709.95379811,  8044.39698002, 12361.39574608,  9909.31642115,\n",
              "        2949.88327647,  4759.19356369,  6621.06104275,  2260.17454325,\n",
              "        8187.18867386, 11130.45219996,  4951.11116593, 22766.43803092,\n",
              "        8054.00909644,  3861.10917661, 12121.14912497, 13561.68956488,\n",
              "        3393.64076994,  7835.00523336,  7202.2583922 , 15074.43301496,\n",
              "        6994.24709886, 20749.12772018, 16317.14739431,  6829.77467541,\n",
              "        8560.21268978,  6115.88227992,  5976.70824574,  5748.76343509,\n",
              "       13473.45496405,  5609.83403811,  8124.97175139, 13575.15442687,\n",
              "        9114.14995911, 14435.47720499,  9504.1165296 ,  8302.40862537,\n",
              "        9678.87723444,  4818.59381901,  6213.00067581,  7428.23893951,\n",
              "        7728.14363387,  4469.76717215,  3815.65905844,  3338.64470778,\n",
              "       12930.53374351,  9061.10319262,  4892.89679909,  9109.56669668,\n",
              "        4163.30931891,  4819.89870523, 12550.48590274, 11419.40627767,\n",
              "        6396.74328808,  6905.43564761,  7691.41525872,  6803.21377923,\n",
              "        3520.17515032,  8418.85251513,  8190.9577043 , 10107.05235216,\n",
              "        8058.82146157,  5353.14965086,  6487.73392888,  8961.09190061,\n",
              "        4004.84494337,  3026.8273628 ,  5789.19121767,  7675.417251  ,\n",
              "        9927.30426361,  6918.82414256, 13450.49853546,  7057.00615651,\n",
              "       16872.90284259])"
            ]
          },
          "metadata": {
            "tags": []
          },
          "execution_count": 111
        }
      ]
    },
    {
      "cell_type": "markdown",
      "metadata": {
        "id": "cl4ZOiLrY1da"
      },
      "source": [
        "## b."
      ]
    },
    {
      "cell_type": "code",
      "metadata": {
        "id": "MfjDj8rpYxAw"
      },
      "source": [
        "min_max_scaler = preprocessing.MinMaxScaler()\n",
        "X_minmax = min_max_scaler.fit_transform(X)\n",
        "y_minmax = min_max_scaler.fit_transform(y.values.reshape(-1,1))"
      ],
      "execution_count": 116,
      "outputs": []
    },
    {
      "cell_type": "code",
      "metadata": {
        "id": "N8DvNgZSY9-p",
        "colab": {
          "base_uri": "https://localhost:8080/"
        },
        "outputId": "cd2bbc91-d1e9-439c-e4a8-e052f81936ed"
      },
      "source": [
        "train_X2, valid_X2, train_y2, valid_y2 = train_test_split(X_minmax, y_minmax, test_size=0.4, random_state=1)\n",
        "print(type(train_y2))"
      ],
      "execution_count": 117,
      "outputs": [
        {
          "output_type": "stream",
          "text": [
            "<class 'numpy.ndarray'>\n"
          ],
          "name": "stdout"
        }
      ]
    },
    {
      "cell_type": "markdown",
      "metadata": {
        "id": "rNsePnuZZCV0"
      },
      "source": [
        "##c."
      ]
    },
    {
      "cell_type": "code",
      "metadata": {
        "id": "ukyodEv4ZAJq",
        "colab": {
          "base_uri": "https://localhost:8080/"
        },
        "outputId": "1be30e5d-f1ec-4de4-fcfd-dc52f4421906"
      },
      "source": [
        "train_X2, valid_X2, train_y2, valid_y2 = train_test_split(X_minmax, y_minmax, test_size=0.4, random_state=1)\n",
        "clf = MLPRegressor(hidden_layer_sizes=(2), activation='relu', solver='adam', random_state=1)\n",
        "clf.fit(train_X2, train_y2)\n",
        "y_predicted=clf.predict(train_X2)"
      ],
      "execution_count": 118,
      "outputs": [
        {
          "output_type": "stream",
          "text": [
            "/usr/local/lib/python3.7/dist-packages/sklearn/neural_network/_multilayer_perceptron.py:1342: DataConversionWarning: A column-vector y was passed when a 1d array was expected. Please change the shape of y to (n_samples, ), for example using ravel().\n",
            "  y = column_or_1d(y, warn=True)\n"
          ],
          "name": "stderr"
        }
      ]
    },
    {
      "cell_type": "code",
      "metadata": {
        "id": "rcb8AjPxZG-U",
        "colab": {
          "base_uri": "https://localhost:8080/"
        },
        "outputId": "f4fc0709-fe91-48b8-8562-3b26c40ed2a4"
      },
      "source": [
        "clf.fit(valid_X2, valid_y2)\n",
        "y_valid_predicted=clf.predict(valid_X2)"
      ],
      "execution_count": 119,
      "outputs": [
        {
          "output_type": "stream",
          "text": [
            "/usr/local/lib/python3.7/dist-packages/sklearn/neural_network/_multilayer_perceptron.py:1342: DataConversionWarning: A column-vector y was passed when a 1d array was expected. Please change the shape of y to (n_samples, ), for example using ravel().\n",
            "  y = column_or_1d(y, warn=True)\n",
            "/usr/local/lib/python3.7/dist-packages/sklearn/neural_network/_multilayer_perceptron.py:571: ConvergenceWarning: Stochastic Optimizer: Maximum iterations (200) reached and the optimization hasn't converged yet.\n",
            "  % self.max_iter, ConvergenceWarning)\n"
          ],
          "name": "stderr"
        }
      ]
    },
    {
      "cell_type": "code",
      "metadata": {
        "id": "h2mAXoVZZIvc",
        "colab": {
          "base_uri": "https://localhost:8080/"
        },
        "outputId": "9cd693e3-c8f9-4c09-9196-b841987c1f1e"
      },
      "source": [
        "rmse_train = sqrt(mean_squared_error(train_y2, y_predicted,squared=False))\n",
        "print(rmse_train)\n",
        "rmse_validation = sqrt(mean_squared_error(valid_y2, y_valid_predicted,squared=False))\n",
        "print(rmse_validation) "
      ],
      "execution_count": 120,
      "outputs": [
        {
          "output_type": "stream",
          "text": [
            "0.34392802964796804\n",
            "0.4162694814518107\n"
          ],
          "name": "stdout"
        }
      ]
    },
    {
      "cell_type": "markdown",
      "metadata": {
        "id": "Xj58L9keZMaE"
      },
      "source": [
        "##d."
      ]
    },
    {
      "cell_type": "code",
      "metadata": {
        "id": "0FekWWnlZK1P",
        "colab": {
          "base_uri": "https://localhost:8080/"
        },
        "outputId": "effc8046-dbd5-4633-e0dc-40a35d4afde6"
      },
      "source": [
        "clf2 = MLPRegressor(hidden_layer_sizes=(5), activation='relu', solver='adam', random_state=1)\n",
        "clf2.fit(train_X2, train_y2)\n",
        "y_predicted2=clf.predict(train_X2)"
      ],
      "execution_count": 121,
      "outputs": [
        {
          "output_type": "stream",
          "text": [
            "/usr/local/lib/python3.7/dist-packages/sklearn/neural_network/_multilayer_perceptron.py:1342: DataConversionWarning: A column-vector y was passed when a 1d array was expected. Please change the shape of y to (n_samples, ), for example using ravel().\n",
            "  y = column_or_1d(y, warn=True)\n"
          ],
          "name": "stderr"
        }
      ]
    },
    {
      "cell_type": "code",
      "metadata": {
        "id": "DuUzZCqAZQb7",
        "colab": {
          "base_uri": "https://localhost:8080/"
        },
        "outputId": "46976437-458c-4528-9758-709876ff8633"
      },
      "source": [
        "clf2.fit(valid_X2, valid_y2)\n",
        "y_valid_predicted2=clf2.predict(valid_X2)"
      ],
      "execution_count": 122,
      "outputs": [
        {
          "output_type": "stream",
          "text": [
            "/usr/local/lib/python3.7/dist-packages/sklearn/neural_network/_multilayer_perceptron.py:1342: DataConversionWarning: A column-vector y was passed when a 1d array was expected. Please change the shape of y to (n_samples, ), for example using ravel().\n",
            "  y = column_or_1d(y, warn=True)\n"
          ],
          "name": "stderr"
        }
      ]
    },
    {
      "cell_type": "code",
      "metadata": {
        "id": "013WbNZvZSZc",
        "colab": {
          "base_uri": "https://localhost:8080/"
        },
        "outputId": "fac4695d-2a7c-4f76-c4e3-868d7e8db1fb"
      },
      "source": [
        "rmse_train2 = sqrt(mean_squared_error(train_y2, y_predicted2,squared=False))\n",
        "print(rmse_train2)\n",
        "rmse_validation2 = sqrt(mean_squared_error(valid_y2, y_valid_predicted2,squared=False))\n",
        "print(rmse_validation2) "
      ],
      "execution_count": 123,
      "outputs": [
        {
          "output_type": "stream",
          "text": [
            "0.4308163114892777\n",
            "0.3694974297591548\n"
          ],
          "name": "stdout"
        }
      ]
    },
    {
      "cell_type": "code",
      "metadata": {
        "id": "-tEEyG_PZdiq",
        "colab": {
          "base_uri": "https://localhost:8080/"
        },
        "outputId": "d989d101-db13-4788-e507-3906a98da3e5"
      },
      "source": [
        "clf3 = MLPRegressor(hidden_layer_sizes=(5,5), activation='relu', solver='adam', random_state=1)\n",
        "clf3.fit(train_X2, train_y2)\n",
        "y_predicted3=clf3.predict(train_X2)"
      ],
      "execution_count": 124,
      "outputs": [
        {
          "output_type": "stream",
          "text": [
            "/usr/local/lib/python3.7/dist-packages/sklearn/neural_network/_multilayer_perceptron.py:1342: DataConversionWarning: A column-vector y was passed when a 1d array was expected. Please change the shape of y to (n_samples, ), for example using ravel().\n",
            "  y = column_or_1d(y, warn=True)\n"
          ],
          "name": "stderr"
        }
      ]
    },
    {
      "cell_type": "code",
      "metadata": {
        "id": "rhaSUT0WZnPI",
        "colab": {
          "base_uri": "https://localhost:8080/"
        },
        "outputId": "25957b38-8042-48ca-bb63-b0af24582ec9"
      },
      "source": [
        "clf3.fit(valid_X2, valid_y2)\n",
        "y_valid_predicted3=clf3.predict(valid_X2)"
      ],
      "execution_count": 125,
      "outputs": [
        {
          "output_type": "stream",
          "text": [
            "/usr/local/lib/python3.7/dist-packages/sklearn/neural_network/_multilayer_perceptron.py:1342: DataConversionWarning: A column-vector y was passed when a 1d array was expected. Please change the shape of y to (n_samples, ), for example using ravel().\n",
            "  y = column_or_1d(y, warn=True)\n"
          ],
          "name": "stderr"
        }
      ]
    },
    {
      "cell_type": "code",
      "metadata": {
        "id": "-E51sZ7YZo_-",
        "colab": {
          "base_uri": "https://localhost:8080/"
        },
        "outputId": "d2baff6c-19c1-4319-d16d-e4f43e3ffcc8"
      },
      "source": [
        "rmse_train3 = sqrt(mean_squared_error(train_y2, y_predicted3,squared=False))\n",
        "print(rmse_train3)\n",
        "rmse_validation3 = sqrt(mean_squared_error(valid_y2, y_valid_predicted3,squared=False))\n",
        "print(rmse_validation3)"
      ],
      "execution_count": 126,
      "outputs": [
        {
          "output_type": "stream",
          "text": [
            "0.36643919641027084\n",
            "0.38182047894579835\n"
          ],
          "name": "stdout"
        }
      ]
    }
  ]
}